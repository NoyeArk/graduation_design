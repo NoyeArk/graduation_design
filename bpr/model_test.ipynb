{
 "cells": [
  {
   "cell_type": "code",
   "execution_count": null,
   "metadata": {},
   "outputs": [],
   "source": [
    "import torch\n",
    "import yaml\n",
    "from tqdm import tqdm\n",
    "import numpy as np\n",
    "from data import BPRSampleGenerator, SeqBPRDataset\n",
    "from torch.utils.data import DataLoader\n",
    "from model import SeqLearn"
   ]
  },
  {
   "cell_type": "code",
   "execution_count": null,
   "metadata": {},
   "outputs": [],
   "source": [
    "with open(\"/graduation_design/bpr/config/bpr.yaml\", 'r', encoding='utf-8') as f:\n",
    "    args = yaml.unsafe_load(f)\n",
    "args"
   ]
  },
  {
   "cell_type": "code",
   "execution_count": null,
   "metadata": {},
   "outputs": [],
   "source": [
    "acf = np.load(args['data']['base_model_path'] + f\"/acf.npy\")"
   ]
  },
  {
   "cell_type": "code",
   "execution_count": null,
   "metadata": {},
   "outputs": [],
   "source": [
    "# 创建数据生成器\n",
    "generator = BPRSampleGenerator(args['data'])\n",
    "seq_samples = generator.generate_seq_samples(\n",
    "    seq_len=args['data']['maxlen'],\n",
    "    num_negatives=args['data']['num_negatives']\n",
    ")\n",
    "\n",
    "# 创建数据集\n",
    "dataset = SeqBPRDataset(seq_samples, args['model']['device'])\n",
    "train_size = int(args['data']['train_valid_split'] * len(dataset))\n",
    "test_size = len(dataset) - train_size\n",
    "train_dataset, test_dataset = torch.utils.data.random_split(dataset, [train_size, test_size])\n",
    "\n",
    "# 创建数据加载器\n",
    "train_loader = DataLoader(train_dataset, batch_size=args['batch_size'], shuffle=True)"
   ]
  },
  {
   "cell_type": "code",
   "execution_count": null,
   "metadata": {},
   "outputs": [],
   "source": [
    "test_loader = DataLoader(test_dataset, batch_size=args['batch_size'], shuffle=False, drop_last=True)"
   ]
  },
  {
   "cell_type": "code",
   "execution_count": null,
   "metadata": {},
   "outputs": [],
   "source": [
    "model = np.load(args['data']['base_model_path'] + f\"/sasrec.npy\")\n",
    "\n",
    "with torch.no_grad():\n",
    "    ndcg_scores = []\n",
    "    for batch in tqdm(test_loader, desc=\"计算NDCG@10...\"):\n",
    "        users, user_seq, pos_items, neg_items, base_model_preds = batch\n",
    "        \n",
    "        # 遍历batch中的每个样本\n",
    "        for i in range(len(users)):\n",
    "            # 获取交互索引\n",
    "            user_id = users[i].item()\n",
    "            pos_item_id = pos_items[i].item()\n",
    "            interaction_idx = generator.get_interaction_index(user_id, pos_item_id)\n",
    "            if interaction_idx is None:\n",
    "                continue\n",
    "\n",
    "            # 获取模型推荐的top物品列表\n",
    "            top_items = model[interaction_idx][2:2+args['topk']]\n",
    "\n",
    "            # 获取用户的实际交互物品\n",
    "            true_items = generator.user_interacted_items[user_id]\n",
    "\n",
    "            # 计算DCG\n",
    "            dcg = 0\n",
    "            for j, item_idx in enumerate(top_items):\n",
    "                if item_idx in true_items:\n",
    "                    dcg += 1 / np.log2(j + 2)\n",
    "            \n",
    "            # 计算IDCG\n",
    "            idcg = 0\n",
    "            for j in range(min(len(true_items), args['topk'])):\n",
    "                idcg += 1 / np.log2(j + 2)\n",
    "\n",
    "            # 计算NDCG\n",
    "            ndcg = dcg / idcg if idcg > 0 else 0\n",
    "            ndcg_scores.append(ndcg)\n",
    "\n",
    "np.mean(ndcg_scores)"
   ]
  },
  {
   "cell_type": "markdown",
   "metadata": {},
   "source": [
    "## 集成模型预测结果"
   ]
  },
  {
   "cell_type": "code",
   "execution_count": null,
   "metadata": {},
   "outputs": [],
   "source": [
    "test_loader = DataLoader(test_dataset, batch_size=args['batch_size'], shuffle=False, drop_last=True)\n",
    "\n",
    "model = SeqLearn(args['model'], args['data'], 6033, generator.n_item)\n",
    "# 加载checkpoint\n",
    "ckpt = torch.load(f\"/graduation_design/bpr/ckpt/bpr_epoch1_batch60.pth\")\n",
    "\n",
    "# 过滤掉不需要加载的层\n",
    "filtered_ckpt = {k: v for k, v in ckpt.items() if not k.startswith('item_tower.cex')}\n",
    "\n",
    "# 加载过滤后的权重\n",
    "model.load_state_dict(filtered_ckpt, strict=False)\n",
    "\n",
    "model.eval()\n",
    "with torch.no_grad():\n",
    "    ndcg_scores = []\n",
    "    for batch in tqdm(test_loader, desc=\"计算测试集NDCG\"):\n",
    "        users, user_seq, pos_items, neg_items, base_model_preds = batch\n",
    "\n",
    "        # 获取所有物品的预测分数\n",
    "        all_items = torch.arange(len(generator.item_to_id)).to(args['model']['device'])\n",
    "        all_scores = model.predict(users, user_seq, all_items, base_model_preds)\n",
    "\n",
    "        _, indices = torch.topk(all_scores, args['topk'])\n",
    "\n",
    "        for user_idx in range(len(users)):\n",
    "            # 获取用户的实际交互物品\n",
    "            true_items = generator.user_interacted_items[users[user_idx].item()]\n",
    "\n",
    "            # 计算DCG\n",
    "            dcg = 0\n",
    "            for i, item_idx in enumerate(indices[user_idx]):\n",
    "                if item_idx.item() in true_items:\n",
    "                    dcg += 1 / np.log2(i + 2)\n",
    "\n",
    "            # 计算IDCG\n",
    "            idcg = 0\n",
    "            for i in range(min(len(true_items), args['topk'])):\n",
    "                idcg += 1 / np.log2(i + 2)\n",
    "\n",
    "            # 计算NDCG\n",
    "            ndcg = dcg / idcg if idcg > 0 else 0\n",
    "            ndcg_scores.append(ndcg)\n",
    "\n",
    "np.mean(ndcg_scores)"
   ]
  }
 ],
 "metadata": {
  "kernelspec": {
   "display_name": "base",
   "language": "python",
   "name": "python3"
  },
  "language_info": {
   "codemirror_mode": {
    "name": "ipython",
    "version": 3
   },
   "file_extension": ".py",
   "mimetype": "text/x-python",
   "name": "python",
   "nbconvert_exporter": "python",
   "pygments_lexer": "ipython3",
   "version": "3.10.8"
  }
 },
 "nbformat": 4,
 "nbformat_minor": 2
}
