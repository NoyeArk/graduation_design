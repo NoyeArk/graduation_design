{
 "cells": [
  {
   "cell_type": "code",
   "execution_count": 1,
   "metadata": {},
   "outputs": [],
   "source": [
    "import yaml\n",
    "import torch\n",
    "import numpy as np\n",
    "from tqdm import tqdm\n",
    "from torch.utils.data import DataLoader\n",
    "from data import Data, SeqBPRDataset"
   ]
  },
  {
   "cell_type": "code",
   "execution_count": 2,
   "metadata": {},
   "outputs": [
    {
     "name": "stdout",
     "output_type": "stream",
     "text": [
      ">>>> 数据加载完成: 834449 条交互, 6033 个用户, 3123 个物品\n"
     ]
    },
    {
     "data": {
      "text/plain": [
       "{'base_path': '/Users/horiki/Code/graduation_design/',\n",
       " 'data': {'maxlen': 20,\n",
       "  'is_sample': False,\n",
       "  'base_model_topk': 100,\n",
       "  'device': 'cpu',\n",
       "  'name': 'ml-1m',\n",
       "  'kindle': {'sep': ',',\n",
       "   'n_item': 7844,\n",
       "   'train_test_split': 0.9,\n",
       "   'num_negatives': 1,\n",
       "   'user_threshold': 0,\n",
       "   'item_threshold': 0,\n",
       "   'rating_threshold': 0},\n",
       "  'ml-1m': {'sep': '::',\n",
       "   'n_item': 3952,\n",
       "   'train_test_split': 0.99,\n",
       "   'num_negatives': 1,\n",
       "   'user_threshold': 10,\n",
       "   'item_threshold': 10,\n",
       "   'rating_threshold': 2},\n",
       "  'kuairec': {'sep': ',',\n",
       "   'n_item': 10727,\n",
       "   'train_test_split': 0.99,\n",
       "   'num_negatives': 1,\n",
       "   'user_threshold': 0,\n",
       "   'item_threshold': 0,\n",
       "   'rating_threshold': 0},\n",
       "  'Toys_and_Games': {'sep': ',',\n",
       "   'n_item': 27907,\n",
       "   'train_test_split': 0.9,\n",
       "   'num_negatives': 2,\n",
       "   'user_threshold': 0,\n",
       "   'item_threshold': 0,\n",
       "   'rating_threshold': 0},\n",
       "  'item_path': '/Users/horiki/Code/graduation_design/data/ml-1m/item.csv',\n",
       "  'path': '/Users/horiki/Code/graduation_design/data/ml-1m/interaction.csv',\n",
       "  'item_emb_path': '/Users/horiki/Code/graduation_design/llm_emb/ml-1m/bert_emb64.npy',\n",
       "  'base_model': ['acf', 'fdsa', 'harnn', 'caser', 'pfmc', 'sasrec', 'anam'],\n",
       "  'base_model_path': '/Users/horiki/Code/graduation_design/basemodel_results/ml-1m'},\n",
       " 'model': {'name': 'new_ensrec_wgts_div4_reg2',\n",
       "  'type': 'ensrec_no_basemodel_no_llm',\n",
       "  'lr': 0.001,\n",
       "  'hidden_dim': 64,\n",
       "  'device': 'cpu',\n",
       "  'pretrain_llm': 'bert-base-uncased',\n",
       "  'use_div': True,\n",
       "  'div_tradeoff': 4,\n",
       "  'use_reg': True,\n",
       "  'reg_tradeoff': 2,\n",
       "  'num_transformer_layers': 4,\n",
       "  'num_attention_heads': 8,\n",
       "  'intermediate_size': 256,\n",
       "  'dropout_rate': 0.5},\n",
       " 'topk': 10,\n",
       " 'epoch': 20,\n",
       " 'batch_size': 512}"
      ]
     },
     "execution_count": 2,
     "metadata": {},
     "output_type": "execute_result"
    }
   ],
   "source": [
    "with open(\"config/bert_config.yaml\", 'r', encoding='utf-8') as f:\n",
    "    args = yaml.unsafe_load(f)\n",
    "data = Data(args['data'])\n",
    "args"
   ]
  },
  {
   "cell_type": "code",
   "execution_count": 73,
   "metadata": {},
   "outputs": [],
   "source": [
    "np.save(f'datasets/{args[\"data\"][\"name\"]}/train_samples.npy', data.train_samples)\n",
    "np.save(f'datasets/{args[\"data\"][\"name\"]}/test_samples.npy', data.test_samples)"
   ]
  },
  {
   "cell_type": "code",
   "execution_count": 3,
   "metadata": {},
   "outputs": [],
   "source": [
    "train_samples = np.load(f'datasets/{args[\"data\"][\"name\"]}/train_samples.npy', allow_pickle=True)\n",
    "test_samples = np.load(f'datasets/{args[\"data\"][\"name\"]}/test_samples.npy', allow_pickle=True)\n",
    "train_dataset = SeqBPRDataset(train_samples, args['data']['device'])\n",
    "test_dataset = SeqBPRDataset(test_samples, args['data']['device'], is_test=True)\n",
    "train_loader = DataLoader(train_dataset, batch_size=args['batch_size'], shuffle=True)\n",
    "test_loader = DataLoader(test_dataset, batch_size=args['batch_size'], shuffle=False)"
   ]
  },
  {
   "cell_type": "markdown",
   "metadata": {},
   "source": [
    "## 评估指标"
   ]
  },
  {
   "cell_type": "code",
   "execution_count": 4,
   "metadata": {},
   "outputs": [],
   "source": [
    "def nDCG(rec_items, test_set):\n",
    "    DCG = lambda x: np.sum(x / np.log(np.arange(2, len(x) + 2)))\n",
    "    def get_implict_matrix(rec_items, test_set):\n",
    "        rel_matrix = [[0] * rec_items.shape[1] for _ in range(rec_items.shape[0])]\n",
    "        for user in range(len(test_set)):\n",
    "            for index, item in enumerate(rec_items[user]):\n",
    "                if item in test_set[user]:\n",
    "                    rel_matrix[user][index] = 1\n",
    "        return np.array(rel_matrix)\n",
    "    rel_matrix = get_implict_matrix(rec_items, test_set)\n",
    "    ndcgs = []\n",
    "    for user in range(len(test_set)):\n",
    "        rels = rel_matrix[user]\n",
    "        dcg = DCG(rels)\n",
    "        idcg = DCG(sorted(rels, reverse=True))\n",
    "        ndcg = dcg / idcg if idcg != 0 else 0\n",
    "        ndcgs.append(ndcg)\n",
    "    return ndcgs\n",
    "\n",
    "def map(recommended_items, interacted_items):\n",
    "    interacted_set = set(interacted_items)\n",
    "\n",
    "    hits, precisions = [], []\n",
    "    relevant_count = 0\n",
    "    for i, item in enumerate(recommended_items):\n",
    "        position = i + 1  # 位置从1开始计数\n",
    "\n",
    "        is_relevant = item in interacted_set\n",
    "        hits.append(1 if is_relevant else 0)\n",
    "        if is_relevant:\n",
    "            relevant_count += 1\n",
    "            precision_at_k = relevant_count / position\n",
    "            precisions.append(precision_at_k)\n",
    "\n",
    "    if not precisions:\n",
    "        return 0.0\n",
    "    return sum(precisions) / len(precisions)\n",
    "\n",
    "def mrr(results, relevant_docs):\n",
    "    relevant_set = set(relevant_docs)\n",
    "    rank = 0\n",
    "    for i, doc_id in enumerate(results):\n",
    "        if doc_id in relevant_set:\n",
    "            rank = i + 1  # 排名从1开始\n",
    "            break\n",
    "    if rank > 0:\n",
    "        reciprocal_rank = 1.0 / rank\n",
    "        return reciprocal_rank\n",
    "    else:\n",
    "        return 0.0\n",
    "\n",
    "def infer(model, topk):\n",
    "    with torch.no_grad():\n",
    "        ndcgs, maps, mrrs = [], [], []\n",
    "        for batch in tqdm(test_loader, desc=\"计算测试集指标\"):\n",
    "            \n",
    "            all_scores = model(batch, is_test=True)\n",
    "            scores, indices = torch.topk(all_scores, topk)\n",
    "\n",
    "            for i in range(len(batch['user_id'])):\n",
    "                user_id = batch['user_id'][i].item()\n",
    "                pos_item = batch['pos_item'][i].item()\n",
    "\n",
    "                true_item_ids = data.user_interacted_item_ids[user_id]\n",
    "                true_item_ids = true_item_ids[true_item_ids.index(data.item_to_id[pos_item]) + 1:]\n",
    "\n",
    "                predicted_item_ids = np.array([indices[i].cpu().numpy().tolist()])\n",
    "                maps.append(map(predicted_item_ids[0], true_item_ids))\n",
    "                ndcgs.append(nDCG(np.array(predicted_item_ids), [true_item_ids]))\n",
    "                mrrs.append(mrr(predicted_item_ids[0], true_item_ids))\n",
    "    return {'ndcg': np.mean(ndcgs), 'map': np.mean(maps), 'mrr': np.mean(mrrs)}"
   ]
  },
  {
   "cell_type": "markdown",
   "metadata": {},
   "source": [
    "## EnsRec"
   ]
  },
  {
   "cell_type": "code",
   "execution_count": 8,
   "metadata": {},
   "outputs": [
    {
     "ename": "KeyboardInterrupt",
     "evalue": "",
     "output_type": "error",
     "traceback": [
      "\u001b[1;31m---------------------------------------------------------------------------\u001b[0m",
      "\u001b[1;31mKeyboardInterrupt\u001b[0m                         Traceback (most recent call last)",
      "Cell \u001b[1;32mIn[8], line 1\u001b[0m\n\u001b[1;32m----> 1\u001b[0m \u001b[38;5;28;01mfrom\u001b[39;00m \u001b[38;5;21;01mmodel\u001b[39;00m\u001b[38;5;21;01m.\u001b[39;00m\u001b[38;5;21;01mold_ensrec\u001b[39;00m \u001b[38;5;28;01mimport\u001b[39;00m OldEnsRec\n\u001b[0;32m      2\u001b[0m ensrec \u001b[38;5;241m=\u001b[39m OldEnsRec(args[\u001b[38;5;124m'\u001b[39m\u001b[38;5;124mmodel\u001b[39m\u001b[38;5;124m'\u001b[39m], args[\u001b[38;5;124m'\u001b[39m\u001b[38;5;124mdata\u001b[39m\u001b[38;5;124m'\u001b[39m], data\u001b[38;5;241m.\u001b[39mn_user)\n\u001b[0;32m      3\u001b[0m ensrec\u001b[38;5;241m.\u001b[39mload_state_dict(torch\u001b[38;5;241m.\u001b[39mload(\u001b[38;5;124m\"\u001b[39m\u001b[38;5;124mD:\u001b[39m\u001b[38;5;124m\\\u001b[39m\u001b[38;5;124mCode\u001b[39m\u001b[38;5;124m\\\u001b[39m\u001b[38;5;124mgraduation_design/bpr/ckpt/kuairec/ensrec_0.463.pth\u001b[39m\u001b[38;5;124m\"\u001b[39m), strict\u001b[38;5;241m=\u001b[39m\u001b[38;5;28;01mTrue\u001b[39;00m)\n",
      "File \u001b[1;32md:\\Code\\graduation_design\\bpr\\model\\old_ensrec.py:6\u001b[0m\n\u001b[0;32m      3\u001b[0m \u001b[38;5;28;01mimport\u001b[39;00m \u001b[38;5;21;01mtorch\u001b[39;00m\u001b[38;5;21;01m.\u001b[39;00m\u001b[38;5;21;01mnn\u001b[39;00m\u001b[38;5;21;01m.\u001b[39;00m\u001b[38;5;21;01mfunctional\u001b[39;00m \u001b[38;5;28;01mas\u001b[39;00m \u001b[38;5;21;01mF\u001b[39;00m\n\u001b[0;32m      5\u001b[0m \u001b[38;5;28;01mfrom\u001b[39;00m \u001b[38;5;21;01mmodule\u001b[39;00m\u001b[38;5;21;01m.\u001b[39;00m\u001b[38;5;21;01mdien\u001b[39;00m \u001b[38;5;28;01mimport\u001b[39;00m DIEN\n\u001b[1;32m----> 6\u001b[0m \u001b[38;5;28;01mfrom\u001b[39;00m \u001b[38;5;21;01mmodule\u001b[39;00m\u001b[38;5;21;01m.\u001b[39;00m\u001b[38;5;21;01mOld_learn\u001b[39;00m \u001b[38;5;28;01mimport\u001b[39;00m ItemTower\n\u001b[0;32m      9\u001b[0m \u001b[38;5;28;01mclass\u001b[39;00m \u001b[38;5;21;01mOldEnsRec\u001b[39;00m(nn\u001b[38;5;241m.\u001b[39mModule):\n\u001b[0;32m     10\u001b[0m     \u001b[38;5;28;01mdef\u001b[39;00m \u001b[38;5;21m__init__\u001b[39m(\u001b[38;5;28mself\u001b[39m, args, data_args, n_user):\n",
      "File \u001b[1;32md:\\Code\\graduation_design\\bpr\\module\\Old_learn.py:6\u001b[0m\n\u001b[0;32m      4\u001b[0m \u001b[38;5;28;01mfrom\u001b[39;00m \u001b[38;5;21;01mtqdm\u001b[39;00m \u001b[38;5;28;01mimport\u001b[39;00m tqdm\n\u001b[0;32m      5\u001b[0m \u001b[38;5;28;01mimport\u001b[39;00m \u001b[38;5;21;01mtorch\u001b[39;00m\u001b[38;5;21;01m.\u001b[39;00m\u001b[38;5;21;01mnn\u001b[39;00m \u001b[38;5;28;01mas\u001b[39;00m \u001b[38;5;21;01mnn\u001b[39;00m\n\u001b[1;32m----> 6\u001b[0m \u001b[38;5;28;01mfrom\u001b[39;00m \u001b[38;5;21;01mtransformers\u001b[39;00m \u001b[38;5;28;01mimport\u001b[39;00m AutoModel, AutoTokenizer\n\u001b[0;32m      9\u001b[0m \u001b[38;5;28;01mclass\u001b[39;00m \u001b[38;5;21;01mTransformerBlock\u001b[39;00m(nn\u001b[38;5;241m.\u001b[39mModule):\n\u001b[0;32m     10\u001b[0m \u001b[38;5;250m    \u001b[39m\u001b[38;5;124;03m\"\"\"\u001b[39;00m\n\u001b[0;32m     11\u001b[0m \u001b[38;5;124;03m    Transformer编码器块，使用因果注意力\u001b[39;00m\n\u001b[0;32m     12\u001b[0m \u001b[38;5;124;03m    \"\"\"\u001b[39;00m\n",
      "File \u001b[1;32m<frozen importlib._bootstrap>:1075\u001b[0m, in \u001b[0;36m_handle_fromlist\u001b[1;34m(module, fromlist, import_, recursive)\u001b[0m\n",
      "File \u001b[1;32mf:\\anaconda\\anaconda3\\envs\\DeltaZero\\lib\\site-packages\\transformers\\utils\\import_utils.py:1852\u001b[0m, in \u001b[0;36m_LazyModule.__getattr__\u001b[1;34m(self, name)\u001b[0m\n\u001b[0;32m   1850\u001b[0m \u001b[38;5;28;01melif\u001b[39;00m name \u001b[38;5;129;01min\u001b[39;00m \u001b[38;5;28mself\u001b[39m\u001b[38;5;241m.\u001b[39m_class_to_module\u001b[38;5;241m.\u001b[39mkeys():\n\u001b[0;32m   1851\u001b[0m     module \u001b[38;5;241m=\u001b[39m \u001b[38;5;28mself\u001b[39m\u001b[38;5;241m.\u001b[39m_get_module(\u001b[38;5;28mself\u001b[39m\u001b[38;5;241m.\u001b[39m_class_to_module[name])\n\u001b[1;32m-> 1852\u001b[0m     value \u001b[38;5;241m=\u001b[39m \u001b[38;5;28;43mgetattr\u001b[39;49m\u001b[43m(\u001b[49m\u001b[43mmodule\u001b[49m\u001b[43m,\u001b[49m\u001b[43m \u001b[49m\u001b[43mname\u001b[49m\u001b[43m)\u001b[49m\n\u001b[0;32m   1853\u001b[0m \u001b[38;5;28;01melif\u001b[39;00m name \u001b[38;5;129;01min\u001b[39;00m \u001b[38;5;28mself\u001b[39m\u001b[38;5;241m.\u001b[39m_modules:\n\u001b[0;32m   1854\u001b[0m     value \u001b[38;5;241m=\u001b[39m \u001b[38;5;28mself\u001b[39m\u001b[38;5;241m.\u001b[39m_get_module(name)\n",
      "File \u001b[1;32mf:\\anaconda\\anaconda3\\envs\\DeltaZero\\lib\\site-packages\\transformers\\utils\\import_utils.py:1851\u001b[0m, in \u001b[0;36m_LazyModule.__getattr__\u001b[1;34m(self, name)\u001b[0m\n\u001b[0;32m   1849\u001b[0m     value \u001b[38;5;241m=\u001b[39m Placeholder\n\u001b[0;32m   1850\u001b[0m \u001b[38;5;28;01melif\u001b[39;00m name \u001b[38;5;129;01min\u001b[39;00m \u001b[38;5;28mself\u001b[39m\u001b[38;5;241m.\u001b[39m_class_to_module\u001b[38;5;241m.\u001b[39mkeys():\n\u001b[1;32m-> 1851\u001b[0m     module \u001b[38;5;241m=\u001b[39m \u001b[38;5;28;43mself\u001b[39;49m\u001b[38;5;241;43m.\u001b[39;49m\u001b[43m_get_module\u001b[49m\u001b[43m(\u001b[49m\u001b[38;5;28;43mself\u001b[39;49m\u001b[38;5;241;43m.\u001b[39;49m\u001b[43m_class_to_module\u001b[49m\u001b[43m[\u001b[49m\u001b[43mname\u001b[49m\u001b[43m]\u001b[49m\u001b[43m)\u001b[49m\n\u001b[0;32m   1852\u001b[0m     value \u001b[38;5;241m=\u001b[39m \u001b[38;5;28mgetattr\u001b[39m(module, name)\n\u001b[0;32m   1853\u001b[0m \u001b[38;5;28;01melif\u001b[39;00m name \u001b[38;5;129;01min\u001b[39;00m \u001b[38;5;28mself\u001b[39m\u001b[38;5;241m.\u001b[39m_modules:\n",
      "File \u001b[1;32mf:\\anaconda\\anaconda3\\envs\\DeltaZero\\lib\\site-packages\\transformers\\utils\\import_utils.py:1863\u001b[0m, in \u001b[0;36m_LazyModule._get_module\u001b[1;34m(self, module_name)\u001b[0m\n\u001b[0;32m   1861\u001b[0m \u001b[38;5;28;01mdef\u001b[39;00m \u001b[38;5;21m_get_module\u001b[39m(\u001b[38;5;28mself\u001b[39m, module_name: \u001b[38;5;28mstr\u001b[39m):\n\u001b[0;32m   1862\u001b[0m     \u001b[38;5;28;01mtry\u001b[39;00m:\n\u001b[1;32m-> 1863\u001b[0m         \u001b[38;5;28;01mreturn\u001b[39;00m \u001b[43mimportlib\u001b[49m\u001b[38;5;241;43m.\u001b[39;49m\u001b[43mimport_module\u001b[49m\u001b[43m(\u001b[49m\u001b[38;5;124;43m\"\u001b[39;49m\u001b[38;5;124;43m.\u001b[39;49m\u001b[38;5;124;43m\"\u001b[39;49m\u001b[43m \u001b[49m\u001b[38;5;241;43m+\u001b[39;49m\u001b[43m \u001b[49m\u001b[43mmodule_name\u001b[49m\u001b[43m,\u001b[49m\u001b[43m \u001b[49m\u001b[38;5;28;43mself\u001b[39;49m\u001b[38;5;241;43m.\u001b[39;49m\u001b[38;5;18;43m__name__\u001b[39;49m\u001b[43m)\u001b[49m\n\u001b[0;32m   1864\u001b[0m     \u001b[38;5;28;01mexcept\u001b[39;00m \u001b[38;5;167;01mException\u001b[39;00m \u001b[38;5;28;01mas\u001b[39;00m e:\n\u001b[0;32m   1865\u001b[0m         \u001b[38;5;28;01mraise\u001b[39;00m \u001b[38;5;167;01mRuntimeError\u001b[39;00m(\n\u001b[0;32m   1866\u001b[0m             \u001b[38;5;124mf\u001b[39m\u001b[38;5;124m\"\u001b[39m\u001b[38;5;124mFailed to import \u001b[39m\u001b[38;5;132;01m{\u001b[39;00m\u001b[38;5;28mself\u001b[39m\u001b[38;5;241m.\u001b[39m\u001b[38;5;18m__name__\u001b[39m\u001b[38;5;132;01m}\u001b[39;00m\u001b[38;5;124m.\u001b[39m\u001b[38;5;132;01m{\u001b[39;00mmodule_name\u001b[38;5;132;01m}\u001b[39;00m\u001b[38;5;124m because of the following error (look up to see its\u001b[39m\u001b[38;5;124m\"\u001b[39m\n\u001b[0;32m   1867\u001b[0m             \u001b[38;5;124mf\u001b[39m\u001b[38;5;124m\"\u001b[39m\u001b[38;5;124m traceback):\u001b[39m\u001b[38;5;130;01m\\n\u001b[39;00m\u001b[38;5;132;01m{\u001b[39;00me\u001b[38;5;132;01m}\u001b[39;00m\u001b[38;5;124m\"\u001b[39m\n\u001b[0;32m   1868\u001b[0m         ) \u001b[38;5;28;01mfrom\u001b[39;00m \u001b[38;5;21;01me\u001b[39;00m\n",
      "File \u001b[1;32mf:\\anaconda\\anaconda3\\envs\\DeltaZero\\lib\\importlib\\__init__.py:126\u001b[0m, in \u001b[0;36mimport_module\u001b[1;34m(name, package)\u001b[0m\n\u001b[0;32m    124\u001b[0m             \u001b[38;5;28;01mbreak\u001b[39;00m\n\u001b[0;32m    125\u001b[0m         level \u001b[38;5;241m+\u001b[39m\u001b[38;5;241m=\u001b[39m \u001b[38;5;241m1\u001b[39m\n\u001b[1;32m--> 126\u001b[0m \u001b[38;5;28;01mreturn\u001b[39;00m \u001b[43m_bootstrap\u001b[49m\u001b[38;5;241;43m.\u001b[39;49m\u001b[43m_gcd_import\u001b[49m\u001b[43m(\u001b[49m\u001b[43mname\u001b[49m\u001b[43m[\u001b[49m\u001b[43mlevel\u001b[49m\u001b[43m:\u001b[49m\u001b[43m]\u001b[49m\u001b[43m,\u001b[49m\u001b[43m \u001b[49m\u001b[43mpackage\u001b[49m\u001b[43m,\u001b[49m\u001b[43m \u001b[49m\u001b[43mlevel\u001b[49m\u001b[43m)\u001b[49m\n",
      "File \u001b[1;32mf:\\anaconda\\anaconda3\\envs\\DeltaZero\\lib\\site-packages\\transformers\\models\\auto\\modeling_auto.py:21\u001b[0m\n\u001b[0;32m     18\u001b[0m \u001b[38;5;28;01mfrom\u001b[39;00m \u001b[38;5;21;01mcollections\u001b[39;00m \u001b[38;5;28;01mimport\u001b[39;00m OrderedDict\n\u001b[0;32m     20\u001b[0m \u001b[38;5;28;01mfrom\u001b[39;00m \u001b[38;5;21;01m.\u001b[39;00m\u001b[38;5;21;01m.\u001b[39;00m\u001b[38;5;21;01m.\u001b[39;00m\u001b[38;5;21;01mutils\u001b[39;00m \u001b[38;5;28;01mimport\u001b[39;00m logging\n\u001b[1;32m---> 21\u001b[0m \u001b[38;5;28;01mfrom\u001b[39;00m \u001b[38;5;21;01m.\u001b[39;00m\u001b[38;5;21;01mauto_factory\u001b[39;00m \u001b[38;5;28;01mimport\u001b[39;00m (\n\u001b[0;32m     22\u001b[0m     _BaseAutoBackboneClass,\n\u001b[0;32m     23\u001b[0m     _BaseAutoModelClass,\n\u001b[0;32m     24\u001b[0m     _LazyAutoMapping,\n\u001b[0;32m     25\u001b[0m     auto_class_update,\n\u001b[0;32m     26\u001b[0m )\n\u001b[0;32m     27\u001b[0m \u001b[38;5;28;01mfrom\u001b[39;00m \u001b[38;5;21;01m.\u001b[39;00m\u001b[38;5;21;01mconfiguration_auto\u001b[39;00m \u001b[38;5;28;01mimport\u001b[39;00m CONFIG_MAPPING_NAMES\n\u001b[0;32m     30\u001b[0m logger \u001b[38;5;241m=\u001b[39m logging\u001b[38;5;241m.\u001b[39mget_logger(\u001b[38;5;18m__name__\u001b[39m)\n",
      "File \u001b[1;32mf:\\anaconda\\anaconda3\\envs\\DeltaZero\\lib\\site-packages\\transformers\\models\\auto\\auto_factory.py:40\u001b[0m\n\u001b[0;32m     36\u001b[0m \u001b[38;5;28;01mfrom\u001b[39;00m \u001b[38;5;21;01m.\u001b[39;00m\u001b[38;5;21;01mconfiguration_auto\u001b[39;00m \u001b[38;5;28;01mimport\u001b[39;00m AutoConfig, model_type_to_module_name, replace_list_option_in_docstrings\n\u001b[0;32m     39\u001b[0m \u001b[38;5;28;01mif\u001b[39;00m is_torch_available():\n\u001b[1;32m---> 40\u001b[0m     \u001b[38;5;28;01mfrom\u001b[39;00m \u001b[38;5;21;01m.\u001b[39;00m\u001b[38;5;21;01m.\u001b[39;00m\u001b[38;5;21;01m.\u001b[39;00m\u001b[38;5;21;01mgeneration\u001b[39;00m \u001b[38;5;28;01mimport\u001b[39;00m GenerationMixin\n\u001b[0;32m     43\u001b[0m logger \u001b[38;5;241m=\u001b[39m logging\u001b[38;5;241m.\u001b[39mget_logger(\u001b[38;5;18m__name__\u001b[39m)\n\u001b[0;32m     46\u001b[0m CLASS_DOCSTRING \u001b[38;5;241m=\u001b[39m \u001b[38;5;124m\"\"\"\u001b[39m\n\u001b[0;32m     47\u001b[0m \u001b[38;5;124m    This is a generic model class that will be instantiated as one of the model classes of the library when created\u001b[39m\n\u001b[0;32m     48\u001b[0m \u001b[38;5;124m    with the [`~BaseAutoModelClass.from_pretrained`] class method or the [`~BaseAutoModelClass.from_config`] class\u001b[39m\n\u001b[1;32m   (...)\u001b[0m\n\u001b[0;32m     51\u001b[0m \u001b[38;5;124m    This class cannot be instantiated directly using `__init__()` (throws an error).\u001b[39m\n\u001b[0;32m     52\u001b[0m \u001b[38;5;124m\"\"\"\u001b[39m\n",
      "File \u001b[1;32m<frozen importlib._bootstrap>:1075\u001b[0m, in \u001b[0;36m_handle_fromlist\u001b[1;34m(module, fromlist, import_, recursive)\u001b[0m\n",
      "File \u001b[1;32mf:\\anaconda\\anaconda3\\envs\\DeltaZero\\lib\\site-packages\\transformers\\utils\\import_utils.py:1851\u001b[0m, in \u001b[0;36m_LazyModule.__getattr__\u001b[1;34m(self, name)\u001b[0m\n\u001b[0;32m   1849\u001b[0m     value \u001b[38;5;241m=\u001b[39m Placeholder\n\u001b[0;32m   1850\u001b[0m \u001b[38;5;28;01melif\u001b[39;00m name \u001b[38;5;129;01min\u001b[39;00m \u001b[38;5;28mself\u001b[39m\u001b[38;5;241m.\u001b[39m_class_to_module\u001b[38;5;241m.\u001b[39mkeys():\n\u001b[1;32m-> 1851\u001b[0m     module \u001b[38;5;241m=\u001b[39m \u001b[38;5;28;43mself\u001b[39;49m\u001b[38;5;241;43m.\u001b[39;49m\u001b[43m_get_module\u001b[49m\u001b[43m(\u001b[49m\u001b[38;5;28;43mself\u001b[39;49m\u001b[38;5;241;43m.\u001b[39;49m\u001b[43m_class_to_module\u001b[49m\u001b[43m[\u001b[49m\u001b[43mname\u001b[49m\u001b[43m]\u001b[49m\u001b[43m)\u001b[49m\n\u001b[0;32m   1852\u001b[0m     value \u001b[38;5;241m=\u001b[39m \u001b[38;5;28mgetattr\u001b[39m(module, name)\n\u001b[0;32m   1853\u001b[0m \u001b[38;5;28;01melif\u001b[39;00m name \u001b[38;5;129;01min\u001b[39;00m \u001b[38;5;28mself\u001b[39m\u001b[38;5;241m.\u001b[39m_modules:\n",
      "File \u001b[1;32mf:\\anaconda\\anaconda3\\envs\\DeltaZero\\lib\\site-packages\\transformers\\utils\\import_utils.py:1863\u001b[0m, in \u001b[0;36m_LazyModule._get_module\u001b[1;34m(self, module_name)\u001b[0m\n\u001b[0;32m   1861\u001b[0m \u001b[38;5;28;01mdef\u001b[39;00m \u001b[38;5;21m_get_module\u001b[39m(\u001b[38;5;28mself\u001b[39m, module_name: \u001b[38;5;28mstr\u001b[39m):\n\u001b[0;32m   1862\u001b[0m     \u001b[38;5;28;01mtry\u001b[39;00m:\n\u001b[1;32m-> 1863\u001b[0m         \u001b[38;5;28;01mreturn\u001b[39;00m \u001b[43mimportlib\u001b[49m\u001b[38;5;241;43m.\u001b[39;49m\u001b[43mimport_module\u001b[49m\u001b[43m(\u001b[49m\u001b[38;5;124;43m\"\u001b[39;49m\u001b[38;5;124;43m.\u001b[39;49m\u001b[38;5;124;43m\"\u001b[39;49m\u001b[43m \u001b[49m\u001b[38;5;241;43m+\u001b[39;49m\u001b[43m \u001b[49m\u001b[43mmodule_name\u001b[49m\u001b[43m,\u001b[49m\u001b[43m \u001b[49m\u001b[38;5;28;43mself\u001b[39;49m\u001b[38;5;241;43m.\u001b[39;49m\u001b[38;5;18;43m__name__\u001b[39;49m\u001b[43m)\u001b[49m\n\u001b[0;32m   1864\u001b[0m     \u001b[38;5;28;01mexcept\u001b[39;00m \u001b[38;5;167;01mException\u001b[39;00m \u001b[38;5;28;01mas\u001b[39;00m e:\n\u001b[0;32m   1865\u001b[0m         \u001b[38;5;28;01mraise\u001b[39;00m \u001b[38;5;167;01mRuntimeError\u001b[39;00m(\n\u001b[0;32m   1866\u001b[0m             \u001b[38;5;124mf\u001b[39m\u001b[38;5;124m\"\u001b[39m\u001b[38;5;124mFailed to import \u001b[39m\u001b[38;5;132;01m{\u001b[39;00m\u001b[38;5;28mself\u001b[39m\u001b[38;5;241m.\u001b[39m\u001b[38;5;18m__name__\u001b[39m\u001b[38;5;132;01m}\u001b[39;00m\u001b[38;5;124m.\u001b[39m\u001b[38;5;132;01m{\u001b[39;00mmodule_name\u001b[38;5;132;01m}\u001b[39;00m\u001b[38;5;124m because of the following error (look up to see its\u001b[39m\u001b[38;5;124m\"\u001b[39m\n\u001b[0;32m   1867\u001b[0m             \u001b[38;5;124mf\u001b[39m\u001b[38;5;124m\"\u001b[39m\u001b[38;5;124m traceback):\u001b[39m\u001b[38;5;130;01m\\n\u001b[39;00m\u001b[38;5;132;01m{\u001b[39;00me\u001b[38;5;132;01m}\u001b[39;00m\u001b[38;5;124m\"\u001b[39m\n\u001b[0;32m   1868\u001b[0m         ) \u001b[38;5;28;01mfrom\u001b[39;00m \u001b[38;5;21;01me\u001b[39;00m\n",
      "File \u001b[1;32mf:\\anaconda\\anaconda3\\envs\\DeltaZero\\lib\\importlib\\__init__.py:126\u001b[0m, in \u001b[0;36mimport_module\u001b[1;34m(name, package)\u001b[0m\n\u001b[0;32m    124\u001b[0m             \u001b[38;5;28;01mbreak\u001b[39;00m\n\u001b[0;32m    125\u001b[0m         level \u001b[38;5;241m+\u001b[39m\u001b[38;5;241m=\u001b[39m \u001b[38;5;241m1\u001b[39m\n\u001b[1;32m--> 126\u001b[0m \u001b[38;5;28;01mreturn\u001b[39;00m \u001b[43m_bootstrap\u001b[49m\u001b[38;5;241;43m.\u001b[39;49m\u001b[43m_gcd_import\u001b[49m\u001b[43m(\u001b[49m\u001b[43mname\u001b[49m\u001b[43m[\u001b[49m\u001b[43mlevel\u001b[49m\u001b[43m:\u001b[49m\u001b[43m]\u001b[49m\u001b[43m,\u001b[49m\u001b[43m \u001b[49m\u001b[43mpackage\u001b[49m\u001b[43m,\u001b[49m\u001b[43m \u001b[49m\u001b[43mlevel\u001b[49m\u001b[43m)\u001b[49m\n",
      "File \u001b[1;32mf:\\anaconda\\anaconda3\\envs\\DeltaZero\\lib\\site-packages\\transformers\\generation\\utils.py:41\u001b[0m\n\u001b[0;32m     39\u001b[0m \u001b[38;5;28;01mfrom\u001b[39;00m \u001b[38;5;21;01m.\u001b[39;00m\u001b[38;5;21;01m.\u001b[39;00m\u001b[38;5;21;01mintegrations\u001b[39;00m\u001b[38;5;21;01m.\u001b[39;00m\u001b[38;5;21;01mfsdp\u001b[39;00m \u001b[38;5;28;01mimport\u001b[39;00m is_fsdp_managed_module\n\u001b[0;32m     40\u001b[0m \u001b[38;5;28;01mfrom\u001b[39;00m \u001b[38;5;21;01m.\u001b[39;00m\u001b[38;5;21;01m.\u001b[39;00m\u001b[38;5;21;01mmodeling_outputs\u001b[39;00m \u001b[38;5;28;01mimport\u001b[39;00m CausalLMOutputWithPast, Seq2SeqLMOutput\n\u001b[1;32m---> 41\u001b[0m \u001b[38;5;28;01mfrom\u001b[39;00m \u001b[38;5;21;01m.\u001b[39;00m\u001b[38;5;21;01m.\u001b[39;00m\u001b[38;5;21;01mpytorch_utils\u001b[39;00m \u001b[38;5;28;01mimport\u001b[39;00m isin_mps_friendly\n\u001b[0;32m     42\u001b[0m \u001b[38;5;28;01mfrom\u001b[39;00m \u001b[38;5;21;01m.\u001b[39;00m\u001b[38;5;21;01m.\u001b[39;00m\u001b[38;5;21;01mtokenization_utils\u001b[39;00m \u001b[38;5;28;01mimport\u001b[39;00m ExtensionsTrie\n\u001b[0;32m     43\u001b[0m \u001b[38;5;28;01mfrom\u001b[39;00m \u001b[38;5;21;01m.\u001b[39;00m\u001b[38;5;21;01m.\u001b[39;00m\u001b[38;5;21;01mutils\u001b[39;00m \u001b[38;5;28;01mimport\u001b[39;00m (\n\u001b[0;32m     44\u001b[0m     ModelOutput,\n\u001b[0;32m     45\u001b[0m     is_accelerate_available,\n\u001b[1;32m   (...)\u001b[0m\n\u001b[0;32m     49\u001b[0m     logging,\n\u001b[0;32m     50\u001b[0m )\n",
      "File \u001b[1;32mf:\\anaconda\\anaconda3\\envs\\DeltaZero\\lib\\site-packages\\transformers\\pytorch_utils.py:49\u001b[0m\n\u001b[0;32m     47\u001b[0m \u001b[38;5;28;01mif\u001b[39;00m is_torch_greater_or_equal(\u001b[38;5;124m\"\u001b[39m\u001b[38;5;124m2.5\u001b[39m\u001b[38;5;124m\"\u001b[39m) \u001b[38;5;129;01mand\u001b[39;00m _torch_distributed_available:\n\u001b[0;32m     48\u001b[0m     \u001b[38;5;28;01mfrom\u001b[39;00m \u001b[38;5;21;01mtorch\u001b[39;00m\u001b[38;5;21;01m.\u001b[39;00m\u001b[38;5;21;01mdistributed\u001b[39;00m\u001b[38;5;21;01m.\u001b[39;00m\u001b[38;5;21;01mtensor\u001b[39;00m \u001b[38;5;28;01mimport\u001b[39;00m Replicate\n\u001b[1;32m---> 49\u001b[0m     \u001b[38;5;28;01mfrom\u001b[39;00m \u001b[38;5;21;01mtorch\u001b[39;00m\u001b[38;5;21;01m.\u001b[39;00m\u001b[38;5;21;01mdistributed\u001b[39;00m\u001b[38;5;21;01m.\u001b[39;00m\u001b[38;5;21;01mtensor\u001b[39;00m\u001b[38;5;21;01m.\u001b[39;00m\u001b[38;5;21;01mparallel\u001b[39;00m \u001b[38;5;28;01mimport\u001b[39;00m (\n\u001b[0;32m     50\u001b[0m         ColwiseParallel,\n\u001b[0;32m     51\u001b[0m         RowwiseParallel,\n\u001b[0;32m     52\u001b[0m     )\n\u001b[0;32m     55\u001b[0m \u001b[38;5;28;01mdef\u001b[39;00m \u001b[38;5;21msoftmax_backward_data\u001b[39m(parent, grad_output, output, dim, \u001b[38;5;28mself\u001b[39m):\n\u001b[0;32m     56\u001b[0m \u001b[38;5;250m    \u001b[39m\u001b[38;5;124;03m\"\"\"\u001b[39;00m\n\u001b[0;32m     57\u001b[0m \u001b[38;5;124;03m    A function that calls the internal `_softmax_backward_data` PyTorch method and that adjusts the arguments according\u001b[39;00m\n\u001b[0;32m     58\u001b[0m \u001b[38;5;124;03m    to the torch version detected.\u001b[39;00m\n\u001b[0;32m     59\u001b[0m \u001b[38;5;124;03m    \"\"\"\u001b[39;00m\n",
      "File \u001b[1;32mf:\\anaconda\\anaconda3\\envs\\DeltaZero\\lib\\site-packages\\torch\\distributed\\tensor\\parallel\\__init__.py:2\u001b[0m\n\u001b[0;32m      1\u001b[0m \u001b[38;5;66;03m# Copyright (c) Meta Platforms, Inc. and affiliates\u001b[39;00m\n\u001b[1;32m----> 2\u001b[0m \u001b[38;5;28;01mfrom\u001b[39;00m \u001b[38;5;21;01mtorch\u001b[39;00m\u001b[38;5;21;01m.\u001b[39;00m\u001b[38;5;21;01mdistributed\u001b[39;00m\u001b[38;5;21;01m.\u001b[39;00m\u001b[38;5;21;01mtensor\u001b[39;00m\u001b[38;5;21;01m.\u001b[39;00m\u001b[38;5;21;01mparallel\u001b[39;00m\u001b[38;5;21;01m.\u001b[39;00m\u001b[38;5;21;01mapi\u001b[39;00m \u001b[38;5;28;01mimport\u001b[39;00m parallelize_module\n\u001b[0;32m      3\u001b[0m \u001b[38;5;28;01mfrom\u001b[39;00m \u001b[38;5;21;01mtorch\u001b[39;00m\u001b[38;5;21;01m.\u001b[39;00m\u001b[38;5;21;01mdistributed\u001b[39;00m\u001b[38;5;21;01m.\u001b[39;00m\u001b[38;5;21;01mtensor\u001b[39;00m\u001b[38;5;21;01m.\u001b[39;00m\u001b[38;5;21;01mparallel\u001b[39;00m\u001b[38;5;21;01m.\u001b[39;00m\u001b[38;5;21;01mloss\u001b[39;00m \u001b[38;5;28;01mimport\u001b[39;00m loss_parallel\n\u001b[0;32m      4\u001b[0m \u001b[38;5;28;01mfrom\u001b[39;00m \u001b[38;5;21;01mtorch\u001b[39;00m\u001b[38;5;21;01m.\u001b[39;00m\u001b[38;5;21;01mdistributed\u001b[39;00m\u001b[38;5;21;01m.\u001b[39;00m\u001b[38;5;21;01mtensor\u001b[39;00m\u001b[38;5;21;01m.\u001b[39;00m\u001b[38;5;21;01mparallel\u001b[39;00m\u001b[38;5;21;01m.\u001b[39;00m\u001b[38;5;21;01mstyle\u001b[39;00m \u001b[38;5;28;01mimport\u001b[39;00m (\n\u001b[0;32m      5\u001b[0m     ColwiseParallel,\n\u001b[0;32m      6\u001b[0m     ParallelStyle,\n\u001b[1;32m   (...)\u001b[0m\n\u001b[0;32m     10\u001b[0m     SequenceParallel,\n\u001b[0;32m     11\u001b[0m )\n",
      "File \u001b[1;32mf:\\anaconda\\anaconda3\\envs\\DeltaZero\\lib\\site-packages\\torch\\distributed\\tensor\\parallel\\api.py:9\u001b[0m\n\u001b[0;32m      7\u001b[0m \u001b[38;5;28;01mimport\u001b[39;00m \u001b[38;5;21;01mtorch\u001b[39;00m\u001b[38;5;21;01m.\u001b[39;00m\u001b[38;5;21;01mnn\u001b[39;00m \u001b[38;5;28;01mas\u001b[39;00m \u001b[38;5;21;01mnn\u001b[39;00m\n\u001b[0;32m      8\u001b[0m \u001b[38;5;28;01mfrom\u001b[39;00m \u001b[38;5;21;01mtorch\u001b[39;00m\u001b[38;5;21;01m.\u001b[39;00m\u001b[38;5;21;01mdistributed\u001b[39;00m\u001b[38;5;21;01m.\u001b[39;00m\u001b[38;5;21;01mdevice_mesh\u001b[39;00m \u001b[38;5;28;01mimport\u001b[39;00m _mesh_resources, DeviceMesh\n\u001b[1;32m----> 9\u001b[0m \u001b[38;5;28;01mfrom\u001b[39;00m \u001b[38;5;21;01mtorch\u001b[39;00m\u001b[38;5;21;01m.\u001b[39;00m\u001b[38;5;21;01mdistributed\u001b[39;00m\u001b[38;5;21;01m.\u001b[39;00m\u001b[38;5;21;01mtensor\u001b[39;00m\u001b[38;5;21;01m.\u001b[39;00m\u001b[38;5;21;01mparallel\u001b[39;00m\u001b[38;5;21;01m.\u001b[39;00m\u001b[38;5;21;01m_utils\u001b[39;00m \u001b[38;5;28;01mimport\u001b[39;00m _validate_tp_mesh_dim\n\u001b[0;32m     10\u001b[0m \u001b[38;5;28;01mfrom\u001b[39;00m \u001b[38;5;21;01mtorch\u001b[39;00m\u001b[38;5;21;01m.\u001b[39;00m\u001b[38;5;21;01mdistributed\u001b[39;00m\u001b[38;5;21;01m.\u001b[39;00m\u001b[38;5;21;01mtensor\u001b[39;00m\u001b[38;5;21;01m.\u001b[39;00m\u001b[38;5;21;01mparallel\u001b[39;00m\u001b[38;5;21;01m.\u001b[39;00m\u001b[38;5;21;01mstyle\u001b[39;00m \u001b[38;5;28;01mimport\u001b[39;00m ParallelStyle\n\u001b[0;32m     13\u001b[0m __all__ \u001b[38;5;241m=\u001b[39m [\u001b[38;5;124m\"\u001b[39m\u001b[38;5;124mparallelize_module\u001b[39m\u001b[38;5;124m\"\u001b[39m]\n",
      "File \u001b[1;32mf:\\anaconda\\anaconda3\\envs\\DeltaZero\\lib\\site-packages\\torch\\distributed\\tensor\\parallel\\_utils.py:11\u001b[0m\n\u001b[0;32m      7\u001b[0m \u001b[38;5;28;01mfrom\u001b[39;00m \u001b[38;5;21;01mtorch\u001b[39;00m\u001b[38;5;21;01m.\u001b[39;00m\u001b[38;5;21;01mdistributed\u001b[39;00m\u001b[38;5;21;01m.\u001b[39;00m\u001b[38;5;21;01mtensor\u001b[39;00m\u001b[38;5;21;01m.\u001b[39;00m\u001b[38;5;21;01mplacement_types\u001b[39;00m \u001b[38;5;28;01mimport\u001b[39;00m Placement\n\u001b[0;32m     10\u001b[0m \u001b[38;5;28;01mtry\u001b[39;00m:\n\u001b[1;32m---> 11\u001b[0m     \u001b[38;5;28;01mfrom\u001b[39;00m \u001b[38;5;21;01mtorch\u001b[39;00m\u001b[38;5;21;01m.\u001b[39;00m\u001b[38;5;21;01m_dynamo\u001b[39;00m\u001b[38;5;21;01m.\u001b[39;00m\u001b[38;5;21;01mexternal_utils\u001b[39;00m \u001b[38;5;28;01mimport\u001b[39;00m is_compiling \u001b[38;5;28;01mas\u001b[39;00m is_torchdynamo_compiling\n\u001b[0;32m     12\u001b[0m \u001b[38;5;28;01mexcept\u001b[39;00m \u001b[38;5;167;01mException\u001b[39;00m:\n\u001b[0;32m     14\u001b[0m     \u001b[38;5;28;01mdef\u001b[39;00m \u001b[38;5;21mis_torchdynamo_compiling\u001b[39m():  \u001b[38;5;66;03m# type: ignore[misc]\u001b[39;00m\n",
      "File \u001b[1;32mf:\\anaconda\\anaconda3\\envs\\DeltaZero\\lib\\site-packages\\torch\\_dynamo\\__init__.py:3\u001b[0m\n\u001b[0;32m      1\u001b[0m \u001b[38;5;28;01mimport\u001b[39;00m \u001b[38;5;21;01mtorch\u001b[39;00m\n\u001b[1;32m----> 3\u001b[0m \u001b[38;5;28;01mfrom\u001b[39;00m \u001b[38;5;21;01m.\u001b[39;00m \u001b[38;5;28;01mimport\u001b[39;00m convert_frame, eval_frame, resume_execution\n\u001b[0;32m      4\u001b[0m \u001b[38;5;28;01mfrom\u001b[39;00m \u001b[38;5;21;01m.\u001b[39;00m\u001b[38;5;21;01mbackends\u001b[39;00m\u001b[38;5;21;01m.\u001b[39;00m\u001b[38;5;21;01mregistry\u001b[39;00m \u001b[38;5;28;01mimport\u001b[39;00m list_backends, lookup_backend, register_backend\n\u001b[0;32m      5\u001b[0m \u001b[38;5;28;01mfrom\u001b[39;00m \u001b[38;5;21;01m.\u001b[39;00m\u001b[38;5;21;01mcallback\u001b[39;00m \u001b[38;5;28;01mimport\u001b[39;00m callback_handler, on_compile_end, on_compile_start\n",
      "File \u001b[1;32mf:\\anaconda\\anaconda3\\envs\\DeltaZero\\lib\\site-packages\\torch\\_dynamo\\convert_frame.py:33\u001b[0m\n\u001b[0;32m     31\u001b[0m \u001b[38;5;28;01mfrom\u001b[39;00m \u001b[38;5;21;01mtorch\u001b[39;00m\u001b[38;5;21;01m.\u001b[39;00m\u001b[38;5;21;01m_C\u001b[39;00m\u001b[38;5;21;01m.\u001b[39;00m\u001b[38;5;21;01m_dynamo\u001b[39;00m\u001b[38;5;21;01m.\u001b[39;00m\u001b[38;5;21;01mguards\u001b[39;00m \u001b[38;5;28;01mimport\u001b[39;00m GlobalStateGuard\n\u001b[0;32m     32\u001b[0m \u001b[38;5;28;01mfrom\u001b[39;00m \u001b[38;5;21;01mtorch\u001b[39;00m\u001b[38;5;21;01m.\u001b[39;00m\u001b[38;5;21;01m_dynamo\u001b[39;00m\u001b[38;5;21;01m.\u001b[39;00m\u001b[38;5;21;01mdistributed\u001b[39;00m \u001b[38;5;28;01mimport\u001b[39;00m get_compile_pg\n\u001b[1;32m---> 33\u001b[0m \u001b[38;5;28;01mfrom\u001b[39;00m \u001b[38;5;21;01mtorch\u001b[39;00m\u001b[38;5;21;01m.\u001b[39;00m\u001b[38;5;21;01m_dynamo\u001b[39;00m\u001b[38;5;21;01m.\u001b[39;00m\u001b[38;5;21;01msymbolic_convert\u001b[39;00m \u001b[38;5;28;01mimport\u001b[39;00m TensorifyState\n\u001b[0;32m     34\u001b[0m \u001b[38;5;28;01mfrom\u001b[39;00m \u001b[38;5;21;01mtorch\u001b[39;00m\u001b[38;5;21;01m.\u001b[39;00m\u001b[38;5;21;01m_guards\u001b[39;00m \u001b[38;5;28;01mimport\u001b[39;00m compile_context, CompileContext, CompileId, tracing\n\u001b[0;32m     35\u001b[0m \u001b[38;5;28;01mfrom\u001b[39;00m \u001b[38;5;21;01mtorch\u001b[39;00m\u001b[38;5;21;01m.\u001b[39;00m\u001b[38;5;21;01m_logging\u001b[39;00m \u001b[38;5;28;01mimport\u001b[39;00m structured\n",
      "File \u001b[1;32mf:\\anaconda\\anaconda3\\envs\\DeltaZero\\lib\\site-packages\\torch\\_dynamo\\symbolic_convert.py:30\u001b[0m\n\u001b[0;32m     27\u001b[0m \u001b[38;5;28;01mfrom\u001b[39;00m \u001b[38;5;21;01mtorch\u001b[39;00m\u001b[38;5;21;01m.\u001b[39;00m\u001b[38;5;21;01m_dynamo\u001b[39;00m\u001b[38;5;21;01m.\u001b[39;00m\u001b[38;5;21;01mexc\u001b[39;00m \u001b[38;5;28;01mimport\u001b[39;00m TensorifyScalarRestartAnalysis\n\u001b[0;32m     28\u001b[0m \u001b[38;5;28;01mfrom\u001b[39;00m \u001b[38;5;21;01mtorch\u001b[39;00m\u001b[38;5;21;01m.\u001b[39;00m\u001b[38;5;21;01m_guards\u001b[39;00m \u001b[38;5;28;01mimport\u001b[39;00m tracing, TracingContext\n\u001b[1;32m---> 30\u001b[0m \u001b[38;5;28;01mfrom\u001b[39;00m \u001b[38;5;21;01m.\u001b[39;00m \u001b[38;5;28;01mimport\u001b[39;00m config, exc, logging \u001b[38;5;28;01mas\u001b[39;00m torchdynamo_logging, trace_rules, variables\n\u001b[0;32m     31\u001b[0m \u001b[38;5;28;01mfrom\u001b[39;00m \u001b[38;5;21;01m.\u001b[39;00m\u001b[38;5;21;01mbytecode_analysis\u001b[39;00m \u001b[38;5;28;01mimport\u001b[39;00m (\n\u001b[0;32m     32\u001b[0m     get_indexof,\n\u001b[0;32m     33\u001b[0m     JUMP_OPNAMES,\n\u001b[0;32m     34\u001b[0m     livevars_analysis,\n\u001b[0;32m     35\u001b[0m     propagate_line_nums,\n\u001b[0;32m     36\u001b[0m )\n\u001b[0;32m     37\u001b[0m \u001b[38;5;28;01mfrom\u001b[39;00m \u001b[38;5;21;01m.\u001b[39;00m\u001b[38;5;21;01mbytecode_transformation\u001b[39;00m \u001b[38;5;28;01mimport\u001b[39;00m (\n\u001b[0;32m     38\u001b[0m     cleaned_instructions,\n\u001b[0;32m     39\u001b[0m     create_call_function,\n\u001b[1;32m   (...)\u001b[0m\n\u001b[0;32m     46\u001b[0m     unique_id,\n\u001b[0;32m     47\u001b[0m )\n",
      "File \u001b[1;32mf:\\anaconda\\anaconda3\\envs\\DeltaZero\\lib\\site-packages\\torch\\_dynamo\\trace_rules.py:46\u001b[0m\n\u001b[0;32m     44\u001b[0m \u001b[38;5;28;01mfrom\u001b[39;00m \u001b[38;5;21;01m.\u001b[39;00m\u001b[38;5;21;01mresume_execution\u001b[39;00m \u001b[38;5;28;01mimport\u001b[39;00m TORCH_DYNAMO_RESUME_IN_PREFIX\n\u001b[0;32m     45\u001b[0m \u001b[38;5;28;01mfrom\u001b[39;00m \u001b[38;5;21;01m.\u001b[39;00m\u001b[38;5;21;01mutils\u001b[39;00m \u001b[38;5;28;01mimport\u001b[39;00m getfile, hashable, NP_SUPPORTED_MODULES, unwrap_if_wrapper\n\u001b[1;32m---> 46\u001b[0m \u001b[38;5;28;01mfrom\u001b[39;00m \u001b[38;5;21;01m.\u001b[39;00m\u001b[38;5;21;01mvariables\u001b[39;00m \u001b[38;5;28;01mimport\u001b[39;00m (\n\u001b[0;32m     47\u001b[0m     BuiltinVariable,\n\u001b[0;32m     48\u001b[0m     FunctionalCallVariable,\n\u001b[0;32m     49\u001b[0m     FunctorchHigherOrderVariable,\n\u001b[0;32m     50\u001b[0m     NestedUserFunctionVariable,\n\u001b[0;32m     51\u001b[0m     PolyfilledFunctionVariable,\n\u001b[0;32m     52\u001b[0m     SkipFunctionVariable,\n\u001b[0;32m     53\u001b[0m     TorchInGraphFunctionVariable,\n\u001b[0;32m     54\u001b[0m     UserFunctionVariable,\n\u001b[0;32m     55\u001b[0m     UserMethodVariable,\n\u001b[0;32m     56\u001b[0m )\n\u001b[0;32m     59\u001b[0m np: Optional[types\u001b[38;5;241m.\u001b[39mModuleType] \u001b[38;5;241m=\u001b[39m \u001b[38;5;28;01mNone\u001b[39;00m\n\u001b[0;32m     60\u001b[0m \u001b[38;5;28;01mtry\u001b[39;00m:\n",
      "File \u001b[1;32mf:\\anaconda\\anaconda3\\envs\\DeltaZero\\lib\\site-packages\\torch\\_dynamo\\variables\\__init__.py:1\u001b[0m\n\u001b[1;32m----> 1\u001b[0m \u001b[38;5;28;01mfrom\u001b[39;00m \u001b[38;5;21;01m.\u001b[39;00m\u001b[38;5;21;01mbase\u001b[39;00m \u001b[38;5;28;01mimport\u001b[39;00m VariableTracker\n\u001b[0;32m      2\u001b[0m \u001b[38;5;28;01mfrom\u001b[39;00m \u001b[38;5;21;01m.\u001b[39;00m\u001b[38;5;21;01mbuiltin\u001b[39;00m \u001b[38;5;28;01mimport\u001b[39;00m BuiltinVariable\n\u001b[0;32m      3\u001b[0m \u001b[38;5;28;01mfrom\u001b[39;00m \u001b[38;5;21;01m.\u001b[39;00m\u001b[38;5;21;01mconstant\u001b[39;00m \u001b[38;5;28;01mimport\u001b[39;00m ConstantVariable, EnumVariable\n",
      "File \u001b[1;32mf:\\anaconda\\anaconda3\\envs\\DeltaZero\\lib\\site-packages\\torch\\_dynamo\\variables\\base.py:10\u001b[0m\n\u001b[0;32m      8\u001b[0m \u001b[38;5;28;01mfrom\u001b[39;00m \u001b[38;5;21;01m.\u001b[39;00m\u001b[38;5;21;01m.\u001b[39;00m\u001b[38;5;21;01mcurrent_scope_id\u001b[39;00m \u001b[38;5;28;01mimport\u001b[39;00m current_scope_id\n\u001b[0;32m      9\u001b[0m \u001b[38;5;28;01mfrom\u001b[39;00m \u001b[38;5;21;01m.\u001b[39;00m\u001b[38;5;21;01m.\u001b[39;00m\u001b[38;5;21;01mexc\u001b[39;00m \u001b[38;5;28;01mimport\u001b[39;00m unimplemented\n\u001b[1;32m---> 10\u001b[0m \u001b[38;5;28;01mfrom\u001b[39;00m \u001b[38;5;21;01m.\u001b[39;00m\u001b[38;5;21;01m.\u001b[39;00m\u001b[38;5;21;01mguards\u001b[39;00m \u001b[38;5;28;01mimport\u001b[39;00m GuardBuilder, install_guard\n\u001b[0;32m     11\u001b[0m \u001b[38;5;28;01mfrom\u001b[39;00m \u001b[38;5;21;01m.\u001b[39;00m\u001b[38;5;21;01m.\u001b[39;00m\u001b[38;5;21;01msource\u001b[39;00m \u001b[38;5;28;01mimport\u001b[39;00m AttrSource, Source\n\u001b[0;32m     12\u001b[0m \u001b[38;5;28;01mfrom\u001b[39;00m \u001b[38;5;21;01m.\u001b[39;00m\u001b[38;5;21;01m.\u001b[39;00m\u001b[38;5;21;01mutils\u001b[39;00m \u001b[38;5;28;01mimport\u001b[39;00m istype\n",
      "File \u001b[1;32mf:\\anaconda\\anaconda3\\envs\\DeltaZero\\lib\\site-packages\\torch\\_dynamo\\guards.py:53\u001b[0m\n\u001b[0;32m     41\u001b[0m \u001b[38;5;28;01mimport\u001b[39;00m \u001b[38;5;21;01mtorch\u001b[39;00m\u001b[38;5;21;01m.\u001b[39;00m\u001b[38;5;21;01mutils\u001b[39;00m\u001b[38;5;21;01m.\u001b[39;00m\u001b[38;5;21;01m_device\u001b[39;00m\n\u001b[0;32m     42\u001b[0m \u001b[38;5;28;01mfrom\u001b[39;00m \u001b[38;5;21;01mtorch\u001b[39;00m\u001b[38;5;21;01m.\u001b[39;00m\u001b[38;5;21;01m_C\u001b[39;00m\u001b[38;5;21;01m.\u001b[39;00m\u001b[38;5;21;01m_dynamo\u001b[39;00m\u001b[38;5;21;01m.\u001b[39;00m\u001b[38;5;21;01mguards\u001b[39;00m \u001b[38;5;28;01mimport\u001b[39;00m (\n\u001b[0;32m     43\u001b[0m     check_obj_id,\n\u001b[0;32m     44\u001b[0m     check_type_id,\n\u001b[1;32m   (...)\u001b[0m\n\u001b[0;32m     51\u001b[0m     RootGuardManager,\n\u001b[0;32m     52\u001b[0m )\n\u001b[1;32m---> 53\u001b[0m \u001b[38;5;28;01mfrom\u001b[39;00m \u001b[38;5;21;01mtorch\u001b[39;00m\u001b[38;5;21;01m.\u001b[39;00m\u001b[38;5;21;01m_dynamo\u001b[39;00m\u001b[38;5;21;01m.\u001b[39;00m\u001b[38;5;21;01msource\u001b[39;00m \u001b[38;5;28;01mimport\u001b[39;00m (\n\u001b[0;32m     54\u001b[0m     is_from_flatten_script_object_source,\n\u001b[0;32m     55\u001b[0m     is_from_local_source,\n\u001b[0;32m     56\u001b[0m     is_from_optimizer_source,\n\u001b[0;32m     57\u001b[0m     TensorProperty,\n\u001b[0;32m     58\u001b[0m     TensorPropertySource,\n\u001b[0;32m     59\u001b[0m )\n\u001b[0;32m     60\u001b[0m \u001b[38;5;28;01mfrom\u001b[39;00m \u001b[38;5;21;01mtorch\u001b[39;00m\u001b[38;5;21;01m.\u001b[39;00m\u001b[38;5;21;01m_guards\u001b[39;00m \u001b[38;5;28;01mimport\u001b[39;00m (\n\u001b[0;32m     61\u001b[0m     CompileContext,\n\u001b[0;32m     62\u001b[0m     CompileId,\n\u001b[1;32m   (...)\u001b[0m\n\u001b[0;32m     69\u001b[0m     StorageOverlap,\n\u001b[0;32m     70\u001b[0m )\n\u001b[0;32m     71\u001b[0m \u001b[38;5;28;01mfrom\u001b[39;00m \u001b[38;5;21;01mtorch\u001b[39;00m\u001b[38;5;21;01m.\u001b[39;00m\u001b[38;5;21;01m_logging\u001b[39;00m \u001b[38;5;28;01mimport\u001b[39;00m structured\n",
      "File \u001b[1;32mf:\\anaconda\\anaconda3\\envs\\DeltaZero\\lib\\site-packages\\torch\\_dynamo\\source.py:598\u001b[0m\n\u001b[0;32m    593\u001b[0m         \u001b[38;5;28;01melse\u001b[39;00m:\n\u001b[0;32m    594\u001b[0m             \u001b[38;5;28;01mreturn\u001b[39;00m \u001b[38;5;124mf\u001b[39m\u001b[38;5;124m\"\u001b[39m\u001b[38;5;124m___odict_getitem(\u001b[39m\u001b[38;5;132;01m{\u001b[39;00m\u001b[38;5;28mself\u001b[39m\u001b[38;5;241m.\u001b[39mbase\u001b[38;5;241m.\u001b[39mname()\u001b[38;5;132;01m}\u001b[39;00m\u001b[38;5;124m, \u001b[39m\u001b[38;5;132;01m{\u001b[39;00m\u001b[38;5;28mself\u001b[39m\u001b[38;5;241m.\u001b[39mindex\u001b[38;5;132;01m!r}\u001b[39;00m\u001b[38;5;124m)\u001b[39m\u001b[38;5;124m\"\u001b[39m\n\u001b[0;32m    597\u001b[0m \u001b[38;5;129;43m@dataclasses\u001b[39;49m\u001b[38;5;241;43m.\u001b[39;49m\u001b[43mdataclass\u001b[49m\u001b[43m(\u001b[49m\u001b[43mfrozen\u001b[49m\u001b[38;5;241;43m=\u001b[39;49m\u001b[38;5;28;43;01mTrue\u001b[39;49;00m\u001b[43m)\u001b[49m\n\u001b[1;32m--> 598\u001b[0m \u001b[38;5;28;43;01mclass\u001b[39;49;00m\u001b[43m \u001b[49m\u001b[38;5;21;43;01mOptimizerSource\u001b[39;49;00m\u001b[43m(\u001b[49m\u001b[43mChainedSource\u001b[49m\u001b[43m)\u001b[49m\u001b[43m:\u001b[49m\n\u001b[0;32m    599\u001b[0m \u001b[43m    \u001b[49m\u001b[38;5;28;43;01mdef\u001b[39;49;00m\u001b[43m \u001b[49m\u001b[38;5;21;43mreconstruct\u001b[39;49m\u001b[43m(\u001b[49m\u001b[38;5;28;43mself\u001b[39;49m\u001b[43m,\u001b[49m\u001b[43m \u001b[49m\u001b[43mcodegen\u001b[49m\u001b[43m)\u001b[49m\u001b[43m:\u001b[49m\n\u001b[0;32m    600\u001b[0m \u001b[43m        \u001b[49m\u001b[38;5;28;43mself\u001b[39;49m\u001b[38;5;241;43m.\u001b[39;49m\u001b[43mbase\u001b[49m\u001b[38;5;241;43m.\u001b[39;49m\u001b[43mreconstruct\u001b[49m\u001b[43m(\u001b[49m\u001b[43mcodegen\u001b[49m\u001b[43m)\u001b[49m\n",
      "File \u001b[1;32mf:\\anaconda\\anaconda3\\envs\\DeltaZero\\lib\\dataclasses.py:1175\u001b[0m, in \u001b[0;36mdataclass.<locals>.wrap\u001b[1;34m(cls)\u001b[0m\n\u001b[0;32m   1174\u001b[0m \u001b[38;5;28;01mdef\u001b[39;00m \u001b[38;5;21mwrap\u001b[39m(\u001b[38;5;28mcls\u001b[39m):\n\u001b[1;32m-> 1175\u001b[0m     \u001b[38;5;28;01mreturn\u001b[39;00m \u001b[43m_process_class\u001b[49m\u001b[43m(\u001b[49m\u001b[38;5;28;43mcls\u001b[39;49m\u001b[43m,\u001b[49m\u001b[43m \u001b[49m\u001b[43minit\u001b[49m\u001b[43m,\u001b[49m\u001b[43m \u001b[49m\u001b[38;5;28;43mrepr\u001b[39;49m\u001b[43m,\u001b[49m\u001b[43m \u001b[49m\u001b[43meq\u001b[49m\u001b[43m,\u001b[49m\u001b[43m \u001b[49m\u001b[43morder\u001b[49m\u001b[43m,\u001b[49m\u001b[43m \u001b[49m\u001b[43munsafe_hash\u001b[49m\u001b[43m,\u001b[49m\n\u001b[0;32m   1176\u001b[0m \u001b[43m                          \u001b[49m\u001b[43mfrozen\u001b[49m\u001b[43m,\u001b[49m\u001b[43m \u001b[49m\u001b[43mmatch_args\u001b[49m\u001b[43m,\u001b[49m\u001b[43m \u001b[49m\u001b[43mkw_only\u001b[49m\u001b[43m,\u001b[49m\u001b[43m \u001b[49m\u001b[43mslots\u001b[49m\u001b[43m)\u001b[49m\n",
      "File \u001b[1;32mf:\\anaconda\\anaconda3\\envs\\DeltaZero\\lib\\dataclasses.py:1088\u001b[0m, in \u001b[0;36m_process_class\u001b[1;34m(cls, init, repr, eq, order, unsafe_hash, frozen, match_args, kw_only, slots)\u001b[0m\n\u001b[0;32m   1081\u001b[0m hash_action \u001b[38;5;241m=\u001b[39m _hash_action[\u001b[38;5;28mbool\u001b[39m(unsafe_hash),\n\u001b[0;32m   1082\u001b[0m                            \u001b[38;5;28mbool\u001b[39m(eq),\n\u001b[0;32m   1083\u001b[0m                            \u001b[38;5;28mbool\u001b[39m(frozen),\n\u001b[0;32m   1084\u001b[0m                            has_explicit_hash]\n\u001b[0;32m   1085\u001b[0m \u001b[38;5;28;01mif\u001b[39;00m hash_action:\n\u001b[0;32m   1086\u001b[0m     \u001b[38;5;66;03m# No need to call _set_new_attribute here, since by the time\u001b[39;00m\n\u001b[0;32m   1087\u001b[0m     \u001b[38;5;66;03m# we're here the overwriting is unconditional.\u001b[39;00m\n\u001b[1;32m-> 1088\u001b[0m     \u001b[38;5;28mcls\u001b[39m\u001b[38;5;241m.\u001b[39m\u001b[38;5;21m__hash__\u001b[39m \u001b[38;5;241m=\u001b[39m \u001b[43mhash_action\u001b[49m\u001b[43m(\u001b[49m\u001b[38;5;28;43mcls\u001b[39;49m\u001b[43m,\u001b[49m\u001b[43m \u001b[49m\u001b[43mfield_list\u001b[49m\u001b[43m,\u001b[49m\u001b[43m \u001b[49m\u001b[38;5;28;43mglobals\u001b[39;49m\u001b[43m)\u001b[49m\n\u001b[0;32m   1090\u001b[0m \u001b[38;5;28;01mif\u001b[39;00m \u001b[38;5;129;01mnot\u001b[39;00m \u001b[38;5;28mgetattr\u001b[39m(\u001b[38;5;28mcls\u001b[39m, \u001b[38;5;124m'\u001b[39m\u001b[38;5;124m__doc__\u001b[39m\u001b[38;5;124m'\u001b[39m):\n\u001b[0;32m   1091\u001b[0m     \u001b[38;5;66;03m# Create a class doc-string.\u001b[39;00m\n\u001b[0;32m   1092\u001b[0m     \u001b[38;5;28mcls\u001b[39m\u001b[38;5;241m.\u001b[39m\u001b[38;5;18m__doc__\u001b[39m \u001b[38;5;241m=\u001b[39m (\u001b[38;5;28mcls\u001b[39m\u001b[38;5;241m.\u001b[39m\u001b[38;5;18m__name__\u001b[39m \u001b[38;5;241m+\u001b[39m\n\u001b[0;32m   1093\u001b[0m                    \u001b[38;5;28mstr\u001b[39m(inspect\u001b[38;5;241m.\u001b[39msignature(\u001b[38;5;28mcls\u001b[39m))\u001b[38;5;241m.\u001b[39mreplace(\u001b[38;5;124m'\u001b[39m\u001b[38;5;124m -> None\u001b[39m\u001b[38;5;124m'\u001b[39m, \u001b[38;5;124m'\u001b[39m\u001b[38;5;124m'\u001b[39m))\n",
      "File \u001b[1;32mf:\\anaconda\\anaconda3\\envs\\DeltaZero\\lib\\dataclasses.py:844\u001b[0m, in \u001b[0;36m_hash_add\u001b[1;34m(cls, fields, globals)\u001b[0m\n\u001b[0;32m    842\u001b[0m \u001b[38;5;28;01mdef\u001b[39;00m \u001b[38;5;21m_hash_add\u001b[39m(\u001b[38;5;28mcls\u001b[39m, fields, \u001b[38;5;28mglobals\u001b[39m):\n\u001b[0;32m    843\u001b[0m     flds \u001b[38;5;241m=\u001b[39m [f \u001b[38;5;28;01mfor\u001b[39;00m f \u001b[38;5;129;01min\u001b[39;00m fields \u001b[38;5;28;01mif\u001b[39;00m (f\u001b[38;5;241m.\u001b[39mcompare \u001b[38;5;28;01mif\u001b[39;00m f\u001b[38;5;241m.\u001b[39mhash \u001b[38;5;129;01mis\u001b[39;00m \u001b[38;5;28;01mNone\u001b[39;00m \u001b[38;5;28;01melse\u001b[39;00m f\u001b[38;5;241m.\u001b[39mhash)]\n\u001b[1;32m--> 844\u001b[0m     \u001b[38;5;28;01mreturn\u001b[39;00m _set_qualname(\u001b[38;5;28mcls\u001b[39m, \u001b[43m_hash_fn\u001b[49m\u001b[43m(\u001b[49m\u001b[43mflds\u001b[49m\u001b[43m,\u001b[49m\u001b[43m \u001b[49m\u001b[38;5;28;43mglobals\u001b[39;49m\u001b[43m)\u001b[49m)\n",
      "File \u001b[1;32mf:\\anaconda\\anaconda3\\envs\\DeltaZero\\lib\\dataclasses.py:639\u001b[0m, in \u001b[0;36m_hash_fn\u001b[1;34m(fields, globals)\u001b[0m\n\u001b[0;32m    637\u001b[0m \u001b[38;5;28;01mdef\u001b[39;00m \u001b[38;5;21m_hash_fn\u001b[39m(fields, \u001b[38;5;28mglobals\u001b[39m):\n\u001b[0;32m    638\u001b[0m     self_tuple \u001b[38;5;241m=\u001b[39m _tuple_str(\u001b[38;5;124m'\u001b[39m\u001b[38;5;124mself\u001b[39m\u001b[38;5;124m'\u001b[39m, fields)\n\u001b[1;32m--> 639\u001b[0m     \u001b[38;5;28;01mreturn\u001b[39;00m \u001b[43m_create_fn\u001b[49m\u001b[43m(\u001b[49m\u001b[38;5;124;43m'\u001b[39;49m\u001b[38;5;124;43m__hash__\u001b[39;49m\u001b[38;5;124;43m'\u001b[39;49m\u001b[43m,\u001b[49m\n\u001b[0;32m    640\u001b[0m \u001b[43m                      \u001b[49m\u001b[43m(\u001b[49m\u001b[38;5;124;43m'\u001b[39;49m\u001b[38;5;124;43mself\u001b[39;49m\u001b[38;5;124;43m'\u001b[39;49m\u001b[43m,\u001b[49m\u001b[43m)\u001b[49m\u001b[43m,\u001b[49m\n\u001b[0;32m    641\u001b[0m \u001b[43m                      \u001b[49m\u001b[43m[\u001b[49m\u001b[38;5;124;43mf\u001b[39;49m\u001b[38;5;124;43m'\u001b[39;49m\u001b[38;5;124;43mreturn hash(\u001b[39;49m\u001b[38;5;132;43;01m{\u001b[39;49;00m\u001b[43mself_tuple\u001b[49m\u001b[38;5;132;43;01m}\u001b[39;49;00m\u001b[38;5;124;43m)\u001b[39;49m\u001b[38;5;124;43m'\u001b[39;49m\u001b[43m]\u001b[49m\u001b[43m,\u001b[49m\n\u001b[0;32m    642\u001b[0m \u001b[43m                      \u001b[49m\u001b[38;5;28;43mglobals\u001b[39;49m\u001b[38;5;241;43m=\u001b[39;49m\u001b[38;5;28;43mglobals\u001b[39;49m\u001b[43m)\u001b[49m\n",
      "File \u001b[1;32mf:\\anaconda\\anaconda3\\envs\\DeltaZero\\lib\\dataclasses.py:432\u001b[0m, in \u001b[0;36m_create_fn\u001b[1;34m(name, args, body, globals, locals, return_type)\u001b[0m\n\u001b[0;32m    430\u001b[0m txt \u001b[38;5;241m=\u001b[39m \u001b[38;5;124mf\u001b[39m\u001b[38;5;124m\"\u001b[39m\u001b[38;5;124mdef __create_fn__(\u001b[39m\u001b[38;5;132;01m{\u001b[39;00mlocal_vars\u001b[38;5;132;01m}\u001b[39;00m\u001b[38;5;124m):\u001b[39m\u001b[38;5;130;01m\\n\u001b[39;00m\u001b[38;5;132;01m{\u001b[39;00mtxt\u001b[38;5;132;01m}\u001b[39;00m\u001b[38;5;130;01m\\n\u001b[39;00m\u001b[38;5;124m return \u001b[39m\u001b[38;5;132;01m{\u001b[39;00mname\u001b[38;5;132;01m}\u001b[39;00m\u001b[38;5;124m\"\u001b[39m\n\u001b[0;32m    431\u001b[0m ns \u001b[38;5;241m=\u001b[39m {}\n\u001b[1;32m--> 432\u001b[0m \u001b[43mexec\u001b[49m\u001b[43m(\u001b[49m\u001b[43mtxt\u001b[49m\u001b[43m,\u001b[49m\u001b[43m \u001b[49m\u001b[38;5;28;43mglobals\u001b[39;49m\u001b[43m,\u001b[49m\u001b[43m \u001b[49m\u001b[43mns\u001b[49m\u001b[43m)\u001b[49m\n\u001b[0;32m    433\u001b[0m \u001b[38;5;28;01mreturn\u001b[39;00m ns[\u001b[38;5;124m'\u001b[39m\u001b[38;5;124m__create_fn__\u001b[39m\u001b[38;5;124m'\u001b[39m](\u001b[38;5;241m*\u001b[39m\u001b[38;5;241m*\u001b[39m\u001b[38;5;28mlocals\u001b[39m)\n",
      "File \u001b[1;32m<string>:1\u001b[0m\n",
      "\u001b[1;31mKeyboardInterrupt\u001b[0m: "
     ]
    }
   ],
   "source": [
    "from model.old_ensrec import OldEnsRec\n",
    "ensrec = OldEnsRec(args['model'], args['data'], data.n_user)\n",
    "ensrec.load_state_dict(torch.load(\"D:\\Code\\graduation_design/bpr/ckpt/kuairec/ensrec_0.463.pth\"), strict=True)\n",
    "ensrec.eval()"
   ]
  },
  {
   "cell_type": "code",
   "execution_count": 16,
   "metadata": {},
   "outputs": [
    {
     "ename": "RuntimeError",
     "evalue": "Error(s) in loading state_dict for EnsRec:\n\tsize mismatch for user_embeddings.weight: copying a param with shape torch.Size([7356, 64]) from checkpoint, the shape in current model is torch.Size([6033, 64]).\n\tsize mismatch for item_embeddings.weight: copying a param with shape torch.Size([27908, 64]) from checkpoint, the shape in current model is torch.Size([3953, 64]).",
     "output_type": "error",
     "traceback": [
      "\u001b[1;31m---------------------------------------------------------------------------\u001b[0m",
      "\u001b[1;31mRuntimeError\u001b[0m                              Traceback (most recent call last)",
      "Cell \u001b[1;32mIn[16], line 3\u001b[0m\n\u001b[0;32m      1\u001b[0m \u001b[38;5;28;01mfrom\u001b[39;00m \u001b[38;5;21;01mmodel\u001b[39;00m\u001b[38;5;21;01m.\u001b[39;00m\u001b[38;5;21;01mnew_ensrec_ablation\u001b[39;00m\u001b[38;5;21;01m.\u001b[39;00m\u001b[38;5;21;01mno_user\u001b[39;00m \u001b[38;5;28;01mimport\u001b[39;00m EnsRec\n\u001b[0;32m      2\u001b[0m ensrec_no_user \u001b[38;5;241m=\u001b[39m EnsRec(args[\u001b[38;5;124m'\u001b[39m\u001b[38;5;124mmodel\u001b[39m\u001b[38;5;124m'\u001b[39m], args[\u001b[38;5;124m'\u001b[39m\u001b[38;5;124mdata\u001b[39m\u001b[38;5;124m'\u001b[39m], data\u001b[38;5;241m.\u001b[39mn_user, args[\u001b[38;5;124m'\u001b[39m\u001b[38;5;124mdata\u001b[39m\u001b[38;5;124m'\u001b[39m][args[\u001b[38;5;124m'\u001b[39m\u001b[38;5;124mdata\u001b[39m\u001b[38;5;124m'\u001b[39m][\u001b[38;5;124m'\u001b[39m\u001b[38;5;124mname\u001b[39m\u001b[38;5;124m'\u001b[39m]][\u001b[38;5;124m'\u001b[39m\u001b[38;5;124mn_item\u001b[39m\u001b[38;5;124m'\u001b[39m])\n\u001b[1;32m----> 3\u001b[0m \u001b[43mensrec_no_user\u001b[49m\u001b[38;5;241;43m.\u001b[39;49m\u001b[43mload_state_dict\u001b[49m\u001b[43m(\u001b[49m\u001b[43mtorch\u001b[49m\u001b[38;5;241;43m.\u001b[39;49m\u001b[43mload\u001b[49m\u001b[43m(\u001b[49m\u001b[38;5;124;43m\"\u001b[39;49m\u001b[38;5;124;43m../experiment\u001b[39;49m\u001b[38;5;124;43m\\\u001b[39;49m\u001b[38;5;124;43mhyperparameter_learning\u001b[39;49m\u001b[38;5;130;43;01m\\\\\u001b[39;49;00m\u001b[38;5;124;43mtoys_and_games\u001b[39;49m\u001b[38;5;130;43;01m\\\\\u001b[39;49;00m\u001b[38;5;124;43mreg\u001b[39;49m\u001b[38;5;124;43m\\\u001b[39;49m\u001b[38;5;124;43mckpt_new_ensrec_wgts_reg2_Toys_and_Games\u001b[39;49m\u001b[38;5;124;43m\\\u001b[39;49m\u001b[38;5;124;43mepoch19_0.2847.pth\u001b[39;49m\u001b[38;5;124;43m\"\u001b[39;49m\u001b[43m,\u001b[49m\u001b[43m \u001b[49m\u001b[43mmap_location\u001b[49m\u001b[38;5;241;43m=\u001b[39;49m\u001b[43mtorch\u001b[49m\u001b[38;5;241;43m.\u001b[39;49m\u001b[43mdevice\u001b[49m\u001b[43m(\u001b[49m\u001b[38;5;124;43m'\u001b[39;49m\u001b[38;5;124;43mcpu\u001b[39;49m\u001b[38;5;124;43m'\u001b[39;49m\u001b[43m)\u001b[49m\u001b[43m)\u001b[49m\u001b[43m,\u001b[49m\u001b[43m \u001b[49m\u001b[43mstrict\u001b[49m\u001b[38;5;241;43m=\u001b[39;49m\u001b[38;5;28;43;01mFalse\u001b[39;49;00m\u001b[43m)\u001b[49m\n\u001b[0;32m      4\u001b[0m ensrec_no_user\u001b[38;5;241m.\u001b[39meval()\n",
      "File \u001b[1;32mf:\\anaconda\\anaconda3\\envs\\DeltaZero\\lib\\site-packages\\torch\\nn\\modules\\module.py:2581\u001b[0m, in \u001b[0;36mModule.load_state_dict\u001b[1;34m(self, state_dict, strict, assign)\u001b[0m\n\u001b[0;32m   2573\u001b[0m         error_msgs\u001b[38;5;241m.\u001b[39minsert(\n\u001b[0;32m   2574\u001b[0m             \u001b[38;5;241m0\u001b[39m,\n\u001b[0;32m   2575\u001b[0m             \u001b[38;5;124m\"\u001b[39m\u001b[38;5;124mMissing key(s) in state_dict: \u001b[39m\u001b[38;5;132;01m{}\u001b[39;00m\u001b[38;5;124m. \u001b[39m\u001b[38;5;124m\"\u001b[39m\u001b[38;5;241m.\u001b[39mformat(\n\u001b[0;32m   2576\u001b[0m                 \u001b[38;5;124m\"\u001b[39m\u001b[38;5;124m, \u001b[39m\u001b[38;5;124m\"\u001b[39m\u001b[38;5;241m.\u001b[39mjoin(\u001b[38;5;124mf\u001b[39m\u001b[38;5;124m'\u001b[39m\u001b[38;5;124m\"\u001b[39m\u001b[38;5;132;01m{\u001b[39;00mk\u001b[38;5;132;01m}\u001b[39;00m\u001b[38;5;124m\"\u001b[39m\u001b[38;5;124m'\u001b[39m \u001b[38;5;28;01mfor\u001b[39;00m k \u001b[38;5;129;01min\u001b[39;00m missing_keys)\n\u001b[0;32m   2577\u001b[0m             ),\n\u001b[0;32m   2578\u001b[0m         )\n\u001b[0;32m   2580\u001b[0m \u001b[38;5;28;01mif\u001b[39;00m \u001b[38;5;28mlen\u001b[39m(error_msgs) \u001b[38;5;241m>\u001b[39m \u001b[38;5;241m0\u001b[39m:\n\u001b[1;32m-> 2581\u001b[0m     \u001b[38;5;28;01mraise\u001b[39;00m \u001b[38;5;167;01mRuntimeError\u001b[39;00m(\n\u001b[0;32m   2582\u001b[0m         \u001b[38;5;124m\"\u001b[39m\u001b[38;5;124mError(s) in loading state_dict for \u001b[39m\u001b[38;5;132;01m{}\u001b[39;00m\u001b[38;5;124m:\u001b[39m\u001b[38;5;130;01m\\n\u001b[39;00m\u001b[38;5;130;01m\\t\u001b[39;00m\u001b[38;5;132;01m{}\u001b[39;00m\u001b[38;5;124m\"\u001b[39m\u001b[38;5;241m.\u001b[39mformat(\n\u001b[0;32m   2583\u001b[0m             \u001b[38;5;28mself\u001b[39m\u001b[38;5;241m.\u001b[39m\u001b[38;5;18m__class__\u001b[39m\u001b[38;5;241m.\u001b[39m\u001b[38;5;18m__name__\u001b[39m, \u001b[38;5;124m\"\u001b[39m\u001b[38;5;130;01m\\n\u001b[39;00m\u001b[38;5;130;01m\\t\u001b[39;00m\u001b[38;5;124m\"\u001b[39m\u001b[38;5;241m.\u001b[39mjoin(error_msgs)\n\u001b[0;32m   2584\u001b[0m         )\n\u001b[0;32m   2585\u001b[0m     )\n\u001b[0;32m   2586\u001b[0m \u001b[38;5;28;01mreturn\u001b[39;00m _IncompatibleKeys(missing_keys, unexpected_keys)\n",
      "\u001b[1;31mRuntimeError\u001b[0m: Error(s) in loading state_dict for EnsRec:\n\tsize mismatch for user_embeddings.weight: copying a param with shape torch.Size([7356, 64]) from checkpoint, the shape in current model is torch.Size([6033, 64]).\n\tsize mismatch for item_embeddings.weight: copying a param with shape torch.Size([27908, 64]) from checkpoint, the shape in current model is torch.Size([3953, 64])."
     ]
    }
   ],
   "source": [
    "from model.new_ensrec_ablation.no_user import EnsRec\n",
    "ensrec_no_user = EnsRec(args['model'], args['data'], data.n_user, args['data'][args['data']['name']]['n_item'])\n",
    "ensrec_no_user.load_state_dict(torch.load(\"../experiment\\hyperparameter_learning\\\\toys_and_games\\\\reg\\ckpt_new_ensrec_wgts_reg2_Toys_and_Games\\epoch19_0.2847.pth\", map_location=torch.device('cpu')), strict=False)\n",
    "ensrec_no_user.eval()"
   ]
  },
  {
   "cell_type": "code",
   "execution_count": 10,
   "metadata": {},
   "outputs": [
    {
     "name": "stdout",
     "output_type": "stream",
     "text": [
      ">>>> 加载预计算的物品嵌入...\n"
     ]
    },
    {
     "data": {
      "text/plain": [
       "EnsRec(\n",
       "  (dien): DIEN(\n",
       "    (gru_cell): GRUCell(64, 64)\n",
       "    (attention): AttentionLayer(\n",
       "      (q_proj): Linear(in_features=64, out_features=64, bias=True)\n",
       "      (k_proj): Linear(in_features=64, out_features=64, bias=True)\n",
       "      (v_proj): Linear(in_features=64, out_features=64, bias=True)\n",
       "      (dropout): Dropout(p=0.1, inplace=False)\n",
       "    )\n",
       "    (augru_cell): GRUCell(128, 64)\n",
       "    (dropout): Dropout(p=0.1, inplace=False)\n",
       "    (layer_norm): LayerNorm((64,), eps=1e-05, elementwise_affine=True)\n",
       "    (output_layer): Linear(in_features=64, out_features=1, bias=True)\n",
       "  )\n",
       "  (user_embeddings): Embedding(6033, 64)\n",
       "  (item_embeddings): Embedding(3953, 64)\n",
       "  (item_tower): ItemTower(\n",
       "    (item_transform): Sequential(\n",
       "      (0): Linear(in_features=64, out_features=64, bias=True)\n",
       "      (1): ReLU()\n",
       "      (2): Linear(in_features=64, out_features=64, bias=True)\n",
       "    )\n",
       "    (preference_alignment): PreferenceAlignmentModule(\n",
       "      (content_adaptor): Linear(in_features=64, out_features=64, bias=True)\n",
       "      (position_embeddings): Embedding(20, 64)\n",
       "      (transformer_layers): ModuleList(\n",
       "        (0-3): 4 x TransformerBlock(\n",
       "          (attention): MultiheadAttention(\n",
       "            (out_proj): NonDynamicallyQuantizableLinear(in_features=64, out_features=64, bias=True)\n",
       "          )\n",
       "          (feed_forward): Sequential(\n",
       "            (0): Linear(in_features=64, out_features=256, bias=True)\n",
       "            (1): GELU(approximate='none')\n",
       "            (2): Linear(in_features=256, out_features=64, bias=True)\n",
       "          )\n",
       "          (layer_norm1): LayerNorm((64,), eps=1e-05, elementwise_affine=True)\n",
       "          (layer_norm2): LayerNorm((64,), eps=1e-05, elementwise_affine=True)\n",
       "          (dropout): Dropout(p=0.5, inplace=False)\n",
       "        )\n",
       "      )\n",
       "      (online_projection): Linear(in_features=64, out_features=64, bias=True)\n",
       "      (dropout): Dropout(p=0.5, inplace=False)\n",
       "      (layer_norm): LayerNorm((64,), eps=1e-05, elementwise_affine=True)\n",
       "    )\n",
       "    (layer_norm): LayerNorm((64,), eps=1e-05, elementwise_affine=True)\n",
       "  )\n",
       "  (llm_projection): Linear(in_features=64, out_features=64, bias=True)\n",
       ")"
      ]
     },
     "execution_count": 10,
     "metadata": {},
     "output_type": "execute_result"
    }
   ],
   "source": [
    "from model.ensrec_ablation.no_item import EnsRec\n",
    "ensrec = EnsRec(args['model'], args['data'], data.n_user, args['data'][args['data']['name']]['n_item'])\n",
    "ensrec.load_state_dict(torch.load(f\"ckpt/{args['data']['name']}/ensrec_no_item_0.4218.pth\", map_location=torch.device('cpu')), strict=True)\n",
    "ensrec.eval()"
   ]
  },
  {
   "cell_type": "code",
   "execution_count": 3,
   "metadata": {},
   "outputs": [
    {
     "ename": "KeyboardInterrupt",
     "evalue": "",
     "output_type": "error",
     "traceback": [
      "\u001b[1;31m---------------------------------------------------------------------------\u001b[0m",
      "\u001b[1;31mKeyboardInterrupt\u001b[0m                         Traceback (most recent call last)",
      "Cell \u001b[1;32mIn[3], line 1\u001b[0m\n\u001b[1;32m----> 1\u001b[0m \u001b[38;5;28;01mfrom\u001b[39;00m \u001b[38;5;21;01mmodel\u001b[39;00m\u001b[38;5;21;01m.\u001b[39;00m\u001b[38;5;21;01mensrec_ablation\u001b[39;00m\u001b[38;5;21;01m.\u001b[39;00m\u001b[38;5;21;01mno_basemodel\u001b[39;00m \u001b[38;5;28;01mimport\u001b[39;00m EnsRec\n\u001b[0;32m      2\u001b[0m ensrec \u001b[38;5;241m=\u001b[39m EnsRec(args[\u001b[38;5;124m'\u001b[39m\u001b[38;5;124mmodel\u001b[39m\u001b[38;5;124m'\u001b[39m], args[\u001b[38;5;124m'\u001b[39m\u001b[38;5;124mdata\u001b[39m\u001b[38;5;124m'\u001b[39m], data\u001b[38;5;241m.\u001b[39mn_user)\n\u001b[0;32m      3\u001b[0m ensrec\u001b[38;5;241m.\u001b[39mload_state_dict(torch\u001b[38;5;241m.\u001b[39mload(\u001b[38;5;124mf\u001b[39m\u001b[38;5;124m\"\u001b[39m\u001b[38;5;124mckpt/\u001b[39m\u001b[38;5;132;01m{\u001b[39;00margs[\u001b[38;5;124m'\u001b[39m\u001b[38;5;124mdata\u001b[39m\u001b[38;5;124m'\u001b[39m][\u001b[38;5;124m'\u001b[39m\u001b[38;5;124mname\u001b[39m\u001b[38;5;124m'\u001b[39m]\u001b[38;5;132;01m}\u001b[39;00m\u001b[38;5;124m/ensrec_no_basemodel_0.4445.pth\u001b[39m\u001b[38;5;124m\"\u001b[39m, map_location\u001b[38;5;241m=\u001b[39mtorch\u001b[38;5;241m.\u001b[39mdevice(\u001b[38;5;124m'\u001b[39m\u001b[38;5;124mcpu\u001b[39m\u001b[38;5;124m'\u001b[39m)), strict\u001b[38;5;241m=\u001b[39m\u001b[38;5;28;01mTrue\u001b[39;00m)\n",
      "File \u001b[1;32md:\\Code\\graduation_design\\bpr\\model\\ensrec_ablation\\no_basemodel.py:6\u001b[0m\n\u001b[0;32m      3\u001b[0m \u001b[38;5;28;01mimport\u001b[39;00m \u001b[38;5;21;01mtorch\u001b[39;00m\u001b[38;5;21;01m.\u001b[39;00m\u001b[38;5;21;01mnn\u001b[39;00m\u001b[38;5;21;01m.\u001b[39;00m\u001b[38;5;21;01mfunctional\u001b[39;00m \u001b[38;5;28;01mas\u001b[39;00m \u001b[38;5;21;01mF\u001b[39;00m\n\u001b[0;32m      5\u001b[0m \u001b[38;5;28;01mfrom\u001b[39;00m \u001b[38;5;21;01mmodule\u001b[39;00m\u001b[38;5;21;01m.\u001b[39;00m\u001b[38;5;21;01mdien\u001b[39;00m \u001b[38;5;28;01mimport\u001b[39;00m DIEN\n\u001b[1;32m----> 6\u001b[0m \u001b[38;5;28;01mfrom\u001b[39;00m \u001b[38;5;21;01mmodule\u001b[39;00m\u001b[38;5;21;01m.\u001b[39;00m\u001b[38;5;21;01mlearn\u001b[39;00m \u001b[38;5;28;01mimport\u001b[39;00m ItemTower\n\u001b[0;32m      9\u001b[0m \u001b[38;5;28;01mclass\u001b[39;00m \u001b[38;5;21;01mEnsRec\u001b[39;00m(nn\u001b[38;5;241m.\u001b[39mModule):\n\u001b[0;32m     10\u001b[0m     \u001b[38;5;28;01mdef\u001b[39;00m \u001b[38;5;21m__init__\u001b[39m(\u001b[38;5;28mself\u001b[39m, args, data_args, n_user):\n",
      "File \u001b[1;32md:\\Code\\graduation_design\\bpr\\module\\learn.py:8\u001b[0m\n\u001b[0;32m      6\u001b[0m \u001b[38;5;28;01mfrom\u001b[39;00m \u001b[38;5;21;01mtqdm\u001b[39;00m \u001b[38;5;28;01mimport\u001b[39;00m tqdm\n\u001b[0;32m      7\u001b[0m \u001b[38;5;28;01mimport\u001b[39;00m \u001b[38;5;21;01mtorch\u001b[39;00m\u001b[38;5;21;01m.\u001b[39;00m\u001b[38;5;21;01mnn\u001b[39;00m \u001b[38;5;28;01mas\u001b[39;00m \u001b[38;5;21;01mnn\u001b[39;00m\n\u001b[1;32m----> 8\u001b[0m \u001b[38;5;28;01mfrom\u001b[39;00m \u001b[38;5;21;01mtransformers\u001b[39;00m \u001b[38;5;28;01mimport\u001b[39;00m AutoModel, AutoTokenizer\n\u001b[0;32m     11\u001b[0m \u001b[38;5;28;01mclass\u001b[39;00m \u001b[38;5;21;01mTransformerBlock\u001b[39;00m(nn\u001b[38;5;241m.\u001b[39mModule):\n\u001b[0;32m     12\u001b[0m \u001b[38;5;250m    \u001b[39m\u001b[38;5;124;03m\"\"\"\u001b[39;00m\n\u001b[0;32m     13\u001b[0m \u001b[38;5;124;03m    Transformer编码器块，不使用因果注意力\u001b[39;00m\n\u001b[0;32m     14\u001b[0m \u001b[38;5;124;03m    \"\"\"\u001b[39;00m\n",
      "File \u001b[1;32m<frozen importlib._bootstrap>:1075\u001b[0m, in \u001b[0;36m_handle_fromlist\u001b[1;34m(module, fromlist, import_, recursive)\u001b[0m\n",
      "File \u001b[1;32mf:\\anaconda\\anaconda3\\envs\\DeltaZero\\lib\\site-packages\\transformers\\utils\\import_utils.py:1852\u001b[0m, in \u001b[0;36m_LazyModule.__getattr__\u001b[1;34m(self, name)\u001b[0m\n\u001b[0;32m   1850\u001b[0m \u001b[38;5;28;01melif\u001b[39;00m name \u001b[38;5;129;01min\u001b[39;00m \u001b[38;5;28mself\u001b[39m\u001b[38;5;241m.\u001b[39m_class_to_module\u001b[38;5;241m.\u001b[39mkeys():\n\u001b[0;32m   1851\u001b[0m     module \u001b[38;5;241m=\u001b[39m \u001b[38;5;28mself\u001b[39m\u001b[38;5;241m.\u001b[39m_get_module(\u001b[38;5;28mself\u001b[39m\u001b[38;5;241m.\u001b[39m_class_to_module[name])\n\u001b[1;32m-> 1852\u001b[0m     value \u001b[38;5;241m=\u001b[39m \u001b[38;5;28;43mgetattr\u001b[39;49m\u001b[43m(\u001b[49m\u001b[43mmodule\u001b[49m\u001b[43m,\u001b[49m\u001b[43m \u001b[49m\u001b[43mname\u001b[49m\u001b[43m)\u001b[49m\n\u001b[0;32m   1853\u001b[0m \u001b[38;5;28;01melif\u001b[39;00m name \u001b[38;5;129;01min\u001b[39;00m \u001b[38;5;28mself\u001b[39m\u001b[38;5;241m.\u001b[39m_modules:\n\u001b[0;32m   1854\u001b[0m     value \u001b[38;5;241m=\u001b[39m \u001b[38;5;28mself\u001b[39m\u001b[38;5;241m.\u001b[39m_get_module(name)\n",
      "File \u001b[1;32mf:\\anaconda\\anaconda3\\envs\\DeltaZero\\lib\\site-packages\\transformers\\utils\\import_utils.py:1851\u001b[0m, in \u001b[0;36m_LazyModule.__getattr__\u001b[1;34m(self, name)\u001b[0m\n\u001b[0;32m   1849\u001b[0m     value \u001b[38;5;241m=\u001b[39m Placeholder\n\u001b[0;32m   1850\u001b[0m \u001b[38;5;28;01melif\u001b[39;00m name \u001b[38;5;129;01min\u001b[39;00m \u001b[38;5;28mself\u001b[39m\u001b[38;5;241m.\u001b[39m_class_to_module\u001b[38;5;241m.\u001b[39mkeys():\n\u001b[1;32m-> 1851\u001b[0m     module \u001b[38;5;241m=\u001b[39m \u001b[38;5;28;43mself\u001b[39;49m\u001b[38;5;241;43m.\u001b[39;49m\u001b[43m_get_module\u001b[49m\u001b[43m(\u001b[49m\u001b[38;5;28;43mself\u001b[39;49m\u001b[38;5;241;43m.\u001b[39;49m\u001b[43m_class_to_module\u001b[49m\u001b[43m[\u001b[49m\u001b[43mname\u001b[49m\u001b[43m]\u001b[49m\u001b[43m)\u001b[49m\n\u001b[0;32m   1852\u001b[0m     value \u001b[38;5;241m=\u001b[39m \u001b[38;5;28mgetattr\u001b[39m(module, name)\n\u001b[0;32m   1853\u001b[0m \u001b[38;5;28;01melif\u001b[39;00m name \u001b[38;5;129;01min\u001b[39;00m \u001b[38;5;28mself\u001b[39m\u001b[38;5;241m.\u001b[39m_modules:\n",
      "File \u001b[1;32mf:\\anaconda\\anaconda3\\envs\\DeltaZero\\lib\\site-packages\\transformers\\utils\\import_utils.py:1863\u001b[0m, in \u001b[0;36m_LazyModule._get_module\u001b[1;34m(self, module_name)\u001b[0m\n\u001b[0;32m   1861\u001b[0m \u001b[38;5;28;01mdef\u001b[39;00m \u001b[38;5;21m_get_module\u001b[39m(\u001b[38;5;28mself\u001b[39m, module_name: \u001b[38;5;28mstr\u001b[39m):\n\u001b[0;32m   1862\u001b[0m     \u001b[38;5;28;01mtry\u001b[39;00m:\n\u001b[1;32m-> 1863\u001b[0m         \u001b[38;5;28;01mreturn\u001b[39;00m \u001b[43mimportlib\u001b[49m\u001b[38;5;241;43m.\u001b[39;49m\u001b[43mimport_module\u001b[49m\u001b[43m(\u001b[49m\u001b[38;5;124;43m\"\u001b[39;49m\u001b[38;5;124;43m.\u001b[39;49m\u001b[38;5;124;43m\"\u001b[39;49m\u001b[43m \u001b[49m\u001b[38;5;241;43m+\u001b[39;49m\u001b[43m \u001b[49m\u001b[43mmodule_name\u001b[49m\u001b[43m,\u001b[49m\u001b[43m \u001b[49m\u001b[38;5;28;43mself\u001b[39;49m\u001b[38;5;241;43m.\u001b[39;49m\u001b[38;5;18;43m__name__\u001b[39;49m\u001b[43m)\u001b[49m\n\u001b[0;32m   1864\u001b[0m     \u001b[38;5;28;01mexcept\u001b[39;00m \u001b[38;5;167;01mException\u001b[39;00m \u001b[38;5;28;01mas\u001b[39;00m e:\n\u001b[0;32m   1865\u001b[0m         \u001b[38;5;28;01mraise\u001b[39;00m \u001b[38;5;167;01mRuntimeError\u001b[39;00m(\n\u001b[0;32m   1866\u001b[0m             \u001b[38;5;124mf\u001b[39m\u001b[38;5;124m\"\u001b[39m\u001b[38;5;124mFailed to import \u001b[39m\u001b[38;5;132;01m{\u001b[39;00m\u001b[38;5;28mself\u001b[39m\u001b[38;5;241m.\u001b[39m\u001b[38;5;18m__name__\u001b[39m\u001b[38;5;132;01m}\u001b[39;00m\u001b[38;5;124m.\u001b[39m\u001b[38;5;132;01m{\u001b[39;00mmodule_name\u001b[38;5;132;01m}\u001b[39;00m\u001b[38;5;124m because of the following error (look up to see its\u001b[39m\u001b[38;5;124m\"\u001b[39m\n\u001b[0;32m   1867\u001b[0m             \u001b[38;5;124mf\u001b[39m\u001b[38;5;124m\"\u001b[39m\u001b[38;5;124m traceback):\u001b[39m\u001b[38;5;130;01m\\n\u001b[39;00m\u001b[38;5;132;01m{\u001b[39;00me\u001b[38;5;132;01m}\u001b[39;00m\u001b[38;5;124m\"\u001b[39m\n\u001b[0;32m   1868\u001b[0m         ) \u001b[38;5;28;01mfrom\u001b[39;00m \u001b[38;5;21;01me\u001b[39;00m\n",
      "File \u001b[1;32mf:\\anaconda\\anaconda3\\envs\\DeltaZero\\lib\\importlib\\__init__.py:126\u001b[0m, in \u001b[0;36mimport_module\u001b[1;34m(name, package)\u001b[0m\n\u001b[0;32m    124\u001b[0m             \u001b[38;5;28;01mbreak\u001b[39;00m\n\u001b[0;32m    125\u001b[0m         level \u001b[38;5;241m+\u001b[39m\u001b[38;5;241m=\u001b[39m \u001b[38;5;241m1\u001b[39m\n\u001b[1;32m--> 126\u001b[0m \u001b[38;5;28;01mreturn\u001b[39;00m \u001b[43m_bootstrap\u001b[49m\u001b[38;5;241;43m.\u001b[39;49m\u001b[43m_gcd_import\u001b[49m\u001b[43m(\u001b[49m\u001b[43mname\u001b[49m\u001b[43m[\u001b[49m\u001b[43mlevel\u001b[49m\u001b[43m:\u001b[49m\u001b[43m]\u001b[49m\u001b[43m,\u001b[49m\u001b[43m \u001b[49m\u001b[43mpackage\u001b[49m\u001b[43m,\u001b[49m\u001b[43m \u001b[49m\u001b[43mlevel\u001b[49m\u001b[43m)\u001b[49m\n",
      "File \u001b[1;32mf:\\anaconda\\anaconda3\\envs\\DeltaZero\\lib\\site-packages\\transformers\\models\\auto\\modeling_auto.py:21\u001b[0m\n\u001b[0;32m     18\u001b[0m \u001b[38;5;28;01mfrom\u001b[39;00m \u001b[38;5;21;01mcollections\u001b[39;00m \u001b[38;5;28;01mimport\u001b[39;00m OrderedDict\n\u001b[0;32m     20\u001b[0m \u001b[38;5;28;01mfrom\u001b[39;00m \u001b[38;5;21;01m.\u001b[39;00m\u001b[38;5;21;01m.\u001b[39;00m\u001b[38;5;21;01m.\u001b[39;00m\u001b[38;5;21;01mutils\u001b[39;00m \u001b[38;5;28;01mimport\u001b[39;00m logging\n\u001b[1;32m---> 21\u001b[0m \u001b[38;5;28;01mfrom\u001b[39;00m \u001b[38;5;21;01m.\u001b[39;00m\u001b[38;5;21;01mauto_factory\u001b[39;00m \u001b[38;5;28;01mimport\u001b[39;00m (\n\u001b[0;32m     22\u001b[0m     _BaseAutoBackboneClass,\n\u001b[0;32m     23\u001b[0m     _BaseAutoModelClass,\n\u001b[0;32m     24\u001b[0m     _LazyAutoMapping,\n\u001b[0;32m     25\u001b[0m     auto_class_update,\n\u001b[0;32m     26\u001b[0m )\n\u001b[0;32m     27\u001b[0m \u001b[38;5;28;01mfrom\u001b[39;00m \u001b[38;5;21;01m.\u001b[39;00m\u001b[38;5;21;01mconfiguration_auto\u001b[39;00m \u001b[38;5;28;01mimport\u001b[39;00m CONFIG_MAPPING_NAMES\n\u001b[0;32m     30\u001b[0m logger \u001b[38;5;241m=\u001b[39m logging\u001b[38;5;241m.\u001b[39mget_logger(\u001b[38;5;18m__name__\u001b[39m)\n",
      "File \u001b[1;32mf:\\anaconda\\anaconda3\\envs\\DeltaZero\\lib\\site-packages\\transformers\\models\\auto\\auto_factory.py:40\u001b[0m\n\u001b[0;32m     36\u001b[0m \u001b[38;5;28;01mfrom\u001b[39;00m \u001b[38;5;21;01m.\u001b[39;00m\u001b[38;5;21;01mconfiguration_auto\u001b[39;00m \u001b[38;5;28;01mimport\u001b[39;00m AutoConfig, model_type_to_module_name, replace_list_option_in_docstrings\n\u001b[0;32m     39\u001b[0m \u001b[38;5;28;01mif\u001b[39;00m is_torch_available():\n\u001b[1;32m---> 40\u001b[0m     \u001b[38;5;28;01mfrom\u001b[39;00m \u001b[38;5;21;01m.\u001b[39;00m\u001b[38;5;21;01m.\u001b[39;00m\u001b[38;5;21;01m.\u001b[39;00m\u001b[38;5;21;01mgeneration\u001b[39;00m \u001b[38;5;28;01mimport\u001b[39;00m GenerationMixin\n\u001b[0;32m     43\u001b[0m logger \u001b[38;5;241m=\u001b[39m logging\u001b[38;5;241m.\u001b[39mget_logger(\u001b[38;5;18m__name__\u001b[39m)\n\u001b[0;32m     46\u001b[0m CLASS_DOCSTRING \u001b[38;5;241m=\u001b[39m \u001b[38;5;124m\"\"\"\u001b[39m\n\u001b[0;32m     47\u001b[0m \u001b[38;5;124m    This is a generic model class that will be instantiated as one of the model classes of the library when created\u001b[39m\n\u001b[0;32m     48\u001b[0m \u001b[38;5;124m    with the [`~BaseAutoModelClass.from_pretrained`] class method or the [`~BaseAutoModelClass.from_config`] class\u001b[39m\n\u001b[1;32m   (...)\u001b[0m\n\u001b[0;32m     51\u001b[0m \u001b[38;5;124m    This class cannot be instantiated directly using `__init__()` (throws an error).\u001b[39m\n\u001b[0;32m     52\u001b[0m \u001b[38;5;124m\"\"\"\u001b[39m\n",
      "File \u001b[1;32m<frozen importlib._bootstrap>:1075\u001b[0m, in \u001b[0;36m_handle_fromlist\u001b[1;34m(module, fromlist, import_, recursive)\u001b[0m\n",
      "File \u001b[1;32mf:\\anaconda\\anaconda3\\envs\\DeltaZero\\lib\\site-packages\\transformers\\utils\\import_utils.py:1851\u001b[0m, in \u001b[0;36m_LazyModule.__getattr__\u001b[1;34m(self, name)\u001b[0m\n\u001b[0;32m   1849\u001b[0m     value \u001b[38;5;241m=\u001b[39m Placeholder\n\u001b[0;32m   1850\u001b[0m \u001b[38;5;28;01melif\u001b[39;00m name \u001b[38;5;129;01min\u001b[39;00m \u001b[38;5;28mself\u001b[39m\u001b[38;5;241m.\u001b[39m_class_to_module\u001b[38;5;241m.\u001b[39mkeys():\n\u001b[1;32m-> 1851\u001b[0m     module \u001b[38;5;241m=\u001b[39m \u001b[38;5;28;43mself\u001b[39;49m\u001b[38;5;241;43m.\u001b[39;49m\u001b[43m_get_module\u001b[49m\u001b[43m(\u001b[49m\u001b[38;5;28;43mself\u001b[39;49m\u001b[38;5;241;43m.\u001b[39;49m\u001b[43m_class_to_module\u001b[49m\u001b[43m[\u001b[49m\u001b[43mname\u001b[49m\u001b[43m]\u001b[49m\u001b[43m)\u001b[49m\n\u001b[0;32m   1852\u001b[0m     value \u001b[38;5;241m=\u001b[39m \u001b[38;5;28mgetattr\u001b[39m(module, name)\n\u001b[0;32m   1853\u001b[0m \u001b[38;5;28;01melif\u001b[39;00m name \u001b[38;5;129;01min\u001b[39;00m \u001b[38;5;28mself\u001b[39m\u001b[38;5;241m.\u001b[39m_modules:\n",
      "File \u001b[1;32mf:\\anaconda\\anaconda3\\envs\\DeltaZero\\lib\\site-packages\\transformers\\utils\\import_utils.py:1863\u001b[0m, in \u001b[0;36m_LazyModule._get_module\u001b[1;34m(self, module_name)\u001b[0m\n\u001b[0;32m   1861\u001b[0m \u001b[38;5;28;01mdef\u001b[39;00m \u001b[38;5;21m_get_module\u001b[39m(\u001b[38;5;28mself\u001b[39m, module_name: \u001b[38;5;28mstr\u001b[39m):\n\u001b[0;32m   1862\u001b[0m     \u001b[38;5;28;01mtry\u001b[39;00m:\n\u001b[1;32m-> 1863\u001b[0m         \u001b[38;5;28;01mreturn\u001b[39;00m \u001b[43mimportlib\u001b[49m\u001b[38;5;241;43m.\u001b[39;49m\u001b[43mimport_module\u001b[49m\u001b[43m(\u001b[49m\u001b[38;5;124;43m\"\u001b[39;49m\u001b[38;5;124;43m.\u001b[39;49m\u001b[38;5;124;43m\"\u001b[39;49m\u001b[43m \u001b[49m\u001b[38;5;241;43m+\u001b[39;49m\u001b[43m \u001b[49m\u001b[43mmodule_name\u001b[49m\u001b[43m,\u001b[49m\u001b[43m \u001b[49m\u001b[38;5;28;43mself\u001b[39;49m\u001b[38;5;241;43m.\u001b[39;49m\u001b[38;5;18;43m__name__\u001b[39;49m\u001b[43m)\u001b[49m\n\u001b[0;32m   1864\u001b[0m     \u001b[38;5;28;01mexcept\u001b[39;00m \u001b[38;5;167;01mException\u001b[39;00m \u001b[38;5;28;01mas\u001b[39;00m e:\n\u001b[0;32m   1865\u001b[0m         \u001b[38;5;28;01mraise\u001b[39;00m \u001b[38;5;167;01mRuntimeError\u001b[39;00m(\n\u001b[0;32m   1866\u001b[0m             \u001b[38;5;124mf\u001b[39m\u001b[38;5;124m\"\u001b[39m\u001b[38;5;124mFailed to import \u001b[39m\u001b[38;5;132;01m{\u001b[39;00m\u001b[38;5;28mself\u001b[39m\u001b[38;5;241m.\u001b[39m\u001b[38;5;18m__name__\u001b[39m\u001b[38;5;132;01m}\u001b[39;00m\u001b[38;5;124m.\u001b[39m\u001b[38;5;132;01m{\u001b[39;00mmodule_name\u001b[38;5;132;01m}\u001b[39;00m\u001b[38;5;124m because of the following error (look up to see its\u001b[39m\u001b[38;5;124m\"\u001b[39m\n\u001b[0;32m   1867\u001b[0m             \u001b[38;5;124mf\u001b[39m\u001b[38;5;124m\"\u001b[39m\u001b[38;5;124m traceback):\u001b[39m\u001b[38;5;130;01m\\n\u001b[39;00m\u001b[38;5;132;01m{\u001b[39;00me\u001b[38;5;132;01m}\u001b[39;00m\u001b[38;5;124m\"\u001b[39m\n\u001b[0;32m   1868\u001b[0m         ) \u001b[38;5;28;01mfrom\u001b[39;00m \u001b[38;5;21;01me\u001b[39;00m\n",
      "File \u001b[1;32mf:\\anaconda\\anaconda3\\envs\\DeltaZero\\lib\\importlib\\__init__.py:126\u001b[0m, in \u001b[0;36mimport_module\u001b[1;34m(name, package)\u001b[0m\n\u001b[0;32m    124\u001b[0m             \u001b[38;5;28;01mbreak\u001b[39;00m\n\u001b[0;32m    125\u001b[0m         level \u001b[38;5;241m+\u001b[39m\u001b[38;5;241m=\u001b[39m \u001b[38;5;241m1\u001b[39m\n\u001b[1;32m--> 126\u001b[0m \u001b[38;5;28;01mreturn\u001b[39;00m \u001b[43m_bootstrap\u001b[49m\u001b[38;5;241;43m.\u001b[39;49m\u001b[43m_gcd_import\u001b[49m\u001b[43m(\u001b[49m\u001b[43mname\u001b[49m\u001b[43m[\u001b[49m\u001b[43mlevel\u001b[49m\u001b[43m:\u001b[49m\u001b[43m]\u001b[49m\u001b[43m,\u001b[49m\u001b[43m \u001b[49m\u001b[43mpackage\u001b[49m\u001b[43m,\u001b[49m\u001b[43m \u001b[49m\u001b[43mlevel\u001b[49m\u001b[43m)\u001b[49m\n",
      "File \u001b[1;32mf:\\anaconda\\anaconda3\\envs\\DeltaZero\\lib\\site-packages\\transformers\\generation\\utils.py:41\u001b[0m\n\u001b[0;32m     39\u001b[0m \u001b[38;5;28;01mfrom\u001b[39;00m \u001b[38;5;21;01m.\u001b[39;00m\u001b[38;5;21;01m.\u001b[39;00m\u001b[38;5;21;01mintegrations\u001b[39;00m\u001b[38;5;21;01m.\u001b[39;00m\u001b[38;5;21;01mfsdp\u001b[39;00m \u001b[38;5;28;01mimport\u001b[39;00m is_fsdp_managed_module\n\u001b[0;32m     40\u001b[0m \u001b[38;5;28;01mfrom\u001b[39;00m \u001b[38;5;21;01m.\u001b[39;00m\u001b[38;5;21;01m.\u001b[39;00m\u001b[38;5;21;01mmodeling_outputs\u001b[39;00m \u001b[38;5;28;01mimport\u001b[39;00m CausalLMOutputWithPast, Seq2SeqLMOutput\n\u001b[1;32m---> 41\u001b[0m \u001b[38;5;28;01mfrom\u001b[39;00m \u001b[38;5;21;01m.\u001b[39;00m\u001b[38;5;21;01m.\u001b[39;00m\u001b[38;5;21;01mpytorch_utils\u001b[39;00m \u001b[38;5;28;01mimport\u001b[39;00m isin_mps_friendly\n\u001b[0;32m     42\u001b[0m \u001b[38;5;28;01mfrom\u001b[39;00m \u001b[38;5;21;01m.\u001b[39;00m\u001b[38;5;21;01m.\u001b[39;00m\u001b[38;5;21;01mtokenization_utils\u001b[39;00m \u001b[38;5;28;01mimport\u001b[39;00m ExtensionsTrie\n\u001b[0;32m     43\u001b[0m \u001b[38;5;28;01mfrom\u001b[39;00m \u001b[38;5;21;01m.\u001b[39;00m\u001b[38;5;21;01m.\u001b[39;00m\u001b[38;5;21;01mutils\u001b[39;00m \u001b[38;5;28;01mimport\u001b[39;00m (\n\u001b[0;32m     44\u001b[0m     ModelOutput,\n\u001b[0;32m     45\u001b[0m     is_accelerate_available,\n\u001b[1;32m   (...)\u001b[0m\n\u001b[0;32m     49\u001b[0m     logging,\n\u001b[0;32m     50\u001b[0m )\n",
      "File \u001b[1;32mf:\\anaconda\\anaconda3\\envs\\DeltaZero\\lib\\site-packages\\transformers\\pytorch_utils.py:49\u001b[0m\n\u001b[0;32m     47\u001b[0m \u001b[38;5;28;01mif\u001b[39;00m is_torch_greater_or_equal(\u001b[38;5;124m\"\u001b[39m\u001b[38;5;124m2.5\u001b[39m\u001b[38;5;124m\"\u001b[39m) \u001b[38;5;129;01mand\u001b[39;00m _torch_distributed_available:\n\u001b[0;32m     48\u001b[0m     \u001b[38;5;28;01mfrom\u001b[39;00m \u001b[38;5;21;01mtorch\u001b[39;00m\u001b[38;5;21;01m.\u001b[39;00m\u001b[38;5;21;01mdistributed\u001b[39;00m\u001b[38;5;21;01m.\u001b[39;00m\u001b[38;5;21;01mtensor\u001b[39;00m \u001b[38;5;28;01mimport\u001b[39;00m Replicate\n\u001b[1;32m---> 49\u001b[0m     \u001b[38;5;28;01mfrom\u001b[39;00m \u001b[38;5;21;01mtorch\u001b[39;00m\u001b[38;5;21;01m.\u001b[39;00m\u001b[38;5;21;01mdistributed\u001b[39;00m\u001b[38;5;21;01m.\u001b[39;00m\u001b[38;5;21;01mtensor\u001b[39;00m\u001b[38;5;21;01m.\u001b[39;00m\u001b[38;5;21;01mparallel\u001b[39;00m \u001b[38;5;28;01mimport\u001b[39;00m (\n\u001b[0;32m     50\u001b[0m         ColwiseParallel,\n\u001b[0;32m     51\u001b[0m         RowwiseParallel,\n\u001b[0;32m     52\u001b[0m     )\n\u001b[0;32m     55\u001b[0m \u001b[38;5;28;01mdef\u001b[39;00m \u001b[38;5;21msoftmax_backward_data\u001b[39m(parent, grad_output, output, dim, \u001b[38;5;28mself\u001b[39m):\n\u001b[0;32m     56\u001b[0m \u001b[38;5;250m    \u001b[39m\u001b[38;5;124;03m\"\"\"\u001b[39;00m\n\u001b[0;32m     57\u001b[0m \u001b[38;5;124;03m    A function that calls the internal `_softmax_backward_data` PyTorch method and that adjusts the arguments according\u001b[39;00m\n\u001b[0;32m     58\u001b[0m \u001b[38;5;124;03m    to the torch version detected.\u001b[39;00m\n\u001b[0;32m     59\u001b[0m \u001b[38;5;124;03m    \"\"\"\u001b[39;00m\n",
      "File \u001b[1;32mf:\\anaconda\\anaconda3\\envs\\DeltaZero\\lib\\site-packages\\torch\\distributed\\tensor\\parallel\\__init__.py:2\u001b[0m\n\u001b[0;32m      1\u001b[0m \u001b[38;5;66;03m# Copyright (c) Meta Platforms, Inc. and affiliates\u001b[39;00m\n\u001b[1;32m----> 2\u001b[0m \u001b[38;5;28;01mfrom\u001b[39;00m \u001b[38;5;21;01mtorch\u001b[39;00m\u001b[38;5;21;01m.\u001b[39;00m\u001b[38;5;21;01mdistributed\u001b[39;00m\u001b[38;5;21;01m.\u001b[39;00m\u001b[38;5;21;01mtensor\u001b[39;00m\u001b[38;5;21;01m.\u001b[39;00m\u001b[38;5;21;01mparallel\u001b[39;00m\u001b[38;5;21;01m.\u001b[39;00m\u001b[38;5;21;01mapi\u001b[39;00m \u001b[38;5;28;01mimport\u001b[39;00m parallelize_module\n\u001b[0;32m      3\u001b[0m \u001b[38;5;28;01mfrom\u001b[39;00m \u001b[38;5;21;01mtorch\u001b[39;00m\u001b[38;5;21;01m.\u001b[39;00m\u001b[38;5;21;01mdistributed\u001b[39;00m\u001b[38;5;21;01m.\u001b[39;00m\u001b[38;5;21;01mtensor\u001b[39;00m\u001b[38;5;21;01m.\u001b[39;00m\u001b[38;5;21;01mparallel\u001b[39;00m\u001b[38;5;21;01m.\u001b[39;00m\u001b[38;5;21;01mloss\u001b[39;00m \u001b[38;5;28;01mimport\u001b[39;00m loss_parallel\n\u001b[0;32m      4\u001b[0m \u001b[38;5;28;01mfrom\u001b[39;00m \u001b[38;5;21;01mtorch\u001b[39;00m\u001b[38;5;21;01m.\u001b[39;00m\u001b[38;5;21;01mdistributed\u001b[39;00m\u001b[38;5;21;01m.\u001b[39;00m\u001b[38;5;21;01mtensor\u001b[39;00m\u001b[38;5;21;01m.\u001b[39;00m\u001b[38;5;21;01mparallel\u001b[39;00m\u001b[38;5;21;01m.\u001b[39;00m\u001b[38;5;21;01mstyle\u001b[39;00m \u001b[38;5;28;01mimport\u001b[39;00m (\n\u001b[0;32m      5\u001b[0m     ColwiseParallel,\n\u001b[0;32m      6\u001b[0m     ParallelStyle,\n\u001b[1;32m   (...)\u001b[0m\n\u001b[0;32m     10\u001b[0m     SequenceParallel,\n\u001b[0;32m     11\u001b[0m )\n",
      "File \u001b[1;32mf:\\anaconda\\anaconda3\\envs\\DeltaZero\\lib\\site-packages\\torch\\distributed\\tensor\\parallel\\api.py:9\u001b[0m\n\u001b[0;32m      7\u001b[0m \u001b[38;5;28;01mimport\u001b[39;00m \u001b[38;5;21;01mtorch\u001b[39;00m\u001b[38;5;21;01m.\u001b[39;00m\u001b[38;5;21;01mnn\u001b[39;00m \u001b[38;5;28;01mas\u001b[39;00m \u001b[38;5;21;01mnn\u001b[39;00m\n\u001b[0;32m      8\u001b[0m \u001b[38;5;28;01mfrom\u001b[39;00m \u001b[38;5;21;01mtorch\u001b[39;00m\u001b[38;5;21;01m.\u001b[39;00m\u001b[38;5;21;01mdistributed\u001b[39;00m\u001b[38;5;21;01m.\u001b[39;00m\u001b[38;5;21;01mdevice_mesh\u001b[39;00m \u001b[38;5;28;01mimport\u001b[39;00m _mesh_resources, DeviceMesh\n\u001b[1;32m----> 9\u001b[0m \u001b[38;5;28;01mfrom\u001b[39;00m \u001b[38;5;21;01mtorch\u001b[39;00m\u001b[38;5;21;01m.\u001b[39;00m\u001b[38;5;21;01mdistributed\u001b[39;00m\u001b[38;5;21;01m.\u001b[39;00m\u001b[38;5;21;01mtensor\u001b[39;00m\u001b[38;5;21;01m.\u001b[39;00m\u001b[38;5;21;01mparallel\u001b[39;00m\u001b[38;5;21;01m.\u001b[39;00m\u001b[38;5;21;01m_utils\u001b[39;00m \u001b[38;5;28;01mimport\u001b[39;00m _validate_tp_mesh_dim\n\u001b[0;32m     10\u001b[0m \u001b[38;5;28;01mfrom\u001b[39;00m \u001b[38;5;21;01mtorch\u001b[39;00m\u001b[38;5;21;01m.\u001b[39;00m\u001b[38;5;21;01mdistributed\u001b[39;00m\u001b[38;5;21;01m.\u001b[39;00m\u001b[38;5;21;01mtensor\u001b[39;00m\u001b[38;5;21;01m.\u001b[39;00m\u001b[38;5;21;01mparallel\u001b[39;00m\u001b[38;5;21;01m.\u001b[39;00m\u001b[38;5;21;01mstyle\u001b[39;00m \u001b[38;5;28;01mimport\u001b[39;00m ParallelStyle\n\u001b[0;32m     13\u001b[0m __all__ \u001b[38;5;241m=\u001b[39m [\u001b[38;5;124m\"\u001b[39m\u001b[38;5;124mparallelize_module\u001b[39m\u001b[38;5;124m\"\u001b[39m]\n",
      "File \u001b[1;32mf:\\anaconda\\anaconda3\\envs\\DeltaZero\\lib\\site-packages\\torch\\distributed\\tensor\\parallel\\_utils.py:11\u001b[0m\n\u001b[0;32m      7\u001b[0m \u001b[38;5;28;01mfrom\u001b[39;00m \u001b[38;5;21;01mtorch\u001b[39;00m\u001b[38;5;21;01m.\u001b[39;00m\u001b[38;5;21;01mdistributed\u001b[39;00m\u001b[38;5;21;01m.\u001b[39;00m\u001b[38;5;21;01mtensor\u001b[39;00m\u001b[38;5;21;01m.\u001b[39;00m\u001b[38;5;21;01mplacement_types\u001b[39;00m \u001b[38;5;28;01mimport\u001b[39;00m Placement\n\u001b[0;32m     10\u001b[0m \u001b[38;5;28;01mtry\u001b[39;00m:\n\u001b[1;32m---> 11\u001b[0m     \u001b[38;5;28;01mfrom\u001b[39;00m \u001b[38;5;21;01mtorch\u001b[39;00m\u001b[38;5;21;01m.\u001b[39;00m\u001b[38;5;21;01m_dynamo\u001b[39;00m\u001b[38;5;21;01m.\u001b[39;00m\u001b[38;5;21;01mexternal_utils\u001b[39;00m \u001b[38;5;28;01mimport\u001b[39;00m is_compiling \u001b[38;5;28;01mas\u001b[39;00m is_torchdynamo_compiling\n\u001b[0;32m     12\u001b[0m \u001b[38;5;28;01mexcept\u001b[39;00m \u001b[38;5;167;01mException\u001b[39;00m:\n\u001b[0;32m     14\u001b[0m     \u001b[38;5;28;01mdef\u001b[39;00m \u001b[38;5;21mis_torchdynamo_compiling\u001b[39m():  \u001b[38;5;66;03m# type: ignore[misc]\u001b[39;00m\n",
      "File \u001b[1;32mf:\\anaconda\\anaconda3\\envs\\DeltaZero\\lib\\site-packages\\torch\\_dynamo\\__init__.py:3\u001b[0m\n\u001b[0;32m      1\u001b[0m \u001b[38;5;28;01mimport\u001b[39;00m \u001b[38;5;21;01mtorch\u001b[39;00m\n\u001b[1;32m----> 3\u001b[0m \u001b[38;5;28;01mfrom\u001b[39;00m \u001b[38;5;21;01m.\u001b[39;00m \u001b[38;5;28;01mimport\u001b[39;00m convert_frame, eval_frame, resume_execution\n\u001b[0;32m      4\u001b[0m \u001b[38;5;28;01mfrom\u001b[39;00m \u001b[38;5;21;01m.\u001b[39;00m\u001b[38;5;21;01mbackends\u001b[39;00m\u001b[38;5;21;01m.\u001b[39;00m\u001b[38;5;21;01mregistry\u001b[39;00m \u001b[38;5;28;01mimport\u001b[39;00m list_backends, lookup_backend, register_backend\n\u001b[0;32m      5\u001b[0m \u001b[38;5;28;01mfrom\u001b[39;00m \u001b[38;5;21;01m.\u001b[39;00m\u001b[38;5;21;01mcallback\u001b[39;00m \u001b[38;5;28;01mimport\u001b[39;00m callback_handler, on_compile_end, on_compile_start\n",
      "File \u001b[1;32mf:\\anaconda\\anaconda3\\envs\\DeltaZero\\lib\\site-packages\\torch\\_dynamo\\convert_frame.py:33\u001b[0m\n\u001b[0;32m     31\u001b[0m \u001b[38;5;28;01mfrom\u001b[39;00m \u001b[38;5;21;01mtorch\u001b[39;00m\u001b[38;5;21;01m.\u001b[39;00m\u001b[38;5;21;01m_C\u001b[39;00m\u001b[38;5;21;01m.\u001b[39;00m\u001b[38;5;21;01m_dynamo\u001b[39;00m\u001b[38;5;21;01m.\u001b[39;00m\u001b[38;5;21;01mguards\u001b[39;00m \u001b[38;5;28;01mimport\u001b[39;00m GlobalStateGuard\n\u001b[0;32m     32\u001b[0m \u001b[38;5;28;01mfrom\u001b[39;00m \u001b[38;5;21;01mtorch\u001b[39;00m\u001b[38;5;21;01m.\u001b[39;00m\u001b[38;5;21;01m_dynamo\u001b[39;00m\u001b[38;5;21;01m.\u001b[39;00m\u001b[38;5;21;01mdistributed\u001b[39;00m \u001b[38;5;28;01mimport\u001b[39;00m get_compile_pg\n\u001b[1;32m---> 33\u001b[0m \u001b[38;5;28;01mfrom\u001b[39;00m \u001b[38;5;21;01mtorch\u001b[39;00m\u001b[38;5;21;01m.\u001b[39;00m\u001b[38;5;21;01m_dynamo\u001b[39;00m\u001b[38;5;21;01m.\u001b[39;00m\u001b[38;5;21;01msymbolic_convert\u001b[39;00m \u001b[38;5;28;01mimport\u001b[39;00m TensorifyState\n\u001b[0;32m     34\u001b[0m \u001b[38;5;28;01mfrom\u001b[39;00m \u001b[38;5;21;01mtorch\u001b[39;00m\u001b[38;5;21;01m.\u001b[39;00m\u001b[38;5;21;01m_guards\u001b[39;00m \u001b[38;5;28;01mimport\u001b[39;00m compile_context, CompileContext, CompileId, tracing\n\u001b[0;32m     35\u001b[0m \u001b[38;5;28;01mfrom\u001b[39;00m \u001b[38;5;21;01mtorch\u001b[39;00m\u001b[38;5;21;01m.\u001b[39;00m\u001b[38;5;21;01m_logging\u001b[39;00m \u001b[38;5;28;01mimport\u001b[39;00m structured\n",
      "File \u001b[1;32m<frozen importlib._bootstrap>:1027\u001b[0m, in \u001b[0;36m_find_and_load\u001b[1;34m(name, import_)\u001b[0m\n",
      "File \u001b[1;32m<frozen importlib._bootstrap>:1006\u001b[0m, in \u001b[0;36m_find_and_load_unlocked\u001b[1;34m(name, import_)\u001b[0m\n",
      "File \u001b[1;32m<frozen importlib._bootstrap>:688\u001b[0m, in \u001b[0;36m_load_unlocked\u001b[1;34m(spec)\u001b[0m\n",
      "File \u001b[1;32m<frozen importlib._bootstrap_external>:879\u001b[0m, in \u001b[0;36mexec_module\u001b[1;34m(self, module)\u001b[0m\n",
      "File \u001b[1;32m<frozen importlib._bootstrap_external>:975\u001b[0m, in \u001b[0;36mget_code\u001b[1;34m(self, fullname)\u001b[0m\n",
      "File \u001b[1;32m<frozen importlib._bootstrap_external>:1074\u001b[0m, in \u001b[0;36mget_data\u001b[1;34m(self, path)\u001b[0m\n",
      "\u001b[1;31mKeyboardInterrupt\u001b[0m: "
     ]
    }
   ],
   "source": [
    "from model.ensrec_ablation.no_basemodel import EnsRec\n",
    "ensrec = EnsRec(args['model'], args['data'], data.n_user)\n",
    "ensrec.load_state_dict(torch.load(f\"ckpt/{args['data']['name']}/ensrec_no_basemodel_0.4445.pth\", map_location=torch.device('cpu')), strict=True)\n",
    "ensrec.eval()"
   ]
  },
  {
   "cell_type": "code",
   "execution_count": 12,
   "metadata": {},
   "outputs": [
    {
     "data": {
      "text/plain": [
       "EnsRec(\n",
       "  (dien): DIEN(\n",
       "    (gru_cell): GRUCell(64, 64)\n",
       "    (attention): AttentionLayer(\n",
       "      (q_proj): Linear(in_features=64, out_features=64, bias=True)\n",
       "      (k_proj): Linear(in_features=64, out_features=64, bias=True)\n",
       "      (v_proj): Linear(in_features=64, out_features=64, bias=True)\n",
       "      (dropout): Dropout(p=0.1, inplace=False)\n",
       "    )\n",
       "    (augru_cell): GRUCell(128, 64)\n",
       "    (dropout): Dropout(p=0.1, inplace=False)\n",
       "    (layer_norm): LayerNorm((64,), eps=1e-05, elementwise_affine=True)\n",
       "  )\n",
       "  (user_embeddings): Embedding(6033, 64)\n",
       "  (item_embeddings): Embedding(3953, 64)\n",
       ")"
      ]
     },
     "execution_count": 12,
     "metadata": {},
     "output_type": "execute_result"
    }
   ],
   "source": [
    "from model.ensrec_ablation.no_basemodel_no_llm import EnsRec\n",
    "ensrec = EnsRec(args['model'], args['data'], data.n_user, args['data'][args['data']['name']]['n_item'])\n",
    "# ensrec.load_state_dict(torch.load(f\"../experiment\\hyperparameter_learning\\\\toys_and_games\\\\reg\\ckpt_new_ensrec_wgts_reg2_Toys_and_Games\\epoch20_0.2846.pth\", map_location=torch.device('cpu')), strict=False)\n",
    "ensrec.load_state_dict(torch.load(f\"ckpt/{args['data']['name']}/ensrec_0.4518.pth\", map_location=torch.device('cpu')), strict=False)\n",
    "ensrec.eval()"
   ]
  },
  {
   "cell_type": "code",
   "execution_count": 17,
   "metadata": {},
   "outputs": [
    {
     "name": "stdout",
     "output_type": "stream",
     "text": [
      ">>>> 加载预计算的物品嵌入...\n"
     ]
    },
    {
     "data": {
      "text/plain": [
       "EnsRec(\n",
       "  (dien): DIEN(\n",
       "    (gru_cell): GRUCell(64, 64)\n",
       "    (attention): AttentionLayer(\n",
       "      (q_proj): Linear(in_features=64, out_features=64, bias=True)\n",
       "      (k_proj): Linear(in_features=64, out_features=64, bias=True)\n",
       "      (v_proj): Linear(in_features=64, out_features=64, bias=True)\n",
       "      (dropout): Dropout(p=0.1, inplace=False)\n",
       "    )\n",
       "    (augru_cell): GRUCell(128, 64)\n",
       "    (dropout): Dropout(p=0.1, inplace=False)\n",
       "    (layer_norm): LayerNorm((64,), eps=1e-05, elementwise_affine=True)\n",
       "  )\n",
       "  (user_embeddings): Embedding(6033, 64)\n",
       "  (item_tower): ItemTower(\n",
       "    (item_transform): Sequential(\n",
       "      (0): Linear(in_features=64, out_features=64, bias=True)\n",
       "      (1): ReLU()\n",
       "      (2): Linear(in_features=64, out_features=64, bias=True)\n",
       "    )\n",
       "    (preference_alignment): PreferenceAlignmentModule(\n",
       "      (content_adaptor): Linear(in_features=64, out_features=64, bias=True)\n",
       "      (position_embeddings): Embedding(20, 64)\n",
       "      (transformer_layers): ModuleList(\n",
       "        (0-3): 4 x TransformerBlock(\n",
       "          (attention): MultiheadAttention(\n",
       "            (out_proj): NonDynamicallyQuantizableLinear(in_features=64, out_features=64, bias=True)\n",
       "          )\n",
       "          (feed_forward): Sequential(\n",
       "            (0): Linear(in_features=64, out_features=256, bias=True)\n",
       "            (1): GELU(approximate='none')\n",
       "            (2): Linear(in_features=256, out_features=64, bias=True)\n",
       "          )\n",
       "          (layer_norm1): LayerNorm((64,), eps=1e-05, elementwise_affine=True)\n",
       "          (layer_norm2): LayerNorm((64,), eps=1e-05, elementwise_affine=True)\n",
       "          (dropout): Dropout(p=0.5, inplace=False)\n",
       "        )\n",
       "      )\n",
       "      (online_projection): Linear(in_features=64, out_features=64, bias=True)\n",
       "      (dropout): Dropout(p=0.5, inplace=False)\n",
       "      (layer_norm): LayerNorm((64,), eps=1e-05, elementwise_affine=True)\n",
       "    )\n",
       "    (layer_norm): LayerNorm((64,), eps=1e-05, elementwise_affine=True)\n",
       "  )\n",
       "  (llm_projection): Linear(in_features=64, out_features=64, bias=True)\n",
       ")"
      ]
     },
     "execution_count": 17,
     "metadata": {},
     "output_type": "execute_result"
    }
   ],
   "source": [
    "from model.ensrec import EnsRec\n",
    "ensrec = EnsRec(args['model'], args['data'], data.n_user)\n",
    "ensrec.load_state_dict(torch.load(f\"ckpt/{args['data']['name']}/ensrec_no_basemodel_0.4445.pth\", map_location=torch.device('cpu')), strict=False)\n",
    "ensrec.eval()"
   ]
  },
  {
   "cell_type": "code",
   "execution_count": 9,
   "metadata": {},
   "outputs": [
    {
     "name": "stderr",
     "output_type": "stream",
     "text": [
      "27907it [00:01, 17232.73it/s]"
     ]
    },
    {
     "name": "stdout",
     "output_type": "stream",
     "text": [
      ">>>> 加载预计算的物品嵌入...\n"
     ]
    },
    {
     "name": "stderr",
     "output_type": "stream",
     "text": [
      "\n"
     ]
    },
    {
     "data": {
      "text/plain": [
       "EnsRec(\n",
       "  (dien): DIEN(\n",
       "    (gru_cell): GRUCell(64, 64)\n",
       "    (attention): AttentionLayer(\n",
       "      (q_proj): Linear(in_features=64, out_features=64, bias=True)\n",
       "      (k_proj): Linear(in_features=64, out_features=64, bias=True)\n",
       "      (v_proj): Linear(in_features=64, out_features=64, bias=True)\n",
       "      (dropout): Dropout(p=0.1, inplace=False)\n",
       "    )\n",
       "    (augru_cell): GRUCell(128, 64)\n",
       "    (dropout): Dropout(p=0.1, inplace=False)\n",
       "    (layer_norm): LayerNorm((64,), eps=1e-05, elementwise_affine=True)\n",
       "    (output_layer): Linear(in_features=64, out_features=1, bias=True)\n",
       "  )\n",
       "  (user_embeddings): Embedding(7356, 64)\n",
       "  (item_embeddings): Embedding(27907, 64)\n",
       "  (item_tower): ItemTower(\n",
       "    (item_transform): Sequential(\n",
       "      (0): Linear(in_features=64, out_features=64, bias=True)\n",
       "      (1): ReLU()\n",
       "      (2): Linear(in_features=64, out_features=64, bias=True)\n",
       "    )\n",
       "    (preference_alignment): PreferenceAlignmentModule(\n",
       "      (content_adaptor): Linear(in_features=64, out_features=64, bias=True)\n",
       "      (position_embeddings): Embedding(20, 64)\n",
       "      (transformer_layers): ModuleList(\n",
       "        (0-3): 4 x TransformerBlock(\n",
       "          (attention): MultiheadAttention(\n",
       "            (out_proj): NonDynamicallyQuantizableLinear(in_features=64, out_features=64, bias=True)\n",
       "          )\n",
       "          (feed_forward): Sequential(\n",
       "            (0): Linear(in_features=64, out_features=256, bias=True)\n",
       "            (1): GELU(approximate='none')\n",
       "            (2): Linear(in_features=256, out_features=64, bias=True)\n",
       "          )\n",
       "          (layer_norm1): LayerNorm((64,), eps=1e-05, elementwise_affine=True)\n",
       "          (layer_norm2): LayerNorm((64,), eps=1e-05, elementwise_affine=True)\n",
       "          (dropout): Dropout(p=0.5, inplace=False)\n",
       "        )\n",
       "      )\n",
       "      (online_projection): Linear(in_features=64, out_features=64, bias=True)\n",
       "      (dropout): Dropout(p=0.5, inplace=False)\n",
       "      (layer_norm): LayerNorm((64,), eps=1e-05, elementwise_affine=True)\n",
       "    )\n",
       "    (layer_norm): LayerNorm((64,), eps=1e-05, elementwise_affine=True)\n",
       "  )\n",
       "  (llm_projection): Linear(in_features=64, out_features=64, bias=True)\n",
       "  (prefer_gate): Sequential(\n",
       "    (0): Linear(in_features=128, out_features=64, bias=True)\n",
       "    (1): ReLU()\n",
       "    (2): Linear(in_features=64, out_features=1, bias=True)\n",
       "  )\n",
       "  (basemodel_gate): Linear(in_features=128, out_features=7, bias=True)\n",
       ")"
      ]
     },
     "execution_count": 9,
     "metadata": {},
     "output_type": "execute_result"
    }
   ],
   "source": [
    "from model.ensrec_gate import EnsRec\n",
    "ensrec = EnsRec(args['model'], args['data'], data.n_user, args['data'][args['data']['name']]['n_item'])\n",
    "ensrec.load_state_dict(torch.load(f\"ckpt_ensrec_gate_Toys_and_Games/epoch21_0.2576.pth\", map_location=torch.device('cpu')), strict=False)\n",
    "ensrec.eval()"
   ]
  },
  {
   "cell_type": "code",
   "execution_count": 6,
   "metadata": {},
   "outputs": [
    {
     "name": "stderr",
     "output_type": "stream",
     "text": [
      "计算测试集指标: 100%|██████████| 50/50 [00:06<00:00,  7.27it/s]\n"
     ]
    },
    {
     "data": {
      "text/plain": [
       "{'ndcg': np.float64(0.5136017536600251),\n",
       " 'map': np.float64(0.3809047659617863),\n",
       " 'mrr': np.float64(0.4282816423243716)}"
      ]
     },
     "execution_count": 6,
     "metadata": {},
     "output_type": "execute_result"
    }
   ],
   "source": [
    "test_loader = DataLoader(test_dataset, batch_size=args['batch_size'], shuffle=True)\n",
    "infer(ensrec, 10)"
   ]
  },
  {
   "cell_type": "markdown",
   "metadata": {},
   "source": [
    "## 集成权重可视化"
   ]
  },
  {
   "cell_type": "code",
   "execution_count": 23,
   "metadata": {},
   "outputs": [],
   "source": [
    "import matplotlib.pyplot as plt\n",
    "plt.rcParams['font.family'] = 'Times New Roman'\n",
    "plt.rcParams['font.sans-serif']=['SimHei']\n",
    "plt.rcParams['axes.unicode_minus'] = False"
   ]
  },
  {
   "cell_type": "code",
   "execution_count": 46,
   "metadata": {},
   "outputs": [
    {
     "data": {
      "text/plain": [
       "[tensor([0.1077, 0.0867, 0.5470, 0.1156, 0.0256, 0.0434, 0.0740]),\n",
       " tensor([0.1276, 0.0725, 0.1798, 0.0920, 0.0995, 0.3954, 0.0333]),\n",
       " tensor([0.4969, 0.0891, 0.0999, 0.0882, 0.1155, 0.0938, 0.0167]),\n",
       " tensor([0.0337, 0.0620, 0.0291, 0.1400, 0.5794, 0.0447, 0.1110]),\n",
       " tensor([0.0767, 0.0795, 0.4058, 0.0958, 0.0726, 0.1501, 0.1197]),\n",
       " tensor([0.1246, 0.0922, 0.2310, 0.0482, 0.0466, 0.1341, 0.3233]),\n",
       " tensor([0.0995, 0.5393, 0.1178, 0.0516, 0.1796, 0.0109, 0.0014]),\n",
       " tensor([0.0676, 0.2583, 0.1373, 0.2535, 0.0204, 0.1989, 0.0640]),\n",
       " tensor([0.1560, 0.0934, 0.0782, 0.3019, 0.1699, 0.0353, 0.1654]),\n",
       " tensor([0.1276, 0.0789, 0.1602, 0.2890, 0.2279, 0.0406, 0.0758]),\n",
       " tensor([0.1457, 0.0825, 0.0482, 0.2403, 0.1939, 0.0823, 0.2071]),\n",
       " tensor([0.0262, 0.0625, 0.0415, 0.2261, 0.0143, 0.0339, 0.5954]),\n",
       " tensor([0.0472, 0.0679, 0.3533, 0.1151, 0.0429, 0.0954, 0.2782]),\n",
       " tensor([0.1696, 0.1034, 0.0356, 0.0910, 0.2354, 0.1321, 0.2329]),\n",
       " tensor([0.1008, 0.0872, 0.3643, 0.1834, 0.0374, 0.1304, 0.0966]),\n",
       " tensor([0.7668, 0.0344, 0.0587, 0.0121, 0.0564, 0.0264, 0.0451]),\n",
       " tensor([0.2110, 0.1153, 0.2744, 0.1394, 0.1057, 0.0530, 0.1013]),\n",
       " tensor([0.1331, 0.3703, 0.1183, 0.1082, 0.1285, 0.1246, 0.0170]),\n",
       " tensor([0.0325, 0.1879, 0.0306, 0.1222, 0.0512, 0.4878, 0.0877]),\n",
       " tensor([0.1612, 0.4098, 0.1246, 0.0387, 0.1467, 0.0885, 0.0306]),\n",
       " tensor([0.1635, 0.1639, 0.0510, 0.1841, 0.1665, 0.2475, 0.0235]),\n",
       " tensor([0.0279, 0.0087, 0.0645, 0.2833, 0.0621, 0.3490, 0.2045]),\n",
       " tensor([0.2596, 0.0986, 0.1240, 0.0853, 0.2361, 0.0302, 0.1662]),\n",
       " tensor([0.1709, 0.1620, 0.0794, 0.1942, 0.2091, 0.0836, 0.1008]),\n",
       " tensor([0.0614, 0.0584, 0.1652, 0.3820, 0.2100, 0.1017, 0.0213]),\n",
       " tensor([0.1969, 0.0195, 0.0498, 0.0774, 0.1155, 0.4831, 0.0578]),\n",
       " tensor([0.0748, 0.2505, 0.1286, 0.2778, 0.1575, 0.0724, 0.0383]),\n",
       " tensor([0.1216, 0.3188, 0.2406, 0.0716, 0.0424, 0.1727, 0.0323]),\n",
       " tensor([0.1594, 0.2123, 0.0556, 0.0991, 0.0921, 0.1397, 0.2419]),\n",
       " tensor([0.3161, 0.1845, 0.0631, 0.2302, 0.0782, 0.0851, 0.0426]),\n",
       " tensor([0.0308, 0.0868, 0.0708, 0.0538, 0.1219, 0.0196, 0.6164]),\n",
       " tensor([0.3788, 0.2321, 0.0678, 0.1053, 0.1021, 0.0417, 0.0721]),\n",
       " tensor([0.0325, 0.1049, 0.1796, 0.1779, 0.0759, 0.1273, 0.3019]),\n",
       " tensor([0.1477, 0.1932, 0.1088, 0.1367, 0.0325, 0.2049, 0.1762]),\n",
       " tensor([0.0774, 0.4572, 0.0537, 0.1443, 0.2091, 0.0349, 0.0235]),\n",
       " tensor([0.1111, 0.0606, 0.1250, 0.1766, 0.1996, 0.2488, 0.0783]),\n",
       " tensor([0.0633, 0.1043, 0.1011, 0.1196, 0.0085, 0.2927, 0.3104]),\n",
       " tensor([0.0297, 0.0255, 0.0470, 0.0341, 0.1628, 0.5814, 0.1194]),\n",
       " tensor([0.0272, 0.3097, 0.0508, 0.1293, 0.3762, 0.0437, 0.0631]),\n",
       " tensor([0.4622, 0.1826, 0.0216, 0.0073, 0.2161, 0.0881, 0.0221]),\n",
       " tensor([0.0691, 0.0227, 0.2860, 0.0276, 0.2052, 0.3465, 0.0429]),\n",
       " tensor([0.1525, 0.0282, 0.0729, 0.1986, 0.2110, 0.1780, 0.1589]),\n",
       " tensor([0.1647, 0.1097, 0.0434, 0.0392, 0.1137, 0.3997, 0.1296]),\n",
       " tensor([0.2894, 0.1054, 0.3201, 0.0456, 0.1677, 0.0569, 0.0149]),\n",
       " tensor([0.0337, 0.1069, 0.3619, 0.1172, 0.1970, 0.1649, 0.0183]),\n",
       " tensor([0.2780, 0.0533, 0.1298, 0.0882, 0.2419, 0.1491, 0.0596]),\n",
       " tensor([0.1567, 0.0658, 0.0096, 0.2770, 0.2202, 0.2656, 0.0051]),\n",
       " tensor([0.0329, 0.0156, 0.0301, 0.2731, 0.0219, 0.0193, 0.6072]),\n",
       " tensor([0.1471, 0.1582, 0.0621, 0.2324, 0.2524, 0.1253, 0.0223]),\n",
       " tensor([0.0092, 0.0036, 0.0134, 0.0276, 0.0208, 0.0102, 0.9153]),\n",
       " tensor([0.1490, 0.1041, 0.5304, 0.0475, 0.0999, 0.0522, 0.0168]),\n",
       " tensor([0.0448, 0.0974, 0.0906, 0.0277, 0.0145, 0.4691, 0.2557]),\n",
       " tensor([0.0803, 0.0536, 0.0481, 0.2581, 0.0413, 0.0693, 0.4492]),\n",
       " tensor([0.0814, 0.0866, 0.1257, 0.2843, 0.1101, 0.0514, 0.2605]),\n",
       " tensor([0.3258, 0.0543, 0.1227, 0.1406, 0.0617, 0.1906, 0.1044]),\n",
       " tensor([0.0757, 0.1859, 0.1410, 0.0826, 0.0284, 0.0445, 0.4420]),\n",
       " tensor([0.1383, 0.1943, 0.0496, 0.1194, 0.1367, 0.2896, 0.0721]),\n",
       " tensor([0.0514, 0.3654, 0.0833, 0.0356, 0.1058, 0.3329, 0.0257]),\n",
       " tensor([0.2238, 0.2936, 0.0823, 0.0733, 0.1060, 0.1575, 0.0636]),\n",
       " tensor([0.0592, 0.0513, 0.0851, 0.0401, 0.0498, 0.2694, 0.4452]),\n",
       " tensor([0.0091, 0.0485, 0.1267, 0.1689, 0.2932, 0.3255, 0.0281]),\n",
       " tensor([0.0728, 0.1631, 0.0923, 0.2043, 0.2402, 0.1368, 0.0905]),\n",
       " tensor([0.0590, 0.0176, 0.4016, 0.0272, 0.0424, 0.4305, 0.0218]),\n",
       " tensor([0.0368, 0.2264, 0.3105, 0.2130, 0.0431, 0.0935, 0.0767]),\n",
       " tensor([0.0127, 0.0923, 0.0247, 0.3185, 0.0271, 0.4873, 0.0374]),\n",
       " tensor([0.0789, 0.1543, 0.3130, 0.1328, 0.0468, 0.2350, 0.0392]),\n",
       " tensor([0.1785, 0.0878, 0.0795, 0.2340, 0.1235, 0.2257, 0.0710]),\n",
       " tensor([0.1644, 0.1640, 0.0672, 0.0730, 0.0711, 0.3325, 0.1278]),\n",
       " tensor([0.0492, 0.0115, 0.1159, 0.1497, 0.1495, 0.2505, 0.2736]),\n",
       " tensor([0.0581, 0.3976, 0.1540, 0.1542, 0.1229, 0.0421, 0.0712]),\n",
       " tensor([0.0721, 0.0394, 0.0152, 0.1738, 0.0380, 0.0357, 0.6257]),\n",
       " tensor([0.0579, 0.0742, 0.1126, 0.1105, 0.5535, 0.0547, 0.0366]),\n",
       " tensor([0.0921, 0.0188, 0.1091, 0.0204, 0.6946, 0.0379, 0.0271]),\n",
       " tensor([0.0894, 0.0634, 0.1759, 0.1260, 0.0421, 0.4276, 0.0757]),\n",
       " tensor([0.0238, 0.1244, 0.1214, 0.1836, 0.2488, 0.0789, 0.2191]),\n",
       " tensor([0.0085, 0.0303, 0.5142, 0.0171, 0.0059, 0.1272, 0.2968]),\n",
       " tensor([0.0678, 0.3157, 0.0397, 0.0816, 0.2489, 0.0720, 0.1744]),\n",
       " tensor([0.2353, 0.1070, 0.1091, 0.3288, 0.1205, 0.0787, 0.0206]),\n",
       " tensor([0.0155, 0.1495, 0.2477, 0.1794, 0.1073, 0.2775, 0.0232]),\n",
       " tensor([0.1149, 0.0611, 0.2347, 0.1829, 0.1730, 0.1710, 0.0625]),\n",
       " tensor([0.1826, 0.3860, 0.0112, 0.0518, 0.0543, 0.2898, 0.0243]),\n",
       " tensor([0.1035, 0.4515, 0.0665, 0.0813, 0.1325, 0.1373, 0.0274]),\n",
       " tensor([0.3633, 0.0659, 0.0487, 0.1888, 0.2527, 0.0182, 0.0623]),\n",
       " tensor([0.0904, 0.1462, 0.2423, 0.1753, 0.0568, 0.2714, 0.0176]),\n",
       " tensor([0.1312, 0.1724, 0.3258, 0.0814, 0.1382, 0.0128, 0.1383]),\n",
       " tensor([0.2362, 0.1706, 0.0789, 0.0454, 0.1444, 0.2105, 0.1140]),\n",
       " tensor([0.0545, 0.0513, 0.0474, 0.0893, 0.2263, 0.3258, 0.2054]),\n",
       " tensor([0.1130, 0.0242, 0.1998, 0.2502, 0.3149, 0.0444, 0.0536]),\n",
       " tensor([0.1352, 0.0748, 0.1193, 0.2823, 0.1022, 0.1340, 0.1524]),\n",
       " tensor([0.0832, 0.1244, 0.0632, 0.2680, 0.0936, 0.1791, 0.1884]),\n",
       " tensor([0.0629, 0.0953, 0.3179, 0.1001, 0.0639, 0.1384, 0.2216]),\n",
       " tensor([0.1555, 0.1151, 0.0878, 0.2360, 0.1349, 0.2456, 0.0250]),\n",
       " tensor([0.1485, 0.1949, 0.1743, 0.1312, 0.1401, 0.1067, 0.1043]),\n",
       " tensor([0.0244, 0.0238, 0.0741, 0.0791, 0.0391, 0.6713, 0.0882]),\n",
       " tensor([0.2454, 0.1491, 0.0520, 0.2139, 0.0580, 0.0953, 0.1862]),\n",
       " tensor([0.2295, 0.1909, 0.0484, 0.1051, 0.1600, 0.1516, 0.1145]),\n",
       " tensor([0.2835, 0.1054, 0.1918, 0.1685, 0.0850, 0.0465, 0.1193]),\n",
       " tensor([0.2137, 0.2003, 0.3972, 0.0197, 0.0573, 0.0944, 0.0174]),\n",
       " tensor([0.0739, 0.1943, 0.0542, 0.2547, 0.1331, 0.1644, 0.1254]),\n",
       " tensor([0.2128, 0.0457, 0.0765, 0.0308, 0.4284, 0.0439, 0.1618]),\n",
       " tensor([0.0716, 0.1803, 0.2192, 0.2657, 0.0985, 0.1601, 0.0046]),\n",
       " tensor([0.0343, 0.3201, 0.0452, 0.1877, 0.1318, 0.0508, 0.2300]),\n",
       " tensor([0.0431, 0.2793, 0.2623, 0.1592, 0.1157, 0.1245, 0.0159]),\n",
       " tensor([0.1691, 0.2264, 0.1362, 0.0604, 0.1481, 0.2444, 0.0154]),\n",
       " tensor([0.1539, 0.1485, 0.0930, 0.2044, 0.0901, 0.1420, 0.1681]),\n",
       " tensor([0.0753, 0.0682, 0.3983, 0.0660, 0.1549, 0.0275, 0.2098]),\n",
       " tensor([0.2427, 0.0692, 0.0609, 0.1947, 0.2106, 0.1041, 0.1178]),\n",
       " tensor([0.0957, 0.2058, 0.1309, 0.0306, 0.1020, 0.3651, 0.0699]),\n",
       " tensor([0.0259, 0.2780, 0.1128, 0.0350, 0.0308, 0.2153, 0.3022]),\n",
       " tensor([0.0503, 0.1321, 0.4059, 0.2586, 0.0370, 0.1034, 0.0127]),\n",
       " tensor([0.1783, 0.3788, 0.1343, 0.0438, 0.0466, 0.2043, 0.0139]),\n",
       " tensor([0.1684, 0.0853, 0.1896, 0.1275, 0.2080, 0.0615, 0.1597]),\n",
       " tensor([0.1266, 0.4483, 0.0450, 0.0925, 0.1619, 0.1053, 0.0204]),\n",
       " tensor([0.1096, 0.1026, 0.0993, 0.3233, 0.0743, 0.2175, 0.0735]),\n",
       " tensor([0.2280, 0.0301, 0.3283, 0.2339, 0.0164, 0.0430, 0.1202]),\n",
       " tensor([0.1522, 0.1618, 0.0787, 0.1501, 0.0500, 0.3603, 0.0470]),\n",
       " tensor([0.0378, 0.0508, 0.0468, 0.0914, 0.6209, 0.0651, 0.0873]),\n",
       " tensor([0.2590, 0.1626, 0.0257, 0.1532, 0.2511, 0.1168, 0.0316]),\n",
       " tensor([0.0371, 0.2621, 0.0777, 0.0556, 0.1047, 0.3979, 0.0649]),\n",
       " tensor([0.1650, 0.0869, 0.2967, 0.1945, 0.1349, 0.0692, 0.0528]),\n",
       " tensor([0.1389, 0.1009, 0.1844, 0.2981, 0.2603, 0.0052, 0.0122]),\n",
       " tensor([0.0581, 0.0071, 0.1075, 0.2479, 0.0838, 0.3110, 0.1847]),\n",
       " tensor([0.0690, 0.1139, 0.1534, 0.3815, 0.1229, 0.0494, 0.1099]),\n",
       " tensor([0.1082, 0.3515, 0.1152, 0.0775, 0.1614, 0.1252, 0.0610]),\n",
       " tensor([0.1617, 0.2047, 0.1360, 0.0420, 0.1514, 0.0818, 0.2224]),\n",
       " tensor([0.0720, 0.0276, 0.1579, 0.0908, 0.2827, 0.1123, 0.2567]),\n",
       " tensor([0.2120, 0.2129, 0.1643, 0.2089, 0.0811, 0.0915, 0.0293]),\n",
       " tensor([0.0538, 0.0149, 0.5372, 0.2593, 0.0647, 0.0444, 0.0256]),\n",
       " tensor([0.0464, 0.0261, 0.0422, 0.7020, 0.1493, 0.0135, 0.0205]),\n",
       " tensor([0.0655, 0.1173, 0.0158, 0.0401, 0.0566, 0.5501, 0.1545]),\n",
       " tensor([0.1465, 0.1646, 0.0506, 0.1221, 0.3349, 0.1016, 0.0796]),\n",
       " tensor([0.0066, 0.1633, 0.3930, 0.0693, 0.1665, 0.1602, 0.0410]),\n",
       " tensor([0.1542, 0.2455, 0.0709, 0.1168, 0.2887, 0.0932, 0.0306]),\n",
       " tensor([0.0873, 0.1568, 0.3158, 0.1045, 0.0387, 0.0365, 0.2603]),\n",
       " tensor([0.0303, 0.6748, 0.1141, 0.0490, 0.0289, 0.0701, 0.0328]),\n",
       " tensor([0.0129, 0.5264, 0.0899, 0.1203, 0.1698, 0.0085, 0.0722]),\n",
       " tensor([0.1011, 0.1812, 0.1603, 0.1434, 0.1804, 0.0436, 0.1900]),\n",
       " tensor([0.0366, 0.0936, 0.2291, 0.1755, 0.2426, 0.0218, 0.2008]),\n",
       " tensor([0.0570, 0.0734, 0.0868, 0.0911, 0.1847, 0.0582, 0.4487]),\n",
       " tensor([0.0658, 0.0325, 0.0503, 0.6480, 0.1202, 0.0207, 0.0624]),\n",
       " tensor([0.1546, 0.1359, 0.1472, 0.4239, 0.0414, 0.0768, 0.0202]),\n",
       " tensor([0.0964, 0.1703, 0.0516, 0.1033, 0.1390, 0.0063, 0.4331]),\n",
       " tensor([0.0517, 0.0189, 0.0466, 0.0682, 0.0549, 0.0433, 0.7164]),\n",
       " tensor([0.2188, 0.0377, 0.2456, 0.0580, 0.0425, 0.0997, 0.2977]),\n",
       " tensor([0.2754, 0.1229, 0.0806, 0.1501, 0.2349, 0.0536, 0.0824]),\n",
       " tensor([0.1114, 0.0680, 0.0827, 0.3737, 0.0772, 0.0815, 0.2055]),\n",
       " tensor([0.1434, 0.0248, 0.0963, 0.2415, 0.0837, 0.3780, 0.0322]),\n",
       " tensor([0.1759, 0.1189, 0.0850, 0.0339, 0.2014, 0.1921, 0.1927]),\n",
       " tensor([0.3930, 0.0748, 0.1465, 0.0393, 0.0951, 0.1387, 0.1125]),\n",
       " tensor([0.0278, 0.0812, 0.0138, 0.0327, 0.0325, 0.0402, 0.7717])]"
      ]
     },
     "execution_count": 46,
     "metadata": {},
     "output_type": "execute_result"
    }
   ],
   "source": [
    "test_loader = DataLoader(test_dataset, batch_size=1, shuffle=True)\n",
    "\n",
    "wgts = []\n",
    "with torch.no_grad():\n",
    "    metrics = []\n",
    "    for i, batch in enumerate(test_loader):\n",
    "        user_emb = ensrec.user_embeddings(batch['user_id'])  # bc, dim\n",
    "        user_interaction = ensrec.item_tower(batch['user_seq'], 'user_seq')  # bc, seq_len, dim\n",
    "        target_emb = ensrec.item_tower(batch['pos_item'], 'single_item')  # bc, dim\n",
    "        preference = ensrec.dien(user_interaction, target_emb) + user_emb  # bc, dim\n",
    "\n",
    "        batch_size, n_base_model, seq_len = batch['base_model_preds'].shape\n",
    "        item_ids_np = batch['base_model_preds'].cpu().numpy()\n",
    "        item_ids_flat = item_ids_np.reshape(-1)\n",
    "        item_ids_mapped = np.array([ensrec.item_tower.item_to_idx[str(id)] for id in item_ids_flat])\n",
    "        item_indices = torch.tensor(item_ids_mapped, device=batch['base_model_preds'].device)\n",
    "        item_embeddings = ensrec.item_tower.item_embeddings[item_indices]\n",
    "        item_embeddings = item_embeddings.reshape(batch_size, n_base_model, seq_len, -1)\n",
    "        basemodel_emb = ensrec.llm_projection(item_embeddings)  # bc, n_base_model, seq_len, dim\n",
    "        # base_model_focus_llm = ensrec.item_tower(batch['base_model_preds'], 'base_model')  # bc, n_base_model, seq_len, dim\n",
    "\n",
    "        # 时间衰减权重\n",
    "        time_weights = 1.0 / torch.log2(torch.arange(ensrec.seq_max_len, device=ensrec.device) + 2)\n",
    "        time_weights = time_weights.view(1, 1, -1, 1)\n",
    "        basemodel_emb = torch.sum(time_weights * basemodel_emb, dim=2)  # [bc, n_base_model, dim]\n",
    "\n",
    "        # 计算基模型权重\n",
    "        # [bc, n_base_model, dim] @ [bc, 1, dim] -> [bc, n_base_model, 1]\n",
    "        preference = preference.unsqueeze(1).transpose(-2, -1)  # [bc, dim, 1]\n",
    "        wgts_org = torch.matmul(basemodel_emb, preference).squeeze(-1)  # [bc, n_base_model]\n",
    "\n",
    "        wgts.append(torch.nn.functional.softmax(wgts_org, dim=-1).squeeze(0).cpu())\n",
    "        if (i + 1) % 150 == 0:\n",
    "            break\n",
    "wgts"
   ]
  },
  {
   "cell_type": "code",
   "execution_count": 15,
   "metadata": {},
   "outputs": [
    {
     "data": {
      "text/plain": [
       "[tensor([1.8175e-12, 1.7761e-15, 6.4387e-16, 1.0000e+00, 4.6423e-06, 2.2991e-14,\n",
       "         1.3891e-15]),\n",
       " tensor([1.1721e-22, 1.7034e-21, 9.0172e-25, 1.0000e+00, 3.3245e-21, 6.1693e-21,\n",
       "         4.2914e-19]),\n",
       " tensor([3.9684e-11, 1.4327e-07, 2.6473e-12, 1.0000e+00, 4.1828e-15, 4.2066e-07,\n",
       "         8.7179e-09]),\n",
       " tensor([8.3040e-19, 8.2104e-18, 8.8760e-17, 1.0000e+00, 3.0846e-18, 6.4660e-18,\n",
       "         4.0265e-18]),\n",
       " tensor([9.2870e-18, 4.7007e-18, 3.2209e-16, 1.0000e+00, 9.1458e-21, 6.5527e-17,\n",
       "         9.1664e-19]),\n",
       " tensor([1.6578e-09, 1.4993e-13, 5.4409e-16, 1.2112e-12, 1.0000e+00, 1.0197e-17,\n",
       "         3.5887e-14]),\n",
       " tensor([3.5956e-17, 1.0368e-16, 3.4037e-18, 1.0000e+00, 7.3959e-20, 4.0930e-24,\n",
       "         7.7898e-23]),\n",
       " tensor([5.0928e-13, 2.8252e-09, 1.9603e-12, 9.4962e-01, 5.0380e-02, 1.3668e-12,\n",
       "         1.1546e-15]),\n",
       " tensor([1.2927e-10, 4.2235e-11, 1.5843e-11, 4.7661e-08, 1.0000e+00, 4.7592e-14,\n",
       "         1.2810e-14]),\n",
       " tensor([1.7241e-18, 3.3154e-17, 1.0171e-16, 1.0000e+00, 5.8462e-24, 1.8575e-16,\n",
       "         1.6782e-18]),\n",
       " tensor([3.9160e-16, 1.6311e-16, 2.2469e-11, 1.0000e+00, 1.8098e-10, 6.9157e-15,\n",
       "         1.4410e-15]),\n",
       " tensor([2.0464e-10, 4.9410e-15, 2.5316e-06, 1.0000e+00, 3.1407e-15, 4.7936e-14,\n",
       "         2.3835e-14]),\n",
       " tensor([1.2175e-19, 9.3633e-16, 1.4847e-18, 1.0000e+00, 3.6468e-21, 2.5298e-12,\n",
       "         9.5323e-17]),\n",
       " tensor([6.0346e-15, 3.9426e-16, 1.0344e-07, 1.0000e+00, 1.0343e-18, 6.6064e-10,\n",
       "         4.1823e-10]),\n",
       " tensor([2.0854e-10, 8.3360e-21, 2.4582e-17, 2.5953e-01, 7.4047e-01, 1.0385e-18,\n",
       "         7.4748e-20]),\n",
       " tensor([4.4054e-16, 1.2197e-20, 5.4268e-21, 1.0000e+00, 5.7741e-11, 3.2155e-18,\n",
       "         1.1685e-21]),\n",
       " tensor([7.8683e-19, 2.0425e-23, 3.1348e-14, 1.0000e+00, 3.6248e-20, 1.2362e-19,\n",
       "         4.8315e-21]),\n",
       " tensor([2.0010e-19, 2.7979e-21, 9.7916e-19, 1.0000e+00, 2.0759e-20, 2.2603e-19,\n",
       "         2.2223e-20]),\n",
       " tensor([3.9497e-12, 2.9028e-11, 1.0423e-11, 9.9978e-01, 2.1534e-04, 1.5745e-09,\n",
       "         1.5730e-10]),\n",
       " tensor([1.1826e-16, 4.1608e-26, 3.4225e-17, 1.0000e+00, 1.6783e-17, 1.4193e-21,\n",
       "         3.3997e-18]),\n",
       " tensor([2.4895e-13, 1.2694e-22, 1.8548e-19, 1.0000e+00, 9.0182e-13, 2.1711e-18,\n",
       "         5.4263e-18]),\n",
       " tensor([4.2651e-11, 1.1816e-14, 5.9568e-11, 6.9570e-02, 9.3043e-01, 2.9379e-14,\n",
       "         2.1815e-13]),\n",
       " tensor([5.4965e-15, 8.0359e-17, 1.0965e-13, 1.0000e+00, 2.7295e-16, 6.5731e-15,\n",
       "         3.3802e-15]),\n",
       " tensor([2.0242e-22, 6.0830e-27, 3.1700e-20, 3.7045e-22, 1.0000e+00, 5.4475e-26,\n",
       "         5.9920e-29]),\n",
       " tensor([3.3770e-22, 4.5044e-22, 1.4519e-16, 1.0000e+00, 1.1173e-20, 9.6372e-19,\n",
       "         1.2572e-20]),\n",
       " tensor([9.7269e-11, 2.1017e-18, 3.3144e-16, 1.0000e+00, 2.2148e-26, 2.8406e-15,\n",
       "         3.5507e-18]),\n",
       " tensor([1.3246e-10, 4.9353e-16, 3.3830e-13, 2.3213e-03, 9.9768e-01, 1.2891e-13,\n",
       "         3.6303e-16]),\n",
       " tensor([1.0089e-13, 2.9293e-19, 1.1922e-14, 6.2785e-22, 1.0000e+00, 3.0422e-18,\n",
       "         1.9587e-18]),\n",
       " tensor([1.8138e-13, 1.7636e-15, 4.3683e-08, 1.0000e+00, 2.9606e-08, 2.5068e-11,\n",
       "         1.6416e-12]),\n",
       " tensor([4.6540e-14, 7.4360e-17, 1.4497e-16, 2.4609e-13, 1.0000e+00, 3.8845e-18,\n",
       "         1.3082e-22]),\n",
       " tensor([8.9838e-17, 6.2754e-17, 3.2708e-16, 1.0000e+00, 5.2734e-17, 6.5899e-16,\n",
       "         4.8919e-18]),\n",
       " tensor([2.2202e-12, 2.5092e-15, 3.4079e-11, 1.7999e-02, 9.8200e-01, 2.4537e-12,\n",
       "         7.7669e-16]),\n",
       " tensor([4.8930e-21, 2.3277e-22, 1.2077e-12, 1.0000e+00, 2.3951e-12, 5.1755e-13,\n",
       "         1.1027e-17]),\n",
       " tensor([9.9169e-14, 3.0430e-09, 4.9967e-16, 1.0000e+00, 8.3744e-13, 6.1125e-15,\n",
       "         6.7747e-13]),\n",
       " tensor([5.7686e-13, 1.3820e-19, 1.1801e-15, 9.9992e-01, 8.2180e-05, 1.2572e-18,\n",
       "         5.6122e-17]),\n",
       " tensor([2.5362e-23, 6.0344e-25, 7.9534e-20, 1.0000e+00, 1.4218e-24, 6.7780e-22,\n",
       "         1.0877e-22]),\n",
       " tensor([1.3523e-09, 5.2670e-12, 1.7890e-11, 1.4377e-10, 1.0000e+00, 6.9069e-17,\n",
       "         9.2378e-14]),\n",
       " tensor([3.9942e-19, 2.0943e-21, 5.3363e-21, 5.7804e-18, 1.0000e+00, 6.2533e-23,\n",
       "         4.0597e-23]),\n",
       " tensor([4.2972e-19, 2.7078e-19, 1.6078e-22, 1.0000e+00, 6.5753e-08, 6.2850e-21,\n",
       "         2.0887e-20]),\n",
       " tensor([4.2740e-17, 1.1251e-21, 2.7271e-20, 8.6252e-10, 1.0000e+00, 2.6875e-20,\n",
       "         1.4970e-17]),\n",
       " tensor([1.7636e-20, 6.4272e-17, 1.3444e-13, 1.0000e+00, 1.9576e-13, 2.7570e-15,\n",
       "         1.7599e-17]),\n",
       " tensor([8.6269e-17, 3.8507e-19, 1.0480e-17, 1.0000e+00, 1.7831e-19, 3.1929e-16,\n",
       "         2.2414e-17]),\n",
       " tensor([7.7466e-19, 1.0714e-24, 1.5702e-13, 1.0000e+00, 2.1180e-11, 3.8660e-18,\n",
       "         4.7039e-14]),\n",
       " tensor([2.4303e-16, 6.0516e-15, 5.2303e-13, 1.0000e+00, 5.5316e-18, 4.6015e-16,\n",
       "         1.7520e-17]),\n",
       " tensor([7.9238e-17, 3.5630e-19, 7.3336e-14, 1.0000e+00, 8.3825e-22, 5.4591e-17,\n",
       "         3.2647e-18]),\n",
       " tensor([4.2332e-14, 8.1989e-18, 7.6219e-17, 4.6294e-03, 9.9537e-01, 1.6321e-17,\n",
       "         7.5791e-19]),\n",
       " tensor([5.7441e-10, 2.4801e-13, 6.3074e-14, 1.0000e+00, 2.3669e-12, 4.8785e-13,\n",
       "         1.7163e-14]),\n",
       " tensor([5.3077e-18, 1.9647e-23, 1.8973e-18, 1.0000e+00, 4.5075e-11, 8.2430e-20,\n",
       "         1.6689e-20]),\n",
       " tensor([3.3941e-08, 1.4770e-08, 2.3543e-14, 1.0000e+00, 1.0258e-09, 1.7760e-12,\n",
       "         3.0521e-11]),\n",
       " tensor([1.4225e-25, 3.3073e-29, 7.0399e-28, 1.0000e+00, 5.1765e-17, 1.9869e-25,\n",
       "         1.1546e-25]),\n",
       " tensor([1.6916e-19, 3.4337e-22, 4.9402e-20, 2.4171e-21, 1.0000e+00, 3.4149e-23,\n",
       "         4.4595e-23]),\n",
       " tensor([9.4857e-12, 5.6542e-16, 8.1613e-15, 9.7851e-06, 9.9999e-01, 1.9140e-18,\n",
       "         2.9296e-17]),\n",
       " tensor([5.7378e-17, 7.7176e-19, 6.5573e-26, 3.9548e-16, 1.0000e+00, 2.1640e-23,\n",
       "         4.0450e-24]),\n",
       " tensor([1.5075e-16, 7.1279e-17, 4.7683e-17, 6.1409e-17, 1.0000e+00, 1.0154e-20,\n",
       "         3.3410e-20]),\n",
       " tensor([7.0081e-12, 3.3291e-18, 1.0257e-13, 3.3594e-03, 9.9664e-01, 9.3032e-16,\n",
       "         2.1945e-14]),\n",
       " tensor([5.2987e-13, 6.0925e-15, 2.6440e-11, 1.0000e+00, 4.5879e-14, 4.1920e-10,\n",
       "         3.1878e-12]),\n",
       " tensor([8.7014e-15, 2.3217e-14, 8.6489e-17, 5.1599e-06, 9.9999e-01, 1.2271e-20,\n",
       "         7.2231e-20]),\n",
       " tensor([2.4490e-24, 1.2464e-25, 2.9270e-26, 1.0511e-22, 1.0000e+00, 3.2568e-27,\n",
       "         2.1812e-28]),\n",
       " tensor([2.6292e-20, 5.8370e-25, 1.2927e-23, 7.0880e-21, 1.0000e+00, 1.0919e-25,\n",
       "         1.5265e-26]),\n",
       " tensor([1.1152e-11, 2.0262e-08, 4.3456e-12, 1.0000e+00, 1.5223e-08, 1.2471e-11,\n",
       "         1.8785e-10]),\n",
       " tensor([5.2092e-18, 6.1636e-20, 4.7964e-19, 8.2665e-12, 1.0000e+00, 3.5621e-17,\n",
       "         6.2565e-19]),\n",
       " tensor([3.8861e-21, 1.8718e-21, 3.5715e-18, 1.0000e+00, 4.4525e-23, 1.3482e-20,\n",
       "         2.3911e-25]),\n",
       " tensor([3.3889e-16, 1.4591e-18, 7.7502e-14, 1.0000e+00, 1.1594e-20, 5.2135e-17,\n",
       "         7.0349e-19]),\n",
       " tensor([1.9795e-10, 8.7977e-22, 3.1376e-15, 5.2751e-07, 1.0000e+00, 3.0212e-11,\n",
       "         3.0403e-14]),\n",
       " tensor([3.8255e-19, 1.6752e-22, 7.6901e-17, 1.0000e+00, 5.6531e-14, 3.4167e-18,\n",
       "         4.6562e-19]),\n",
       " tensor([1.0763e-21, 5.8925e-24, 4.1171e-17, 1.0000e+00, 4.6203e-21, 1.0339e-23,\n",
       "         6.1835e-23]),\n",
       " tensor([1.9605e-16, 1.3599e-18, 7.9810e-20, 1.9564e-10, 1.0000e+00, 6.9556e-19,\n",
       "         1.0524e-19]),\n",
       " tensor([7.1572e-14, 2.2892e-12, 1.7841e-12, 1.0000e+00, 8.5955e-19, 9.9547e-16,\n",
       "         2.6247e-15]),\n",
       " tensor([2.7878e-16, 1.6362e-15, 2.8335e-16, 1.0000e+00, 1.4222e-14, 4.9519e-16,\n",
       "         6.5728e-19]),\n",
       " tensor([1.5237e-13, 7.4330e-19, 5.4293e-17, 2.2053e-19, 1.0000e+00, 1.5895e-24,\n",
       "         6.3979e-21]),\n",
       " tensor([1.0916e-13, 6.9693e-16, 2.6093e-16, 9.9364e-01, 6.3573e-03, 5.2401e-13,\n",
       "         1.8370e-16]),\n",
       " tensor([1.5175e-16, 4.8415e-26, 7.5832e-22, 2.0321e-17, 1.0000e+00, 6.1177e-25,\n",
       "         1.2217e-25]),\n",
       " tensor([1.6559e-22, 5.5616e-25, 1.3019e-21, 1.0000e+00, 5.9680e-19, 1.1583e-20,\n",
       "         5.8049e-20]),\n",
       " tensor([4.7863e-24, 2.8268e-20, 4.2945e-14, 1.9722e-15, 1.0000e+00, 2.1060e-18,\n",
       "         4.3182e-25]),\n",
       " tensor([1.6136e-20, 1.5163e-24, 3.3915e-27, 2.3319e-22, 1.0000e+00, 7.4084e-24,\n",
       "         2.5373e-25]),\n",
       " tensor([7.1430e-19, 7.2848e-19, 2.8931e-18, 1.0000e+00, 1.1868e-11, 1.0227e-19,\n",
       "         2.0024e-19]),\n",
       " tensor([2.3550e-18, 2.9286e-22, 1.9567e-16, 1.0000e+00, 2.3196e-18, 1.0655e-16,\n",
       "         8.3717e-17]),\n",
       " tensor([1.6196e-19, 1.8025e-20, 1.1563e-18, 1.9593e-10, 1.0000e+00, 1.1881e-16,\n",
       "         1.6782e-22]),\n",
       " tensor([3.9893e-18, 9.2646e-21, 8.1725e-20, 1.9492e-19, 1.0000e+00, 4.9776e-22,\n",
       "         1.5324e-21]),\n",
       " tensor([1.1228e-14, 1.8328e-15, 5.9003e-13, 1.0000e+00, 7.8307e-07, 2.3555e-14,\n",
       "         1.1975e-14]),\n",
       " tensor([2.2569e-09, 2.9720e-10, 5.8766e-09, 1.0000e+00, 4.6529e-10, 2.2929e-13,\n",
       "         1.2985e-13]),\n",
       " tensor([1.1884e-16, 1.8834e-18, 3.0968e-14, 1.0000e+00, 1.2781e-22, 8.0349e-15,\n",
       "         5.6229e-15]),\n",
       " tensor([6.0052e-16, 6.0067e-17, 2.6847e-14, 9.9810e-01, 1.9043e-03, 6.8990e-14,\n",
       "         1.7166e-15]),\n",
       " tensor([6.9822e-19, 7.3713e-17, 1.2738e-15, 1.0000e+00, 2.4958e-18, 3.5699e-17,\n",
       "         1.0314e-18]),\n",
       " tensor([1.9173e-15, 2.1632e-18, 1.8190e-15, 1.0191e-06, 1.0000e+00, 1.0788e-15,\n",
       "         5.0342e-17]),\n",
       " tensor([4.9799e-16, 4.5065e-17, 1.9205e-15, 1.0000e+00, 1.1554e-20, 1.1748e-16,\n",
       "         1.6244e-18]),\n",
       " tensor([2.7135e-19, 1.7977e-25, 1.7917e-17, 7.9975e-20, 1.0000e+00, 7.5288e-20,\n",
       "         5.0617e-23]),\n",
       " tensor([7.8736e-20, 1.3280e-19, 2.1720e-24, 1.4122e-16, 1.0000e+00, 7.9380e-24,\n",
       "         4.5781e-25]),\n",
       " tensor([1.0147e-13, 9.3030e-17, 3.7310e-20, 3.0853e-10, 1.0000e+00, 3.6869e-22,\n",
       "         5.6458e-23]),\n",
       " tensor([2.8114e-15, 8.6402e-18, 8.1532e-20, 1.8409e-12, 1.0000e+00, 1.0483e-20,\n",
       "         6.9754e-19]),\n",
       " tensor([1.7376e-17, 1.5757e-17, 2.6676e-16, 1.0000e+00, 5.5900e-22, 1.1741e-17,\n",
       "         4.1985e-19]),\n",
       " tensor([1.4881e-27, 9.7656e-23, 1.2252e-19, 1.0000e+00, 7.5573e-30, 4.2329e-22,\n",
       "         6.3657e-28]),\n",
       " tensor([1.7666e-17, 1.3971e-13, 1.7687e-13, 1.0000e+00, 2.3456e-22, 1.6172e-14,\n",
       "         2.2947e-19]),\n",
       " tensor([2.6774e-18, 7.6450e-19, 1.1472e-17, 1.0000e+00, 1.2353e-13, 1.0394e-20,\n",
       "         7.8089e-16]),\n",
       " tensor([4.9881e-15, 4.1241e-19, 4.9578e-13, 1.0000e+00, 6.4519e-27, 6.6257e-18,\n",
       "         1.4287e-16]),\n",
       " tensor([2.4855e-18, 4.1842e-10, 2.4470e-14, 1.0000e+00, 1.0168e-22, 6.0929e-15,\n",
       "         4.5242e-15]),\n",
       " tensor([1.8383e-19, 1.3973e-19, 2.4470e-17, 1.1966e-13, 1.0000e+00, 2.4296e-20,\n",
       "         2.3281e-20]),\n",
       " tensor([1.2526e-18, 6.8355e-21, 2.1145e-17, 1.0000e+00, 1.1517e-13, 6.2320e-19,\n",
       "         1.4776e-19]),\n",
       " tensor([1.6651e-23, 1.3059e-26, 9.8879e-24, 1.6817e-26, 1.0000e+00, 1.8450e-27,\n",
       "         5.1024e-27]),\n",
       " tensor([1.0001e-18, 1.6976e-22, 4.9503e-20, 2.0725e-19, 1.0000e+00, 1.3040e-22,\n",
       "         4.7141e-23]),\n",
       " tensor([6.1988e-15, 1.2912e-21, 1.0977e-18, 1.0000e+00, 4.8475e-15, 7.2999e-15,\n",
       "         4.7574e-18]),\n",
       " tensor([4.3430e-18, 6.6362e-21, 6.7829e-21, 1.0967e-13, 1.0000e+00, 7.1919e-21,\n",
       "         1.0337e-21]),\n",
       " tensor([3.8811e-13, 7.3529e-15, 4.4850e-15, 9.3758e-01, 6.2425e-02, 3.2008e-14,\n",
       "         1.1254e-14]),\n",
       " tensor([8.7516e-14, 2.1173e-15, 1.0793e-17, 1.0000e+00, 2.2163e-16, 4.7605e-17,\n",
       "         6.9046e-18]),\n",
       " tensor([9.9428e-13, 2.7640e-14, 7.0667e-13, 1.0000e+00, 3.9954e-20, 2.6571e-17,\n",
       "         5.2232e-15]),\n",
       " tensor([1.3217e-18, 4.9713e-21, 1.7648e-20, 4.2499e-15, 1.0000e+00, 3.1775e-21,\n",
       "         1.7977e-22]),\n",
       " tensor([2.0282e-21, 1.4601e-23, 4.4314e-20, 1.0000e+00, 4.9147e-26, 6.0452e-20,\n",
       "         5.4511e-24]),\n",
       " tensor([2.2730e-15, 9.3865e-09, 6.1345e-13, 3.1313e-11, 1.0000e+00, 4.0947e-17,\n",
       "         1.4583e-16]),\n",
       " tensor([1.9201e-11, 2.4090e-15, 8.3900e-15, 2.3381e-05, 9.9998e-01, 2.2165e-11,\n",
       "         2.7402e-12]),\n",
       " tensor([2.1168e-13, 1.0988e-15, 4.6508e-13, 1.0000e+00, 2.5897e-12, 3.5637e-19,\n",
       "         5.6863e-16]),\n",
       " tensor([2.0973e-14, 2.2441e-14, 1.5377e-14, 9.9868e-01, 1.3183e-03, 1.0206e-14,\n",
       "         1.1701e-14]),\n",
       " tensor([9.7612e-18, 2.6894e-20, 5.4988e-21, 2.8599e-14, 1.0000e+00, 2.9321e-20,\n",
       "         1.5753e-21]),\n",
       " tensor([7.7839e-13, 2.7223e-17, 2.6901e-13, 1.0000e+00, 6.8123e-22, 4.9950e-15,\n",
       "         4.0129e-16]),\n",
       " tensor([3.5253e-11, 3.2544e-12, 2.6045e-12, 1.0000e+00, 6.5577e-08, 1.0224e-15,\n",
       "         1.8166e-13]),\n",
       " tensor([1.7509e-17, 3.3060e-20, 6.0694e-17, 1.0000e+00, 9.6180e-10, 2.0762e-18,\n",
       "         6.8589e-19]),\n",
       " tensor([3.4874e-24, 5.0831e-24, 2.4108e-19, 1.0000e+00, 2.3519e-22, 2.3420e-19,\n",
       "         9.8491e-20]),\n",
       " tensor([2.5488e-18, 3.3419e-24, 1.3366e-14, 1.0000e+00, 1.2082e-13, 6.3407e-17,\n",
       "         1.6171e-17]),\n",
       " tensor([1.7206e-16, 5.0460e-14, 2.4814e-17, 8.9854e-09, 1.0000e+00, 7.0794e-19,\n",
       "         7.1742e-16]),\n",
       " tensor([3.9883e-11, 1.7909e-15, 2.5816e-16, 1.0000e+00, 1.2346e-16, 2.6914e-15,\n",
       "         4.9773e-15]),\n",
       " tensor([1.3031e-18, 1.8754e-22, 7.8269e-20, 8.0222e-16, 1.0000e+00, 4.4225e-18,\n",
       "         6.4740e-22]),\n",
       " tensor([1.0649e-14, 1.1033e-13, 1.7412e-17, 1.0000e+00, 1.8969e-10, 5.1629e-17,\n",
       "         3.1096e-17]),\n",
       " tensor([5.5066e-18, 4.1627e-23, 3.4948e-21, 1.0000e+00, 1.2043e-16, 1.1574e-19,\n",
       "         1.5165e-20]),\n",
       " tensor([4.9152e-17, 3.8746e-14, 2.3586e-18, 1.0000e+00, 1.2696e-18, 5.3625e-15,\n",
       "         9.0253e-19]),\n",
       " tensor([4.6542e-16, 3.8781e-20, 5.0673e-09, 5.2210e-11, 1.0000e+00, 5.8779e-19,\n",
       "         1.4302e-20]),\n",
       " tensor([6.1092e-18, 1.8488e-13, 1.0596e-15, 1.0000e+00, 2.1816e-22, 8.8205e-17,\n",
       "         4.1648e-18]),\n",
       " tensor([1.3814e-17, 2.9134e-15, 4.9819e-21, 1.0000e+00, 2.0047e-24, 1.7196e-19,\n",
       "         6.2035e-21]),\n",
       " tensor([2.0621e-14, 3.2835e-20, 2.6060e-17, 1.0000e+00, 6.6590e-17, 3.0629e-16,\n",
       "         5.5119e-18]),\n",
       " tensor([3.7595e-19, 1.1599e-22, 1.3363e-23, 4.8367e-19, 1.0000e+00, 9.8693e-23,\n",
       "         1.3092e-23]),\n",
       " tensor([2.8203e-22, 6.8014e-23, 2.8889e-25, 5.1178e-19, 1.0000e+00, 2.4138e-24,\n",
       "         2.6467e-21]),\n",
       " tensor([1.3961e-14, 9.8894e-16, 4.4503e-16, 1.0000e+00, 2.5668e-09, 1.7522e-15,\n",
       "         6.0595e-16]),\n",
       " tensor([1.6737e-20, 3.4688e-23, 3.9736e-21, 2.0318e-21, 1.0000e+00, 1.4070e-24,\n",
       "         2.5866e-24]),\n",
       " tensor([1.3710e-13, 1.9663e-19, 2.7325e-16, 1.0780e-04, 9.9989e-01, 1.3933e-17,\n",
       "         4.1374e-15]),\n",
       " tensor([7.4750e-21, 6.9496e-22, 1.5767e-21, 2.3923e-20, 1.0000e+00, 2.5759e-24,\n",
       "         1.6644e-24]),\n",
       " tensor([2.0460e-15, 5.9912e-21, 1.3079e-24, 9.6381e-11, 1.0000e+00, 1.1395e-21,\n",
       "         5.2360e-19]),\n",
       " tensor([2.3970e-08, 1.4089e-13, 1.2360e-16, 2.5845e-10, 1.0000e+00, 6.4314e-14,\n",
       "         6.9171e-18]),\n",
       " tensor([4.0198e-20, 1.3624e-21, 1.8792e-21, 4.4150e-22, 1.0000e+00, 1.4065e-22,\n",
       "         1.4786e-22]),\n",
       " tensor([2.9365e-16, 1.7885e-22, 1.5955e-10, 1.0000e+00, 2.5088e-12, 2.4532e-12,\n",
       "         7.4350e-16]),\n",
       " tensor([1.4739e-13, 7.4629e-16, 1.1054e-18, 1.0000e+00, 3.0445e-15, 7.2666e-16,\n",
       "         2.4898e-19]),\n",
       " tensor([1.6425e-11, 1.0809e-14, 5.4451e-16, 1.0000e+00, 4.2018e-09, 2.8300e-13,\n",
       "         5.7547e-14]),\n",
       " tensor([6.5649e-23, 7.8100e-27, 6.4371e-23, 3.0176e-23, 1.0000e+00, 5.9848e-21,\n",
       "         2.1193e-25]),\n",
       " tensor([4.5098e-18, 2.8004e-24, 3.3900e-16, 1.0000e+00, 6.2720e-08, 5.9106e-17,\n",
       "         9.5713e-20]),\n",
       " tensor([1.3116e-16, 2.0735e-17, 2.5873e-23, 2.8228e-10, 1.0000e+00, 3.4569e-14,\n",
       "         1.2028e-16]),\n",
       " tensor([2.7537e-20, 1.8989e-20, 2.2783e-22, 1.0063e-22, 1.0000e+00, 2.0211e-24,\n",
       "         3.7667e-25]),\n",
       " tensor([1.2058e-11, 3.3103e-12, 2.3631e-06, 1.0000e+00, 1.9220e-11, 1.0227e-08,\n",
       "         7.7336e-16]),\n",
       " tensor([9.1100e-17, 8.7104e-19, 1.2568e-20, 4.4129e-14, 1.0000e+00, 9.2508e-17,\n",
       "         1.5719e-18]),\n",
       " tensor([1.9224e-12, 6.5516e-18, 9.5023e-17, 1.0000e+00, 1.9878e-08, 2.4457e-14,\n",
       "         1.6498e-18]),\n",
       " tensor([2.6856e-17, 1.2062e-15, 1.0973e-14, 1.0000e+00, 1.5357e-08, 5.8391e-12,\n",
       "         1.3380e-16]),\n",
       " tensor([1.7997e-17, 9.2506e-24, 4.8456e-13, 9.9499e-01, 5.0055e-03, 2.3276e-18,\n",
       "         3.8220e-16]),\n",
       " tensor([2.5727e-21, 1.9913e-27, 4.0096e-21, 1.0000e+00, 1.1823e-18, 1.9989e-24,\n",
       "         6.9655e-22]),\n",
       " tensor([2.3293e-07, 5.1283e-10, 6.8584e-08, 9.9958e-01, 4.1575e-04, 4.3554e-08,\n",
       "         2.2805e-09]),\n",
       " tensor([5.5877e-15, 2.0983e-23, 9.0572e-08, 1.0000e+00, 5.6356e-17, 1.1193e-17,\n",
       "         1.3545e-15]),\n",
       " tensor([2.8315e-18, 3.8889e-21, 8.0383e-18, 1.0000e+00, 1.0951e-17, 1.9553e-21,\n",
       "         4.5037e-21]),\n",
       " tensor([1.1037e-15, 6.6028e-15, 1.6754e-19, 1.0000e+00, 1.3821e-22, 2.1745e-16,\n",
       "         1.6213e-21]),\n",
       " tensor([1.3796e-13, 6.0317e-13, 2.5904e-14, 1.0000e+00, 2.5268e-15, 9.5881e-14,\n",
       "         6.3538e-14]),\n",
       " tensor([7.0062e-15, 2.7024e-20, 2.1409e-17, 9.9998e-01, 1.8495e-05, 1.1969e-16,\n",
       "         3.8486e-19]),\n",
       " tensor([3.4743e-24, 1.1554e-27, 1.2174e-22, 1.0000e+00, 2.4272e-32, 3.3689e-23,\n",
       "         4.5417e-27]),\n",
       " tensor([7.4400e-16, 5.3635e-23, 1.6114e-21, 6.1080e-14, 1.0000e+00, 1.0002e-20,\n",
       "         6.9793e-18]),\n",
       " tensor([1.1841e-16, 9.8441e-23, 3.8409e-22, 5.8086e-15, 1.0000e+00, 8.8138e-20,\n",
       "         6.0115e-23]),\n",
       " tensor([1.0044e-14, 1.0066e-19, 1.0730e-19, 6.3872e-14, 1.0000e+00, 1.6621e-22,\n",
       "         5.2087e-20]),\n",
       " tensor([1.2621e-17, 3.6639e-17, 2.4335e-14, 1.0000e+00, 8.4242e-08, 3.0842e-12,\n",
       "         9.8094e-15]),\n",
       " tensor([1.2970e-20, 1.1957e-23, 1.1155e-22, 1.0000e+00, 4.1305e-22, 4.9233e-24,\n",
       "         8.2904e-26]),\n",
       " tensor([2.7965e-15, 4.6480e-15, 4.4489e-15, 1.0000e+00, 1.9625e-20, 8.3170e-14,\n",
       "         1.4621e-17]),\n",
       " tensor([1.6703e-18, 5.5033e-21, 2.1106e-17, 1.1062e-10, 1.0000e+00, 3.9062e-20,\n",
       "         2.9118e-20]),\n",
       " tensor([8.8817e-10, 3.0540e-10, 1.0333e-05, 9.9999e-01, 4.7550e-16, 4.3391e-07,\n",
       "         2.4541e-12]),\n",
       " tensor([3.1748e-11, 2.0924e-10, 4.2606e-13, 1.0000e+00, 2.2385e-12, 5.5467e-09,\n",
       "         5.1419e-10]),\n",
       " tensor([1.0577e-16, 1.8864e-17, 2.4325e-14, 1.0000e+00, 4.6405e-20, 1.1898e-15,\n",
       "         6.7580e-17]),\n",
       " tensor([2.7144e-13, 3.9970e-10, 1.5926e-11, 1.0000e+00, 1.3169e-17, 6.9021e-11,\n",
       "         5.7286e-12]),\n",
       " tensor([3.1199e-28, 2.7131e-22, 2.4507e-22, 1.5711e-23, 1.0000e+00, 1.0971e-26,\n",
       "         4.9927e-25]),\n",
       " tensor([3.3087e-24, 2.1299e-22, 3.1105e-22, 1.0000e+00, 1.3912e-14, 7.8245e-23,\n",
       "         7.0597e-25]),\n",
       " tensor([4.4489e-10, 1.8298e-14, 9.3062e-13, 2.4938e-06, 1.0000e+00, 1.0398e-09,\n",
       "         2.7991e-12]),\n",
       " tensor([2.8969e-17, 6.1635e-23, 1.8740e-21, 7.2015e-20, 1.0000e+00, 1.5854e-24,\n",
       "         7.1031e-24]),\n",
       " tensor([1.2177e-15, 6.7909e-12, 5.9891e-18, 5.4497e-15, 1.0000e+00, 3.0245e-18,\n",
       "         4.8458e-18]),\n",
       " tensor([4.0014e-12, 2.2155e-14, 1.8705e-11, 9.9999e-01, 6.3149e-06, 3.9939e-12,\n",
       "         3.7016e-13]),\n",
       " tensor([2.3051e-18, 4.0214e-27, 1.1055e-11, 1.0000e+00, 5.5588e-15, 5.0689e-15,\n",
       "         1.1764e-16]),\n",
       " tensor([1.5724e-14, 1.1544e-15, 9.3575e-12, 1.0000e+00, 1.0877e-14, 1.0035e-14,\n",
       "         1.0212e-19]),\n",
       " tensor([2.5016e-20, 3.0454e-24, 2.0655e-22, 1.4362e-22, 1.0000e+00, 6.5705e-24,\n",
       "         2.9409e-25]),\n",
       " tensor([4.5519e-13, 7.0065e-22, 2.5504e-17, 2.8471e-04, 9.9972e-01, 3.5368e-17,\n",
       "         3.5930e-19]),\n",
       " tensor([2.7733e-17, 7.9123e-20, 1.3066e-16, 1.0000e+00, 1.0722e-10, 1.2132e-17,\n",
       "         8.3427e-19]),\n",
       " tensor([6.2492e-12, 2.7817e-13, 8.5589e-15, 9.9999e-01, 1.0749e-05, 1.7405e-10,\n",
       "         1.0899e-10]),\n",
       " tensor([2.3768e-14, 5.8760e-18, 5.8682e-16, 1.0000e+00, 1.8556e-07, 9.4561e-17,\n",
       "         1.5786e-16]),\n",
       " tensor([1.9437e-12, 3.3508e-15, 3.3356e-13, 1.0000e+00, 3.9267e-24, 1.0435e-13,\n",
       "         3.5327e-15]),\n",
       " tensor([1.7419e-19, 8.1329e-22, 3.6638e-20, 1.2453e-07, 1.0000e+00, 1.9695e-19,\n",
       "         3.1907e-21]),\n",
       " tensor([5.0293e-12, 9.9711e-15, 1.5630e-11, 1.0000e+00, 8.4754e-14, 1.0163e-12,\n",
       "         3.8881e-14]),\n",
       " tensor([5.9673e-12, 2.7548e-14, 3.5989e-14, 9.9998e-01, 2.1662e-05, 2.3177e-19,\n",
       "         4.6744e-20]),\n",
       " tensor([2.2269e-13, 6.8443e-24, 5.5260e-18, 1.0000e+00, 3.5723e-25, 6.8254e-14,\n",
       "         1.6149e-13]),\n",
       " tensor([3.4679e-20, 1.3072e-22, 8.7157e-22, 1.0003e-21, 1.0000e+00, 4.5295e-23,\n",
       "         5.2131e-24]),\n",
       " tensor([5.2737e-15, 3.8199e-17, 6.4624e-07, 1.0000e+00, 7.1739e-11, 5.8176e-13,\n",
       "         4.1376e-13]),\n",
       " tensor([1.7488e-15, 2.8634e-18, 2.9042e-18, 1.6535e-10, 1.0000e+00, 7.0929e-19,\n",
       "         2.2136e-19]),\n",
       " tensor([9.3600e-14, 2.5855e-20, 2.6693e-14, 9.7457e-01, 2.5428e-02, 1.6907e-19,\n",
       "         1.1411e-20]),\n",
       " tensor([5.0798e-23, 9.5852e-28, 7.5111e-23, 1.3057e-19, 1.0000e+00, 2.5182e-26,\n",
       "         1.0967e-27]),\n",
       " tensor([2.6063e-27, 5.5906e-26, 5.8725e-21, 6.9690e-19, 1.0000e+00, 1.9117e-21,\n",
       "         8.4104e-26]),\n",
       " tensor([5.1106e-26, 9.8061e-29, 1.3361e-24, 1.0000e+00, 2.6155e-23, 1.4825e-26,\n",
       "         3.5530e-24]),\n",
       " tensor([2.4286e-18, 2.0026e-24, 6.0947e-19, 1.0000e+00, 4.7950e-16, 1.6388e-20,\n",
       "         4.9286e-17]),\n",
       " tensor([4.5956e-14, 2.1120e-12, 1.9826e-10, 1.0000e+00, 4.0260e-06, 6.6956e-12,\n",
       "         1.0115e-14]),\n",
       " tensor([4.8972e-05, 2.8398e-12, 2.6735e-09, 9.6117e-01, 3.8776e-02, 4.9620e-07,\n",
       "         1.2910e-08]),\n",
       " tensor([2.3156e-08, 5.4304e-10, 1.5125e-10, 5.0518e-01, 4.9482e-01, 3.1987e-11,\n",
       "         1.2231e-09]),\n",
       " tensor([4.2235e-11, 3.1291e-19, 2.3260e-11, 1.2809e-01, 8.7191e-01, 1.6699e-15,\n",
       "         1.3507e-15]),\n",
       " tensor([1.3336e-18, 4.4477e-20, 2.5085e-22, 1.0000e+00, 2.1066e-17, 6.8072e-22,\n",
       "         1.9067e-20]),\n",
       " tensor([4.3302e-19, 1.0186e-21, 9.9141e-19, 8.8205e-18, 1.0000e+00, 1.5881e-21,\n",
       "         8.3263e-22]),\n",
       " tensor([4.8859e-14, 3.7275e-14, 5.0580e-13, 1.0000e+00, 1.1841e-15, 1.3183e-12,\n",
       "         1.4251e-14])]"
      ]
     },
     "execution_count": 15,
     "metadata": {},
     "output_type": "execute_result"
    }
   ],
   "source": [
    "test_loader = DataLoader(train_dataset, batch_size=1, shuffle=True)\n",
    "\n",
    "wgts = []\n",
    "with torch.no_grad():\n",
    "    metrics = []\n",
    "    for i, batch in enumerate(test_loader):\n",
    "        user_emb = ensrec.user_embeddings(batch['user_id'])  # bc, dim\n",
    "        user_interaction = ensrec.item_embeddings(batch['user_seq'])  # bc, seq_len, dim\n",
    "        target_emb = ensrec.item_embeddings(batch['pos_item'])  # bc, dim\n",
    "        preference = ensrec.dien(user_interaction, target_emb) + user_emb  # bc, dim\n",
    "\n",
    "        preference = preference.unsqueeze(1).transpose(-2, -1)  # [bc, dim, 1]\n",
    "        wgts_org = torch.matmul(ensrec.base_model_emb, preference).squeeze(-1)  # [bc, n_base_model]\n",
    "        wgts.append(torch.nn.functional.softmax(wgts_org, dim=-1).squeeze(0).cpu())\n",
    "        if (i + 1) % 200 == 0:\n",
    "            break\n",
    "wgts"
   ]
  },
  {
   "cell_type": "code",
   "execution_count": 47,
   "metadata": {},
   "outputs": [
    {
     "name": "stdout",
     "output_type": "stream",
     "text": [
      "['1', '2', '3', '4', '5', '6', '7', '8', '9', '10', '11', '12', '13', '14', '15', '16', '17', '18', '19', '20', '21', '22', '23', '24', '25', '26', '27', '28', '29', '30', '31', '32', '33', '34', '35', '36', '37', '38', '39', '40', '41', '42', '43', '44', '45', '46', '47', '48', '49', '50', '51', '52', '53', '54', '55', '56', '57', '58', '59', '60', '61', '62', '63', '64', '65', '66', '67', '68', '69', '70', '71', '72', '73', '74', '75', '76', '77', '78', '79', '80', '81', '82', '83', '84', '85', '86', '87', '88', '89', '90', '91', '92', '93', '94', '95', '96', '97', '98', '99', '100', '101', '102', '103', '104', '105', '106', '107', '108', '109', '110', '111', '112', '113', '114', '115', '116', '117', '118', '119', '120', '121', '122', '123', '124', '125', '126', '127', '128', '129', '130', '131', '132', '133', '134', '135', '136', '137', '138', '139', '140', '141', '142', '143', '144', '145', '146', '147', '148', '149', '150']\n"
     ]
    },
    {
     "name": "stderr",
     "output_type": "stream",
     "text": [
      "/var/folders/f_/6239yyyn2sg39c3j_07kfc2r0000gn/T/ipykernel_7997/1564967885.py:44: UserWarning: Glyph 22522 (\\N{CJK UNIFIED IDEOGRAPH-57FA}) missing from font(s) Times New Roman.\n",
      "  plt.tight_layout()\n",
      "/var/folders/f_/6239yyyn2sg39c3j_07kfc2r0000gn/T/ipykernel_7997/1564967885.py:44: UserWarning: Glyph 30784 (\\N{CJK UNIFIED IDEOGRAPH-7840}) missing from font(s) Times New Roman.\n",
      "  plt.tight_layout()\n",
      "/var/folders/f_/6239yyyn2sg39c3j_07kfc2r0000gn/T/ipykernel_7997/1564967885.py:44: UserWarning: Glyph 27169 (\\N{CJK UNIFIED IDEOGRAPH-6A21}) missing from font(s) Times New Roman.\n",
      "  plt.tight_layout()\n",
      "/var/folders/f_/6239yyyn2sg39c3j_07kfc2r0000gn/T/ipykernel_7997/1564967885.py:44: UserWarning: Glyph 22411 (\\N{CJK UNIFIED IDEOGRAPH-578B}) missing from font(s) Times New Roman.\n",
      "  plt.tight_layout()\n",
      "/var/folders/f_/6239yyyn2sg39c3j_07kfc2r0000gn/T/ipykernel_7997/1564967885.py:44: UserWarning: Glyph 26435 (\\N{CJK UNIFIED IDEOGRAPH-6743}) missing from font(s) Times New Roman.\n",
      "  plt.tight_layout()\n",
      "/var/folders/f_/6239yyyn2sg39c3j_07kfc2r0000gn/T/ipykernel_7997/1564967885.py:44: UserWarning: Glyph 37325 (\\N{CJK UNIFIED IDEOGRAPH-91CD}) missing from font(s) Times New Roman.\n",
      "  plt.tight_layout()\n",
      "/var/folders/f_/6239yyyn2sg39c3j_07kfc2r0000gn/T/ipykernel_7997/1564967885.py:44: UserWarning: Glyph 38543 (\\N{CJK UNIFIED IDEOGRAPH-968F}) missing from font(s) Times New Roman.\n",
      "  plt.tight_layout()\n",
      "/var/folders/f_/6239yyyn2sg39c3j_07kfc2r0000gn/T/ipykernel_7997/1564967885.py:44: UserWarning: Glyph 26102 (\\N{CJK UNIFIED IDEOGRAPH-65F6}) missing from font(s) Times New Roman.\n",
      "  plt.tight_layout()\n",
      "/var/folders/f_/6239yyyn2sg39c3j_07kfc2r0000gn/T/ipykernel_7997/1564967885.py:44: UserWarning: Glyph 38388 (\\N{CJK UNIFIED IDEOGRAPH-95F4}) missing from font(s) Times New Roman.\n",
      "  plt.tight_layout()\n",
      "/var/folders/f_/6239yyyn2sg39c3j_07kfc2r0000gn/T/ipykernel_7997/1564967885.py:44: UserWarning: Glyph 21464 (\\N{CJK UNIFIED IDEOGRAPH-53D8}) missing from font(s) Times New Roman.\n",
      "  plt.tight_layout()\n",
      "/var/folders/f_/6239yyyn2sg39c3j_07kfc2r0000gn/T/ipykernel_7997/1564967885.py:44: UserWarning: Glyph 21270 (\\N{CJK UNIFIED IDEOGRAPH-5316}) missing from font(s) Times New Roman.\n",
      "  plt.tight_layout()\n",
      "/opt/anaconda3/envs/torch/lib/python3.10/site-packages/IPython/core/pylabtools.py:170: UserWarning: Glyph 22522 (\\N{CJK UNIFIED IDEOGRAPH-57FA}) missing from font(s) Times New Roman.\n",
      "  fig.canvas.print_figure(bytes_io, **kw)\n",
      "/opt/anaconda3/envs/torch/lib/python3.10/site-packages/IPython/core/pylabtools.py:170: UserWarning: Glyph 30784 (\\N{CJK UNIFIED IDEOGRAPH-7840}) missing from font(s) Times New Roman.\n",
      "  fig.canvas.print_figure(bytes_io, **kw)\n",
      "/opt/anaconda3/envs/torch/lib/python3.10/site-packages/IPython/core/pylabtools.py:170: UserWarning: Glyph 27169 (\\N{CJK UNIFIED IDEOGRAPH-6A21}) missing from font(s) Times New Roman.\n",
      "  fig.canvas.print_figure(bytes_io, **kw)\n",
      "/opt/anaconda3/envs/torch/lib/python3.10/site-packages/IPython/core/pylabtools.py:170: UserWarning: Glyph 22411 (\\N{CJK UNIFIED IDEOGRAPH-578B}) missing from font(s) Times New Roman.\n",
      "  fig.canvas.print_figure(bytes_io, **kw)\n",
      "/opt/anaconda3/envs/torch/lib/python3.10/site-packages/IPython/core/pylabtools.py:170: UserWarning: Glyph 26435 (\\N{CJK UNIFIED IDEOGRAPH-6743}) missing from font(s) Times New Roman.\n",
      "  fig.canvas.print_figure(bytes_io, **kw)\n",
      "/opt/anaconda3/envs/torch/lib/python3.10/site-packages/IPython/core/pylabtools.py:170: UserWarning: Glyph 37325 (\\N{CJK UNIFIED IDEOGRAPH-91CD}) missing from font(s) Times New Roman.\n",
      "  fig.canvas.print_figure(bytes_io, **kw)\n",
      "/opt/anaconda3/envs/torch/lib/python3.10/site-packages/IPython/core/pylabtools.py:170: UserWarning: Glyph 38543 (\\N{CJK UNIFIED IDEOGRAPH-968F}) missing from font(s) Times New Roman.\n",
      "  fig.canvas.print_figure(bytes_io, **kw)\n",
      "/opt/anaconda3/envs/torch/lib/python3.10/site-packages/IPython/core/pylabtools.py:170: UserWarning: Glyph 26102 (\\N{CJK UNIFIED IDEOGRAPH-65F6}) missing from font(s) Times New Roman.\n",
      "  fig.canvas.print_figure(bytes_io, **kw)\n",
      "/opt/anaconda3/envs/torch/lib/python3.10/site-packages/IPython/core/pylabtools.py:170: UserWarning: Glyph 38388 (\\N{CJK UNIFIED IDEOGRAPH-95F4}) missing from font(s) Times New Roman.\n",
      "  fig.canvas.print_figure(bytes_io, **kw)\n",
      "/opt/anaconda3/envs/torch/lib/python3.10/site-packages/IPython/core/pylabtools.py:170: UserWarning: Glyph 21464 (\\N{CJK UNIFIED IDEOGRAPH-53D8}) missing from font(s) Times New Roman.\n",
      "  fig.canvas.print_figure(bytes_io, **kw)\n",
      "/opt/anaconda3/envs/torch/lib/python3.10/site-packages/IPython/core/pylabtools.py:170: UserWarning: Glyph 21270 (\\N{CJK UNIFIED IDEOGRAPH-5316}) missing from font(s) Times New Roman.\n",
      "  fig.canvas.print_figure(bytes_io, **kw)\n"
     ]
    },
    {
     "data": {
      "image/png": "[encoded data removed]",
      "text/plain": [
       "<Figure size 3000x1200 with 1 Axes>"
      ]
     },
     "metadata": {},
     "output_type": "display_data"
    }
   ],
   "source": [
    "import matplotlib.pyplot as plt\n",
    "import numpy as np\n",
    "\n",
    "weights = wgts\n",
    "\n",
    "# 模型名称\n",
    "models = ['ACF', 'FDSA', 'HA-RNN', 'Caser', 'PFMC', 'SASRec', 'ANAM']\n",
    "\n",
    "# 时间周期\n",
    "categories = [f'{i+1}' for i in range(len(weights))]\n",
    "print(categories)\n",
    "\n",
    "# 将 weights 转换为 NumPy 数组\n",
    "weights_np = np.array([w.numpy() for w in weights])\n",
    "\n",
    "# 定义颜色\n",
    "colors = plt.cm.viridis(np.linspace(0, 1, len(models)))  # 使用更美观的颜色映射\n",
    "\n",
    "# 绘制堆叠柱状图\n",
    "fig, ax = plt.subplots(figsize=(30, 12))\n",
    "x = np.arange(len(categories))  # 横轴位置\n",
    "bottom = np.zeros(len(categories))  # 初始化底部位置\n",
    "\n",
    "for i, model in enumerate(models):\n",
    "    ax.bar(x, weights_np[:, i], bottom=bottom, label=model, color=colors[i], edgecolor='white', linewidth=1.2)\n",
    "    bottom += weights_np[:, i]  # 更新底部位置\n",
    "\n",
    "# 添加标题和标签\n",
    "ax.set_title('基础模型权重随时间变化', fontsize=20, fontweight='bold')\n",
    "ax.set_xlabel('Samples', fontsize=25)\n",
    "ax.set_ylabel('weight (%)', fontsize=25)\n",
    "\n",
    "# 设置横坐标隔 5 个显示一个\n",
    "ax.set_xticks(x[::6])\n",
    "ax.set_xticklabels(categories[::6], fontsize=20)\n",
    "\n",
    "# 设置 y 轴刻度为百分比形式\n",
    "ax.yaxis.set_major_formatter(plt.FuncFormatter(lambda x, _: f'{x*100:.0f}%'))\n",
    "ax.tick_params(axis='y', labelsize=20)\n",
    "\n",
    "# 添加图例\n",
    "ax.legend(loc='upper left', bbox_to_anchor=(1, 1), title='Base Model', title_fontsize=25, fontsize=25)\n",
    "\n",
    "plt.tight_layout()\n",
    "plt.show()"
   ]
  },
  {
   "cell_type": "code",
   "execution_count": null,
   "metadata": {},
   "outputs": [
    {
     "data": {
      "image/png": "[encoded data removed]",
      "text/plain": [
       "<Figure size 1500x1000 with 2 Axes>"
      ]
     },
     "metadata": {},
     "output_type": "display_data"
    }
   ],
   "source": [
    "import matplotlib.pyplot as plt\n",
    "import seaborn as sns\n",
    "import pandas as pd\n",
    "import torch\n",
    "\n",
    "df = pd.DataFrame([w.numpy() for w in wgts], columns=[f'基础模型{i+1}' for i in range(7)])\n",
    "\n",
    "samples = [f'样本{i+1}' for i in range(len(wgts))]\n",
    "df.index = samples\n",
    "\n",
    "plt.figure(figsize=(15, 10))\n",
    "sns.heatmap(df, annot=False, cmap='coolwarm', cbar=True, linewidths=0)  # 去掉边框\n",
    "plt.title('不同样本的基础模型权重热图', fontsize=20, fontweight='bold')\n",
    "plt.xlabel('基础模型', fontsize=16)\n",
    "plt.ylabel('样本', fontsize=16)\n",
    "plt.xticks(fontsize=12, rotation=45)  # 旋转x轴标签\n",
    "plt.yticks(fontsize=10)  # 调整y轴刻度字体大小\n",
    "plt.tight_layout()  # 自动调整子图参数\n",
    "plt.show()"
   ]
  },
  {
   "cell_type": "markdown",
   "metadata": {},
   "source": [
    "## 其他集成方法\n",
    "\n",
    "### CombSum"
   ]
  },
  {
   "cell_type": "code",
   "execution_count": 13,
   "metadata": {},
   "outputs": [
    {
     "name": "stderr",
     "output_type": "stream",
     "text": [
      "计算测试集指标: 100%|██████████| 14904/14904 [00:22<00:00, 666.08it/s]\n"
     ]
    },
    {
     "data": {
      "text/plain": [
       "0.15995455571743816"
      ]
     },
     "execution_count": 13,
     "metadata": {},
     "output_type": "execute_result"
    }
   ],
   "source": [
    "test_loader = DataLoader(test_dataset, batch_size=1, shuffle=False)\n",
    "metrics = []\n",
    "for batch in tqdm(test_loader, desc=\"计算测试集指标\"):\n",
    "    all_scores = batch['all_item_scores'].squeeze(0).sum(dim=0, keepdim=True)\n",
    "    scores, indices = torch.topk(all_scores, 10)\n",
    "\n",
    "    for i in range(len(batch['user_id'])):\n",
    "        user_id = batch['user_id'][i].item()\n",
    "        pos_item = batch['pos_item'][i].item()\n",
    "\n",
    "        true_item_ids = data.user_interacted_item_ids[user_id]\n",
    "        true_item_ids = true_item_ids[true_item_ids.index(data.item_to_id[pos_item]) + 1:]\n",
    "\n",
    "        predicted_item_ids = np.array([indices[i].cpu().numpy().tolist()])\n",
    "        # score = nDCG(np.array(predicted_item_ids), [true_item_ids])\n",
    "        # score = map(predicted_item_ids[0], true_item_ids)\n",
    "        score = mrr(predicted_item_ids[0], true_item_ids)\n",
    "        metrics.append(score)\n",
    "np.mean(metrics)"
   ]
  },
  {
   "cell_type": "markdown",
   "metadata": {},
   "source": [
    "### CombMNZ"
   ]
  },
  {
   "cell_type": "code",
   "execution_count": 16,
   "metadata": {},
   "outputs": [
    {
     "name": "stderr",
     "output_type": "stream",
     "text": [
      "计算测试集指标: 100%|██████████| 14904/14904 [00:29<00:00, 502.75it/s]\n"
     ]
    },
    {
     "data": {
      "text/plain": [
       "0.22983398313794107"
      ]
     },
     "execution_count": 16,
     "metadata": {},
     "output_type": "execute_result"
    }
   ],
   "source": [
    "test_loader = DataLoader(test_dataset, batch_size=1, shuffle=False)\n",
    "metrics = []\n",
    "for batch in tqdm(test_loader, desc=\"计算测试集指标\"):\n",
    "    all_scores = batch['all_item_scores'].squeeze(0).sum(dim=0, keepdim=True)\n",
    "    item_ids_np = batch['base_model_preds'].cpu().numpy().reshape(-1)\n",
    "    item_indices = torch.tensor(np.array([data.item_to_id[id] for id in item_ids_np]), device=\"cuda\")\n",
    "    all_item_counts = torch.bincount(item_indices, minlength=data.n_item)\n",
    "    all_scores = all_scores * all_item_counts.unsqueeze(0)\n",
    "    scores, indices = torch.topk(all_scores, 10)\n",
    "\n",
    "    user_id = batch['user_id'].item()\n",
    "    pos_item = batch['pos_item'].item()\n",
    "\n",
    "    true_item_ids = data.user_interacted_item_ids[user_id]\n",
    "    true_item_ids = true_item_ids[true_item_ids.index(data.item_to_id[pos_item]) + 1:]\n",
    "\n",
    "    predicted_item_ids = np.array([indices[0].cpu().numpy().tolist()])\n",
    "    score = nDCG(np.array(predicted_item_ids), [true_item_ids])\n",
    "    # score = map(predicted_item_ids[0], true_item_ids)\n",
    "    # score = mrr(predicted_item_ids[0], true_item_ids)\n",
    "    metrics.append(score)\n",
    "np.mean(metrics)"
   ]
  },
  {
   "cell_type": "markdown",
   "metadata": {},
   "source": [
    "### ​CombANZ"
   ]
  },
  {
   "cell_type": "code",
   "execution_count": 53,
   "metadata": {},
   "outputs": [
    {
     "name": "stderr",
     "output_type": "stream",
     "text": [
      "计算测试集指标:   0%|          | 11/25369 [00:00<04:00, 105.36it/s]"
     ]
    },
    {
     "name": "stdout",
     "output_type": "stream",
     "text": [
      "(1, 10)\n",
      "(1, 10)\n",
      "(1, 10)\n",
      "(1, 10)\n",
      "(1, 10)\n",
      "(1, 10)\n",
      "(1, 10)\n",
      "(1, 10)\n",
      "(1, 10)\n",
      "(1, 10)\n",
      "(1, 10)\n",
      "(1, 10)\n",
      "(1, 10)\n",
      "(1, 10)\n",
      "(1, 10)\n",
      "(1, 10)\n",
      "(1, 10)\n",
      "(1, 10)\n",
      "(1, 10)\n",
      "(1, 10)\n",
      "(1, 10)\n",
      "(1, 10)\n",
      "(1, 10)\n"
     ]
    },
    {
     "name": "stderr",
     "output_type": "stream",
     "text": [
      "计算测试集指标:   0%|          | 40/25369 [00:00<03:07, 134.98it/s]"
     ]
    },
    {
     "name": "stdout",
     "output_type": "stream",
     "text": [
      "(1, 10)\n",
      "(1, 10)\n",
      "(1, 10)\n",
      "(1, 10)\n",
      "(1, 10)\n",
      "(1, 10)\n",
      "(1, 10)\n",
      "(1, 10)\n",
      "(1, 10)\n",
      "(1, 10)\n",
      "(1, 10)\n",
      "(1, 10)\n",
      "(1, 10)\n",
      "(1, 10)\n",
      "(1, 10)\n",
      "(1, 10)\n",
      "(1, 10)\n",
      "(1, 10)\n",
      "(1, 10)\n",
      "(1, 10)\n",
      "(1, 10)\n",
      "(1, 10)\n",
      "(1, 10)\n",
      "(1, 10)\n",
      "(1, 10)\n",
      "(1, 10)\n",
      "(1, 10)\n",
      "(1, 10)\n",
      "(1, 10)\n",
      "(1, 10)\n",
      "(1, 10)\n",
      "(1, 10)\n",
      "(1, 10)\n",
      "(1, 10)\n",
      "(1, 10)\n",
      "(1, 10)\n",
      "(1, 10)\n",
      "(1, 10)\n",
      "(1, 10)\n",
      "(1, 10)\n"
     ]
    },
    {
     "name": "stderr",
     "output_type": "stream",
     "text": [
      "计算测试集指标:   0%|          | 112/25369 [00:00<01:58, 213.06it/s]"
     ]
    },
    {
     "name": "stdout",
     "output_type": "stream",
     "text": [
      "(1, 10)\n",
      "(1, 10)\n",
      "(1, 10)\n",
      "(1, 10)\n",
      "(1, 10)\n",
      "(1, 10)\n",
      "(1, 10)\n",
      "(1, 10)\n",
      "(1, 10)\n",
      "(1, 10)\n",
      "(1, 10)\n",
      "(1, 10)\n",
      "(1, 10)\n",
      "(1, 10)\n",
      "(1, 10)\n",
      "(1, 10)\n",
      "(1, 10)\n",
      "(1, 10)\n",
      "(1, 10)\n",
      "(1, 10)\n",
      "(1, 10)\n",
      "(1, 10)\n",
      "(1, 10)\n",
      "(1, 10)\n",
      "(1, 10)\n",
      "(1, 10)\n",
      "(1, 10)\n",
      "(1, 10)\n",
      "(1, 10)\n",
      "(1, 10)\n",
      "(1, 10)\n",
      "(1, 10)\n",
      "(1, 10)\n",
      "(1, 10)\n",
      "(1, 10)\n",
      "(1, 10)\n",
      "(1, 10)\n",
      "(1, 10)\n",
      "(1, 10)\n",
      "(1, 10)\n",
      "(1, 10)\n",
      "(1, 10)\n",
      "(1, 10)\n",
      "(1, 10)\n",
      "(1, 10)\n",
      "(1, 10)\n",
      "(1, 10)\n",
      "(1, 10)\n",
      "(1, 10)\n"
     ]
    },
    {
     "name": "stderr",
     "output_type": "stream",
     "text": [
      "计算测试集指标:   1%|          | 134/25369 [00:00<02:00, 208.71it/s]"
     ]
    },
    {
     "name": "stdout",
     "output_type": "stream",
     "text": [
      "(1, 10)\n",
      "(1, 10)\n",
      "(1, 10)\n",
      "(1, 10)\n",
      "(1, 10)\n",
      "(1, 10)\n",
      "(1, 10)\n",
      "(1, 10)\n",
      "(1, 10)\n",
      "(1, 10)\n",
      "(1, 10)\n",
      "(1, 10)\n",
      "(1, 10)\n",
      "(1, 10)\n",
      "(1, 10)\n",
      "(1, 10)\n",
      "(1, 10)\n",
      "(1, 10)\n",
      "(1, 10)\n",
      "(1, 10)\n",
      "(1, 10)\n",
      "(1, 10)\n",
      "(1, 10)\n",
      "(1, 10)\n",
      "(1, 10)\n",
      "(1, 10)\n",
      "(1, 10)\n",
      "(1, 10)\n",
      "(1, 10)\n",
      "(1, 10)\n",
      "(1, 10)\n",
      "(1, 10)\n",
      "(1, 10)\n",
      "(1, 10)\n",
      "(1, 10)\n",
      "(1, 10)\n",
      "(1, 10)\n",
      "(1, 10)\n",
      "(1, 10)\n",
      "(1, 10)\n",
      "(1, 10)\n",
      "(1, 10)\n",
      "(1, 10)\n",
      "(1, 10)\n",
      "(1, 10)\n"
     ]
    },
    {
     "name": "stderr",
     "output_type": "stream",
     "text": [
      "计算测试集指标:   1%|          | 188/25369 [00:00<01:44, 240.12it/s]"
     ]
    },
    {
     "name": "stdout",
     "output_type": "stream",
     "text": [
      "(1, 10)\n",
      "(1, 10)\n",
      "(1, 10)\n",
      "(1, 10)\n",
      "(1, 10)\n",
      "(1, 10)\n",
      "(1, 10)\n",
      "(1, 10)\n",
      "(1, 10)\n",
      "(1, 10)\n",
      "(1, 10)\n",
      "(1, 10)\n",
      "(1, 10)\n",
      "(1, 10)\n",
      "(1, 10)\n",
      "(1, 10)\n",
      "(1, 10)\n",
      "(1, 10)\n",
      "(1, 10)\n",
      "(1, 10)\n",
      "(1, 10)\n",
      "(1, 10)\n",
      "(1, 10)\n",
      "(1, 10)\n",
      "(1, 10)\n",
      "(1, 10)\n",
      "(1, 10)\n",
      "(1, 10)\n",
      "(1, 10)\n",
      "(1, 10)\n",
      "(1, 10)\n",
      "(1, 10)\n",
      "(1, 10)\n",
      "(1, 10)\n",
      "(1, 10)\n",
      "(1, 10)\n",
      "(1, 10)\n",
      "(1, 10)\n",
      "(1, 10)\n",
      "(1, 10)\n",
      "(1, 10)\n",
      "(1, 10)\n",
      "(1, 10)\n",
      "(1, 10)\n",
      "(1, 10)\n",
      "(1, 10)\n",
      "(1, 10)\n",
      "(1, 10)\n",
      "(1, 10)\n",
      "(1, 10)\n",
      "(1, 10)\n",
      "(1, 10)\n",
      "(1, 10)\n",
      "(1, 10)\n",
      "(1, 10)\n",
      "(1, 10)\n",
      "(1, 10)\n",
      "(1, 10)\n",
      "(1, 10)\n",
      "(1, 10)\n",
      "(1, 10)\n",
      "(1, 10)\n",
      "(1, 10)\n",
      "(1, 10)\n"
     ]
    },
    {
     "name": "stderr",
     "output_type": "stream",
     "text": [
      "计算测试集指标:   1%|          | 251/25369 [00:01<01:47, 234.39it/s]"
     ]
    },
    {
     "name": "stdout",
     "output_type": "stream",
     "text": [
      "(1, 10)\n",
      "(1, 10)\n",
      "(1, 10)\n",
      "(1, 10)\n",
      "(1, 10)\n",
      "(1, 10)\n",
      "(1, 10)\n",
      "(1, 10)\n",
      "(1, 10)\n",
      "(1, 10)\n",
      "(1, 10)\n",
      "(1, 10)\n",
      "(1, 10)\n",
      "(1, 10)\n",
      "(1, 10)\n",
      "(1, 10)\n",
      "(1, 10)\n",
      "(1, 10)\n",
      "(1, 10)\n",
      "(1, 10)\n",
      "(1, 10)\n",
      "(1, 10)\n",
      "(1, 10)\n",
      "(1, 10)\n",
      "(1, 10)\n",
      "(1, 10)\n",
      "(1, 10)\n",
      "(1, 10)\n",
      "(1, 10)\n",
      "(1, 10)\n",
      "(1, 10)\n",
      "(1, 10)\n",
      "(1, 10)\n",
      "(1, 10)\n",
      "(1, 10)\n",
      "(1, 10)\n",
      "(1, 10)\n"
     ]
    },
    {
     "name": "stderr",
     "output_type": "stream",
     "text": [
      "计算测试集指标:   1%|          | 276/25369 [00:01<01:52, 222.89it/s]"
     ]
    },
    {
     "name": "stdout",
     "output_type": "stream",
     "text": [
      "(1, 10)\n",
      "(1, 10)\n",
      "(1, 10)\n",
      "(1, 10)\n",
      "(1, 10)\n",
      "(1, 10)\n",
      "(1, 10)\n",
      "(1, 10)\n",
      "(1, 10)\n",
      "(1, 10)\n",
      "(1, 10)\n",
      "(1, 10)\n",
      "(1, 10)\n",
      "(1, 10)\n",
      "(1, 10)\n",
      "(1, 10)\n",
      "(1, 10)\n",
      "(1, 10)\n",
      "(1, 10)\n",
      "(1, 10)\n",
      "(1, 10)\n",
      "(1, 10)\n",
      "(1, 10)\n",
      "(1, 10)\n",
      "(1, 10)\n",
      "(1, 10)\n",
      "(1, 10)\n",
      "(1, 10)\n",
      "(1, 10)\n",
      "(1, 10)\n",
      "(1, 10)\n",
      "(1, 10)\n",
      "(1, 10)\n",
      "(1, 10)\n",
      "(1, 10)\n"
     ]
    },
    {
     "name": "stderr",
     "output_type": "stream",
     "text": [
      "计算测试集指标:   1%|▏         | 326/25369 [00:01<01:50, 226.40it/s]"
     ]
    },
    {
     "name": "stdout",
     "output_type": "stream",
     "text": [
      "(1, 10)\n",
      "(1, 10)\n",
      "(1, 10)\n",
      "(1, 10)\n",
      "(1, 10)\n",
      "(1, 10)\n",
      "(1, 10)\n",
      "(1, 10)\n",
      "(1, 10)\n",
      "(1, 10)\n",
      "(1, 10)\n",
      "(1, 10)\n",
      "(1, 10)\n",
      "(1, 10)\n",
      "(1, 10)\n",
      "(1, 10)\n",
      "(1, 10)\n",
      "(1, 10)\n",
      "(1, 10)\n",
      "(1, 10)\n",
      "(1, 10)\n",
      "(1, 10)\n",
      "(1, 10)\n",
      "(1, 10)\n",
      "(1, 10)\n",
      "(1, 10)\n",
      "(1, 10)\n",
      "(1, 10)\n",
      "(1, 10)\n",
      "(1, 10)\n",
      "(1, 10)\n",
      "(1, 10)\n",
      "(1, 10)\n",
      "(1, 10)\n",
      "(1, 10)\n",
      "(1, 10)\n",
      "(1, 10)\n",
      "(1, 10)\n",
      "(1, 10)\n",
      "(1, 10)\n",
      "(1, 10)\n",
      "(1, 10)\n",
      "(1, 10)\n",
      "(1, 10)\n",
      "(1, 10)\n",
      "(1, 10)\n",
      "(1, 10)\n",
      "(1, 10)\n",
      "(1, 10)\n",
      "(1, 10)\n",
      "(1, 10)\n",
      "(1, 10)\n",
      "(1, 10)\n"
     ]
    },
    {
     "name": "stderr",
     "output_type": "stream",
     "text": [
      "计算测试集指标:   1%|▏         | 376/25369 [00:01<01:46, 234.28it/s]"
     ]
    },
    {
     "name": "stdout",
     "output_type": "stream",
     "text": [
      "(1, 10)\n",
      "(1, 10)\n",
      "(1, 10)\n",
      "(1, 10)\n",
      "(1, 10)\n",
      "(1, 10)\n",
      "(1, 10)\n",
      "(1, 10)\n",
      "(1, 10)\n",
      "(1, 10)\n",
      "(1, 10)\n",
      "(1, 10)\n",
      "(1, 10)\n",
      "(1, 10)\n",
      "(1, 10)\n",
      "(1, 10)\n",
      "(1, 10)\n",
      "(1, 10)\n",
      "(1, 10)\n",
      "(1, 10)\n",
      "(1, 10)\n",
      "(1, 10)\n",
      "(1, 10)\n",
      "(1, 10)\n",
      "(1, 10)\n",
      "(1, 10)\n",
      "(1, 10)\n",
      "(1, 10)\n",
      "(1, 10)\n",
      "(1, 10)\n",
      "(1, 10)\n",
      "(1, 10)\n",
      "(1, 10)\n",
      "(1, 10)\n",
      "(1, 10)\n",
      "(1, 10)\n",
      "(1, 10)\n",
      "(1, 10)\n",
      "(1, 10)\n",
      "(1, 10)\n",
      "(1, 10)\n",
      "(1, 10)\n",
      "(1, 10)\n",
      "(1, 10)\n",
      "(1, 10)\n",
      "(1, 10)\n",
      "(1, 10)\n",
      "(1, 10)\n",
      "(1, 10)\n",
      "(1, 10)\n"
     ]
    },
    {
     "name": "stderr",
     "output_type": "stream",
     "text": [
      "计算测试集指标:   2%|▏         | 427/25369 [00:01<01:43, 240.42it/s]"
     ]
    },
    {
     "name": "stdout",
     "output_type": "stream",
     "text": [
      "(1, 10)\n",
      "(1, 10)\n",
      "(1, 10)\n",
      "(1, 10)\n",
      "(1, 10)\n",
      "(1, 10)\n",
      "(1, 10)\n",
      "(1, 10)\n",
      "(1, 10)\n",
      "(1, 10)\n",
      "(1, 10)\n",
      "(1, 10)\n",
      "(1, 10)\n",
      "(1, 10)\n",
      "(1, 10)\n",
      "(1, 10)\n",
      "(1, 10)\n",
      "(1, 10)\n",
      "(1, 10)\n",
      "(1, 10)\n",
      "(1, 10)\n",
      "(1, 10)\n",
      "(1, 10)\n",
      "(1, 10)\n",
      "(1, 10)\n",
      "(1, 10)\n",
      "(1, 10)\n",
      "(1, 10)\n",
      "(1, 10)\n",
      "(1, 10)\n",
      "(1, 10)\n",
      "(1, 10)\n",
      "(1, 10)\n",
      "(1, 10)\n",
      "(1, 10)\n",
      "(1, 10)\n",
      "(1, 10)\n",
      "(1, 10)\n",
      "(1, 10)\n",
      "(1, 10)\n",
      "(1, 10)\n",
      "(1, 10)\n",
      "(1, 10)\n",
      "(1, 10)\n",
      "(1, 10)\n",
      "(1, 10)\n",
      "(1, 10)\n",
      "(1, 10)\n",
      "(1, 10)\n",
      "(1, 10)\n",
      "(1, 10)\n",
      "(1, 10)\n",
      "(1, 10)\n",
      "(1, 10)\n",
      "(1, 10)\n",
      "(1, 10)\n",
      "(1, 10)\n",
      "(1, 10)\n",
      "(1, 10)\n",
      "(1, 10)\n",
      "(1, 10)\n"
     ]
    },
    {
     "name": "stderr",
     "output_type": "stream",
     "text": [
      "计算测试集指标:   2%|▏         | 499/25369 [00:02<01:23, 296.28it/s]"
     ]
    },
    {
     "name": "stdout",
     "output_type": "stream",
     "text": [
      "(1, 10)\n",
      "(1, 10)\n",
      "(1, 10)\n",
      "(1, 10)\n",
      "(1, 10)\n",
      "(1, 10)\n",
      "(1, 10)\n",
      "(1, 10)\n",
      "(1, 10)\n",
      "(1, 10)\n",
      "(1, 10)\n",
      "(1, 10)\n",
      "(1, 10)\n",
      "(1, 10)\n",
      "(1, 10)\n",
      "(1, 10)\n",
      "(1, 10)\n",
      "(1, 10)\n",
      "(1, 10)\n",
      "(1, 10)\n",
      "(1, 10)\n",
      "(1, 10)\n",
      "(1, 10)\n",
      "(1, 10)\n",
      "(1, 10)\n",
      "(1, 10)\n",
      "(1, 10)\n",
      "(1, 10)\n",
      "(1, 10)\n",
      "(1, 10)\n",
      "(1, 10)\n",
      "(1, 10)\n",
      "(1, 10)\n",
      "(1, 10)\n",
      "(1, 10)\n",
      "(1, 10)\n",
      "(1, 10)\n",
      "(1, 10)\n",
      "(1, 10)\n",
      "(1, 10)\n",
      "(1, 10)\n",
      "(1, 10)\n",
      "(1, 10)\n",
      "(1, 10)\n",
      "(1, 10)\n",
      "(1, 10)\n",
      "(1, 10)\n",
      "(1, 10)\n",
      "(1, 10)\n",
      "(1, 10)\n",
      "(1, 10)\n",
      "(1, 10)\n",
      "(1, 10)\n",
      "(1, 10)\n",
      "(1, 10)\n",
      "(1, 10)\n",
      "(1, 10)\n",
      "(1, 10)\n",
      "(1, 10)\n",
      "(1, 10)\n",
      "(1, 10)\n",
      "(1, 10)\n",
      "(1, 10)\n",
      "(1, 10)\n",
      "(1, 10)\n",
      "(1, 10)\n",
      "(1, 10)\n",
      "(1, 10)\n",
      "(1, 10)\n",
      "(1, 10)\n",
      "(1, 10)\n",
      "(1, 10)\n",
      "(1, 10)\n",
      "(1, 10)\n",
      "(1, 10)\n",
      "(1, 10)\n",
      "(1, 10)\n",
      "(1, 10)\n",
      "(1, 10)\n",
      "(1, 10)\n",
      "(1, 10)\n",
      "(1, 10)\n"
     ]
    },
    {
     "name": "stderr",
     "output_type": "stream",
     "text": [
      "计算测试集指标:   2%|▏         | 566/25369 [00:02<01:45, 235.02it/s]"
     ]
    },
    {
     "name": "stdout",
     "output_type": "stream",
     "text": [
      "(1, 10)\n",
      "(1, 10)\n",
      "(1, 10)\n",
      "(1, 10)\n",
      "(1, 10)\n",
      "(1, 10)\n",
      "(1, 10)\n",
      "(1, 10)\n",
      "(1, 10)\n",
      "(1, 10)\n",
      "(1, 10)\n",
      "(1, 10)\n",
      "(1, 10)\n",
      "(1, 10)\n",
      "(1, 10)\n",
      "(1, 10)\n",
      "(1, 10)\n",
      "(1, 10)\n",
      "(1, 10)\n",
      "(1, 10)\n",
      "(1, 10)\n",
      "(1, 10)\n",
      "(1, 10)\n",
      "(1, 10)\n",
      "(1, 10)\n",
      "(1, 10)\n",
      "(1, 10)\n"
     ]
    },
    {
     "name": "stderr",
     "output_type": "stream",
     "text": [
      "\n"
     ]
    },
    {
     "ename": "KeyboardInterrupt",
     "evalue": "",
     "output_type": "error",
     "traceback": [
      "\u001b[1;31m---------------------------------------------------------------------------\u001b[0m",
      "\u001b[1;31mKeyboardInterrupt\u001b[0m                         Traceback (most recent call last)",
      "Cell \u001b[1;32mIn[53], line 3\u001b[0m\n\u001b[0;32m      1\u001b[0m test_loader \u001b[38;5;241m=\u001b[39m DataLoader(test_dataset, batch_size\u001b[38;5;241m=\u001b[39m\u001b[38;5;241m1\u001b[39m, shuffle\u001b[38;5;241m=\u001b[39m\u001b[38;5;28;01mFalse\u001b[39;00m)\n\u001b[0;32m      2\u001b[0m metrics \u001b[38;5;241m=\u001b[39m []\n\u001b[1;32m----> 3\u001b[0m \u001b[38;5;28;01mfor\u001b[39;00m batch \u001b[38;5;129;01min\u001b[39;00m tqdm(test_loader, desc\u001b[38;5;241m=\u001b[39m\u001b[38;5;124m\"\u001b[39m\u001b[38;5;124m计算测试集指标\u001b[39m\u001b[38;5;124m\"\u001b[39m):\n\u001b[0;32m      4\u001b[0m     all_scores \u001b[38;5;241m=\u001b[39m batch[\u001b[38;5;124m'\u001b[39m\u001b[38;5;124mall_item_scores\u001b[39m\u001b[38;5;124m'\u001b[39m]\u001b[38;5;241m.\u001b[39msqueeze(\u001b[38;5;241m0\u001b[39m)\u001b[38;5;241m.\u001b[39msum(dim\u001b[38;5;241m=\u001b[39m\u001b[38;5;241m0\u001b[39m, keepdim\u001b[38;5;241m=\u001b[39m\u001b[38;5;28;01mTrue\u001b[39;00m)\n\u001b[0;32m      5\u001b[0m     item_ids_np \u001b[38;5;241m=\u001b[39m batch[\u001b[38;5;124m'\u001b[39m\u001b[38;5;124mbase_model_preds\u001b[39m\u001b[38;5;124m'\u001b[39m]\u001b[38;5;241m.\u001b[39mcpu()\u001b[38;5;241m.\u001b[39mnumpy()\u001b[38;5;241m.\u001b[39mreshape(\u001b[38;5;241m-\u001b[39m\u001b[38;5;241m1\u001b[39m)\n",
      "File \u001b[1;32mf:\\anaconda\\anaconda3\\envs\\DeltaZero\\lib\\site-packages\\tqdm\\std.py:1182\u001b[0m, in \u001b[0;36mtqdm.__iter__\u001b[1;34m(self)\u001b[0m\n\u001b[0;32m   1179\u001b[0m time \u001b[38;5;241m=\u001b[39m \u001b[38;5;28mself\u001b[39m\u001b[38;5;241m.\u001b[39m_time\n\u001b[0;32m   1181\u001b[0m \u001b[38;5;28;01mtry\u001b[39;00m:\n\u001b[1;32m-> 1182\u001b[0m     \u001b[38;5;28;01mfor\u001b[39;00m obj \u001b[38;5;129;01min\u001b[39;00m iterable:\n\u001b[0;32m   1183\u001b[0m         \u001b[38;5;28;01myield\u001b[39;00m obj\n\u001b[0;32m   1184\u001b[0m         \u001b[38;5;66;03m# Update and possibly print the progressbar.\u001b[39;00m\n\u001b[0;32m   1185\u001b[0m         \u001b[38;5;66;03m# Note: does not call self.update(1) for speed optimisation.\u001b[39;00m\n",
      "File \u001b[1;32mf:\\anaconda\\anaconda3\\envs\\DeltaZero\\lib\\site-packages\\torch\\utils\\data\\dataloader.py:708\u001b[0m, in \u001b[0;36m_BaseDataLoaderIter.__next__\u001b[1;34m(self)\u001b[0m\n\u001b[0;32m    705\u001b[0m \u001b[38;5;28;01mif\u001b[39;00m \u001b[38;5;28mself\u001b[39m\u001b[38;5;241m.\u001b[39m_sampler_iter \u001b[38;5;129;01mis\u001b[39;00m \u001b[38;5;28;01mNone\u001b[39;00m:\n\u001b[0;32m    706\u001b[0m     \u001b[38;5;66;03m# TODO(https://github.com/pytorch/pytorch/issues/76750)\u001b[39;00m\n\u001b[0;32m    707\u001b[0m     \u001b[38;5;28mself\u001b[39m\u001b[38;5;241m.\u001b[39m_reset()  \u001b[38;5;66;03m# type: ignore[call-arg]\u001b[39;00m\n\u001b[1;32m--> 708\u001b[0m data \u001b[38;5;241m=\u001b[39m \u001b[38;5;28;43mself\u001b[39;49m\u001b[38;5;241;43m.\u001b[39;49m\u001b[43m_next_data\u001b[49m\u001b[43m(\u001b[49m\u001b[43m)\u001b[49m\n\u001b[0;32m    709\u001b[0m \u001b[38;5;28mself\u001b[39m\u001b[38;5;241m.\u001b[39m_num_yielded \u001b[38;5;241m+\u001b[39m\u001b[38;5;241m=\u001b[39m \u001b[38;5;241m1\u001b[39m\n\u001b[0;32m    710\u001b[0m \u001b[38;5;28;01mif\u001b[39;00m (\n\u001b[0;32m    711\u001b[0m     \u001b[38;5;28mself\u001b[39m\u001b[38;5;241m.\u001b[39m_dataset_kind \u001b[38;5;241m==\u001b[39m _DatasetKind\u001b[38;5;241m.\u001b[39mIterable\n\u001b[0;32m    712\u001b[0m     \u001b[38;5;129;01mand\u001b[39;00m \u001b[38;5;28mself\u001b[39m\u001b[38;5;241m.\u001b[39m_IterableDataset_len_called \u001b[38;5;129;01mis\u001b[39;00m \u001b[38;5;129;01mnot\u001b[39;00m \u001b[38;5;28;01mNone\u001b[39;00m\n\u001b[0;32m    713\u001b[0m     \u001b[38;5;129;01mand\u001b[39;00m \u001b[38;5;28mself\u001b[39m\u001b[38;5;241m.\u001b[39m_num_yielded \u001b[38;5;241m>\u001b[39m \u001b[38;5;28mself\u001b[39m\u001b[38;5;241m.\u001b[39m_IterableDataset_len_called\n\u001b[0;32m    714\u001b[0m ):\n",
      "File \u001b[1;32mf:\\anaconda\\anaconda3\\envs\\DeltaZero\\lib\\site-packages\\torch\\utils\\data\\dataloader.py:764\u001b[0m, in \u001b[0;36m_SingleProcessDataLoaderIter._next_data\u001b[1;34m(self)\u001b[0m\n\u001b[0;32m    762\u001b[0m \u001b[38;5;28;01mdef\u001b[39;00m \u001b[38;5;21m_next_data\u001b[39m(\u001b[38;5;28mself\u001b[39m):\n\u001b[0;32m    763\u001b[0m     index \u001b[38;5;241m=\u001b[39m \u001b[38;5;28mself\u001b[39m\u001b[38;5;241m.\u001b[39m_next_index()  \u001b[38;5;66;03m# may raise StopIteration\u001b[39;00m\n\u001b[1;32m--> 764\u001b[0m     data \u001b[38;5;241m=\u001b[39m \u001b[38;5;28;43mself\u001b[39;49m\u001b[38;5;241;43m.\u001b[39;49m\u001b[43m_dataset_fetcher\u001b[49m\u001b[38;5;241;43m.\u001b[39;49m\u001b[43mfetch\u001b[49m\u001b[43m(\u001b[49m\u001b[43mindex\u001b[49m\u001b[43m)\u001b[49m  \u001b[38;5;66;03m# may raise StopIteration\u001b[39;00m\n\u001b[0;32m    765\u001b[0m     \u001b[38;5;28;01mif\u001b[39;00m \u001b[38;5;28mself\u001b[39m\u001b[38;5;241m.\u001b[39m_pin_memory:\n\u001b[0;32m    766\u001b[0m         data \u001b[38;5;241m=\u001b[39m _utils\u001b[38;5;241m.\u001b[39mpin_memory\u001b[38;5;241m.\u001b[39mpin_memory(data, \u001b[38;5;28mself\u001b[39m\u001b[38;5;241m.\u001b[39m_pin_memory_device)\n",
      "File \u001b[1;32mf:\\anaconda\\anaconda3\\envs\\DeltaZero\\lib\\site-packages\\torch\\utils\\data\\_utils\\fetch.py:55\u001b[0m, in \u001b[0;36m_MapDatasetFetcher.fetch\u001b[1;34m(self, possibly_batched_index)\u001b[0m\n\u001b[0;32m     53\u001b[0m \u001b[38;5;28;01melse\u001b[39;00m:\n\u001b[0;32m     54\u001b[0m     data \u001b[38;5;241m=\u001b[39m \u001b[38;5;28mself\u001b[39m\u001b[38;5;241m.\u001b[39mdataset[possibly_batched_index]\n\u001b[1;32m---> 55\u001b[0m \u001b[38;5;28;01mreturn\u001b[39;00m \u001b[38;5;28;43mself\u001b[39;49m\u001b[38;5;241;43m.\u001b[39;49m\u001b[43mcollate_fn\u001b[49m\u001b[43m(\u001b[49m\u001b[43mdata\u001b[49m\u001b[43m)\u001b[49m\n",
      "File \u001b[1;32mf:\\anaconda\\anaconda3\\envs\\DeltaZero\\lib\\site-packages\\torch\\utils\\data\\_utils\\collate.py:398\u001b[0m, in \u001b[0;36mdefault_collate\u001b[1;34m(batch)\u001b[0m\n\u001b[0;32m    337\u001b[0m \u001b[38;5;28;01mdef\u001b[39;00m \u001b[38;5;21mdefault_collate\u001b[39m(batch):\n\u001b[0;32m    338\u001b[0m \u001b[38;5;250m    \u001b[39m\u001b[38;5;124mr\u001b[39m\u001b[38;5;124;03m\"\"\"\u001b[39;00m\n\u001b[0;32m    339\u001b[0m \u001b[38;5;124;03m    Take in a batch of data and put the elements within the batch into a tensor with an additional outer dimension - batch size.\u001b[39;00m\n\u001b[0;32m    340\u001b[0m \n\u001b[1;32m   (...)\u001b[0m\n\u001b[0;32m    396\u001b[0m \u001b[38;5;124;03m        >>> default_collate(batch)  # Handle `CustomType` automatically\u001b[39;00m\n\u001b[0;32m    397\u001b[0m \u001b[38;5;124;03m    \"\"\"\u001b[39;00m\n\u001b[1;32m--> 398\u001b[0m     \u001b[38;5;28;01mreturn\u001b[39;00m \u001b[43mcollate\u001b[49m\u001b[43m(\u001b[49m\u001b[43mbatch\u001b[49m\u001b[43m,\u001b[49m\u001b[43m \u001b[49m\u001b[43mcollate_fn_map\u001b[49m\u001b[38;5;241;43m=\u001b[39;49m\u001b[43mdefault_collate_fn_map\u001b[49m\u001b[43m)\u001b[49m\n",
      "File \u001b[1;32mf:\\anaconda\\anaconda3\\envs\\DeltaZero\\lib\\site-packages\\torch\\utils\\data\\_utils\\collate.py:171\u001b[0m, in \u001b[0;36mcollate\u001b[1;34m(batch, collate_fn_map)\u001b[0m\n\u001b[0;32m    165\u001b[0m \u001b[38;5;28;01mif\u001b[39;00m \u001b[38;5;28misinstance\u001b[39m(elem, collections\u001b[38;5;241m.\u001b[39mabc\u001b[38;5;241m.\u001b[39mMutableMapping):\n\u001b[0;32m    166\u001b[0m     \u001b[38;5;66;03m# The mapping type may have extra properties, so we can't just\u001b[39;00m\n\u001b[0;32m    167\u001b[0m     \u001b[38;5;66;03m# use `type(data)(...)` to create the new mapping.\u001b[39;00m\n\u001b[0;32m    168\u001b[0m     \u001b[38;5;66;03m# Create a clone and update it if the mapping type is mutable.\u001b[39;00m\n\u001b[0;32m    169\u001b[0m     clone \u001b[38;5;241m=\u001b[39m copy\u001b[38;5;241m.\u001b[39mcopy(elem)\n\u001b[0;32m    170\u001b[0m     clone\u001b[38;5;241m.\u001b[39mupdate(\n\u001b[1;32m--> 171\u001b[0m         {\n\u001b[0;32m    172\u001b[0m             key: collate(\n\u001b[0;32m    173\u001b[0m                 [d[key] \u001b[38;5;28;01mfor\u001b[39;00m d \u001b[38;5;129;01min\u001b[39;00m batch], collate_fn_map\u001b[38;5;241m=\u001b[39mcollate_fn_map\n\u001b[0;32m    174\u001b[0m             )\n\u001b[0;32m    175\u001b[0m             \u001b[38;5;28;01mfor\u001b[39;00m key \u001b[38;5;129;01min\u001b[39;00m elem\n\u001b[0;32m    176\u001b[0m         }\n\u001b[0;32m    177\u001b[0m     )\n\u001b[0;32m    178\u001b[0m     \u001b[38;5;28;01mreturn\u001b[39;00m clone\n\u001b[0;32m    179\u001b[0m \u001b[38;5;28;01melse\u001b[39;00m:\n",
      "File \u001b[1;32mf:\\anaconda\\anaconda3\\envs\\DeltaZero\\lib\\site-packages\\torch\\utils\\data\\_utils\\collate.py:172\u001b[0m, in \u001b[0;36m<dictcomp>\u001b[1;34m(.0)\u001b[0m\n\u001b[0;32m    165\u001b[0m \u001b[38;5;28;01mif\u001b[39;00m \u001b[38;5;28misinstance\u001b[39m(elem, collections\u001b[38;5;241m.\u001b[39mabc\u001b[38;5;241m.\u001b[39mMutableMapping):\n\u001b[0;32m    166\u001b[0m     \u001b[38;5;66;03m# The mapping type may have extra properties, so we can't just\u001b[39;00m\n\u001b[0;32m    167\u001b[0m     \u001b[38;5;66;03m# use `type(data)(...)` to create the new mapping.\u001b[39;00m\n\u001b[0;32m    168\u001b[0m     \u001b[38;5;66;03m# Create a clone and update it if the mapping type is mutable.\u001b[39;00m\n\u001b[0;32m    169\u001b[0m     clone \u001b[38;5;241m=\u001b[39m copy\u001b[38;5;241m.\u001b[39mcopy(elem)\n\u001b[0;32m    170\u001b[0m     clone\u001b[38;5;241m.\u001b[39mupdate(\n\u001b[0;32m    171\u001b[0m         {\n\u001b[1;32m--> 172\u001b[0m             key: \u001b[43mcollate\u001b[49m\u001b[43m(\u001b[49m\n\u001b[0;32m    173\u001b[0m \u001b[43m                \u001b[49m\u001b[43m[\u001b[49m\u001b[43md\u001b[49m\u001b[43m[\u001b[49m\u001b[43mkey\u001b[49m\u001b[43m]\u001b[49m\u001b[43m \u001b[49m\u001b[38;5;28;43;01mfor\u001b[39;49;00m\u001b[43m \u001b[49m\u001b[43md\u001b[49m\u001b[43m \u001b[49m\u001b[38;5;129;43;01min\u001b[39;49;00m\u001b[43m \u001b[49m\u001b[43mbatch\u001b[49m\u001b[43m]\u001b[49m\u001b[43m,\u001b[49m\u001b[43m \u001b[49m\u001b[43mcollate_fn_map\u001b[49m\u001b[38;5;241;43m=\u001b[39;49m\u001b[43mcollate_fn_map\u001b[49m\n\u001b[0;32m    174\u001b[0m \u001b[43m            \u001b[49m\u001b[43m)\u001b[49m\n\u001b[0;32m    175\u001b[0m             \u001b[38;5;28;01mfor\u001b[39;00m key \u001b[38;5;129;01min\u001b[39;00m elem\n\u001b[0;32m    176\u001b[0m         }\n\u001b[0;32m    177\u001b[0m     )\n\u001b[0;32m    178\u001b[0m     \u001b[38;5;28;01mreturn\u001b[39;00m clone\n\u001b[0;32m    179\u001b[0m \u001b[38;5;28;01melse\u001b[39;00m:\n",
      "File \u001b[1;32mf:\\anaconda\\anaconda3\\envs\\DeltaZero\\lib\\site-packages\\torch\\utils\\data\\_utils\\collate.py:155\u001b[0m, in \u001b[0;36mcollate\u001b[1;34m(batch, collate_fn_map)\u001b[0m\n\u001b[0;32m    153\u001b[0m \u001b[38;5;28;01mif\u001b[39;00m collate_fn_map \u001b[38;5;129;01mis\u001b[39;00m \u001b[38;5;129;01mnot\u001b[39;00m \u001b[38;5;28;01mNone\u001b[39;00m:\n\u001b[0;32m    154\u001b[0m     \u001b[38;5;28;01mif\u001b[39;00m elem_type \u001b[38;5;129;01min\u001b[39;00m collate_fn_map:\n\u001b[1;32m--> 155\u001b[0m         \u001b[38;5;28;01mreturn\u001b[39;00m \u001b[43mcollate_fn_map\u001b[49m\u001b[43m[\u001b[49m\u001b[43melem_type\u001b[49m\u001b[43m]\u001b[49m\u001b[43m(\u001b[49m\u001b[43mbatch\u001b[49m\u001b[43m,\u001b[49m\u001b[43m \u001b[49m\u001b[43mcollate_fn_map\u001b[49m\u001b[38;5;241;43m=\u001b[39;49m\u001b[43mcollate_fn_map\u001b[49m\u001b[43m)\u001b[49m\n\u001b[0;32m    157\u001b[0m     \u001b[38;5;28;01mfor\u001b[39;00m collate_type \u001b[38;5;129;01min\u001b[39;00m collate_fn_map:\n\u001b[0;32m    158\u001b[0m         \u001b[38;5;28;01mif\u001b[39;00m \u001b[38;5;28misinstance\u001b[39m(elem, collate_type):\n",
      "File \u001b[1;32mf:\\anaconda\\anaconda3\\envs\\DeltaZero\\lib\\site-packages\\torch\\utils\\data\\_utils\\collate.py:272\u001b[0m, in \u001b[0;36mcollate_tensor_fn\u001b[1;34m(batch, collate_fn_map)\u001b[0m\n\u001b[0;32m    270\u001b[0m     storage \u001b[38;5;241m=\u001b[39m elem\u001b[38;5;241m.\u001b[39m_typed_storage()\u001b[38;5;241m.\u001b[39m_new_shared(numel, device\u001b[38;5;241m=\u001b[39melem\u001b[38;5;241m.\u001b[39mdevice)\n\u001b[0;32m    271\u001b[0m     out \u001b[38;5;241m=\u001b[39m elem\u001b[38;5;241m.\u001b[39mnew(storage)\u001b[38;5;241m.\u001b[39mresize_(\u001b[38;5;28mlen\u001b[39m(batch), \u001b[38;5;241m*\u001b[39m\u001b[38;5;28mlist\u001b[39m(elem\u001b[38;5;241m.\u001b[39msize()))\n\u001b[1;32m--> 272\u001b[0m \u001b[38;5;28;01mreturn\u001b[39;00m \u001b[43mtorch\u001b[49m\u001b[38;5;241;43m.\u001b[39;49m\u001b[43mstack\u001b[49m\u001b[43m(\u001b[49m\u001b[43mbatch\u001b[49m\u001b[43m,\u001b[49m\u001b[43m \u001b[49m\u001b[38;5;241;43m0\u001b[39;49m\u001b[43m,\u001b[49m\u001b[43m \u001b[49m\u001b[43mout\u001b[49m\u001b[38;5;241;43m=\u001b[39;49m\u001b[43mout\u001b[49m\u001b[43m)\u001b[49m\n",
      "\u001b[1;31mKeyboardInterrupt\u001b[0m: "
     ]
    }
   ],
   "source": [
    "test_loader = DataLoader(test_dataset, batch_size=1, shuffle=False)\n",
    "metrics = []\n",
    "for batch in tqdm(test_loader, desc=\"计算测试集指标\"):\n",
    "    all_scores = batch['all_item_scores'].squeeze(0).sum(dim=0, keepdim=True)\n",
    "    item_ids_np = batch['base_model_preds'].cpu().numpy().reshape(-1)\n",
    "    item_indices = torch.tensor(np.array([data.item_to_id[id] for id in item_ids_np]), device=\"cuda\")\n",
    "    all_item_counts = torch.bincount(item_indices, minlength=data.n_item)\n",
    "    # 将计数为0的位置替换为无穷大\n",
    "    all_item_counts[all_item_counts == 0] = 1_000_000_000\n",
    "    all_scores = all_scores / all_item_counts.unsqueeze(0)\n",
    "    scores, indices = torch.topk(all_scores, 10)\n",
    "\n",
    "    user_id = batch['user_id'].item()\n",
    "    pos_item = batch['pos_item'].item()\n",
    "\n",
    "    true_item_ids = data.user_interacted_item_ids[user_id]\n",
    "    true_item_ids = true_item_ids[true_item_ids.index(data.item_to_id[pos_item]) + 1:]\n",
    "\n",
    "    predicted_item_ids = np.array([indices[0].cpu().numpy().tolist()])\n",
    "    print(predicted_item_ids.shape)\n",
    "    score = nDCG(np.array(predicted_item_ids), [true_item_ids])\n",
    "    # score = map(predicted_item_ids[0], true_item_ids)\n",
    "    # score = mrr(predicted_item_ids[0], true_item_ids)\n",
    "    metrics.append(score)\n",
    "np.mean(metrics)"
   ]
  },
  {
   "cell_type": "markdown",
   "metadata": {},
   "source": [
    "### 根据基模型加权"
   ]
  },
  {
   "cell_type": "code",
   "execution_count": 83,
   "metadata": {},
   "outputs": [],
   "source": [
    "ml_wgts = [0.1535, 0.1105, 0.1559, 0.1684, 0.1682, 0.1170, 0.1265]\n",
    "kuairec_wgts = [0.15, 0.1101, 0.1562, 0.1477, 0.1615, 0.1183, 0.1562]\n",
    "amazon_wgts = [0.1899, 0.0627, 0.0429, 0.1306, 0.2539, 0.1007, 0.2193]"
   ]
  },
  {
   "cell_type": "code",
   "execution_count": null,
   "metadata": {},
   "outputs": [
    {
     "name": "stderr",
     "output_type": "stream",
     "text": [
      "计算测试集指标:   3%|▎         | 226/8345 [00:00<00:23, 339.11it/s]"
     ]
    }
   ],
   "source": [
    "test_loader = DataLoader(test_dataset, batch_size=1, shuffle=False)\n",
    "metrics = []\n",
    "for batch in tqdm(test_loader, desc=\"计算测试集指标\"):\n",
    "    all_scores = batch['all_item_scores'] * torch.tensor(amazon_wgts, device=batch['all_item_scores'].device).view(1, -1, 1)\n",
    "    all_scores = all_scores.squeeze(0).sum(dim=0, keepdim=True)\n",
    "    scores, indices = torch.topk(all_scores, 10)\n",
    "\n",
    "    user_id = batch['user_id'][0].item()\n",
    "    pos_item = batch['pos_item'][0].item()\n",
    "\n",
    "    true_item_ids = data.user_interacted_item_ids[user_id]\n",
    "    true_item_ids = true_item_ids[true_item_ids.index(data.item_to_id[pos_item]) + 1:]\n",
    "\n",
    "    predicted_item_ids = np.array([indices[0].cpu().numpy().tolist()])\n",
    "    score = nDCG(np.array(predicted_item_ids), [true_item_ids])\n",
    "    # score = map(predicted_item_ids[0], true_item_ids)\n",
    "    # score = mrr(predicted_item_ids[0], true_item_ids)\n",
    "    metrics.append(score)\n",
    "np.mean(metrics)"
   ]
  },
  {
   "cell_type": "markdown",
   "metadata": {},
   "source": [
    "### AEM"
   ]
  },
  {
   "cell_type": "code",
   "execution_count": 33,
   "metadata": {},
   "outputs": [
    {
     "name": "stderr",
     "output_type": "stream",
     "text": [
      "计算测试集指标: 100%|██████████| 50/50 [00:05<00:00,  9.03it/s]\n"
     ]
    },
    {
     "data": {
      "text/plain": [
       "np.float64(0.43130702216297756)"
      ]
     },
     "execution_count": 33,
     "metadata": {},
     "output_type": "execute_result"
    }
   ],
   "source": [
    "from model.aem import AEM\n",
    "aem = AEM(args['model'], args['data'], data.n_user, 10737)\n",
    "aem.load_state_dict(torch.load(\"ckpt/kuairec/aem_0.4313.pth\"))\n",
    "test_loader = DataLoader(test_dataset, batch_size=args['batch_size'], shuffle=True)\n",
    "infer(aem, 10, 'ndcg')"
   ]
  },
  {
   "cell_type": "markdown",
   "metadata": {},
   "source": [
    "### Stack"
   ]
  },
  {
   "cell_type": "code",
   "execution_count": 23,
   "metadata": {},
   "outputs": [
    {
     "name": "stderr",
     "output_type": "stream",
     "text": [
      "计算测试集指标:   0%|          | 0/50 [00:00<?, ?it/s]"
     ]
    },
    {
     "name": "stderr",
     "output_type": "stream",
     "text": [
      "计算测试集指标: 100%|██████████| 50/50 [00:12<00:00,  3.98it/s]\n"
     ]
    },
    {
     "data": {
      "text/plain": [
       "0.3310864184321948"
      ]
     },
     "execution_count": 23,
     "metadata": {},
     "output_type": "execute_result"
    }
   ],
   "source": [
    "from model.stack import StackingModel\n",
    "stack_model = StackingModel(args['model'], args['data'], data.n_user)\n",
    "stack_model.load_state_dict(torch.load(\"D:\\Code\\graduation_design\\\\bpr\\ckpt\\kuairec\\stack_0.4256.pth\"))\n",
    "stack_model.eval()\n",
    "infer(stack_model, 10, 'mrr')"
   ]
  },
  {
   "cell_type": "markdown",
   "metadata": {},
   "source": [
    "## 基础模型"
   ]
  },
  {
   "cell_type": "code",
   "execution_count": 9,
   "metadata": {},
   "outputs": [
    {
     "name": "stderr",
     "output_type": "stream",
     "text": [
      "计算acf测试集指标...: 100%|██████████| 24024/24024 [00:28<00:00, 831.93it/s, score=0]    \n"
     ]
    },
    {
     "name": "stdout",
     "output_type": "stream",
     "text": [
      "acf: 0.23418990070775786\n"
     ]
    },
    {
     "name": "stderr",
     "output_type": "stream",
     "text": [
      "计算fdsa测试集指标...: 100%|██████████| 24024/24024 [00:34<00:00, 692.97it/s, score=0]    \n"
     ]
    },
    {
     "name": "stdout",
     "output_type": "stream",
     "text": [
      "fdsa: 0.10429978421049849\n"
     ]
    },
    {
     "name": "stderr",
     "output_type": "stream",
     "text": [
      "计算harnn测试集指标...: 100%|██████████| 24024/24024 [00:27<00:00, 875.79it/s, score=0]    \n"
     ]
    },
    {
     "name": "stdout",
     "output_type": "stream",
     "text": [
      "harnn: 0.1450569106819107\n"
     ]
    },
    {
     "name": "stderr",
     "output_type": "stream",
     "text": [
      "计算caser测试集指标...: 100%|██████████| 24024/24024 [00:29<00:00, 819.38it/s, score=0]    \n"
     ]
    },
    {
     "name": "stdout",
     "output_type": "stream",
     "text": [
      "caser: 0.23844888577031434\n"
     ]
    },
    {
     "name": "stderr",
     "output_type": "stream",
     "text": [
      "计算pfmc测试集指标...: 100%|██████████| 24024/24024 [00:34<00:00, 701.10it/s, score=0]    \n"
     ]
    },
    {
     "name": "stdout",
     "output_type": "stream",
     "text": [
      "pfmc: 0.2854783939605368\n"
     ]
    },
    {
     "name": "stderr",
     "output_type": "stream",
     "text": [
      "计算sasrec测试集指标...: 100%|██████████| 24024/24024 [00:33<00:00, 717.91it/s, score=0]    \n"
     ]
    },
    {
     "name": "stdout",
     "output_type": "stream",
     "text": [
      "sasrec: 0.0939187135615707\n"
     ]
    },
    {
     "name": "stderr",
     "output_type": "stream",
     "text": [
      "计算anam测试集指标...: 100%|██████████| 24024/24024 [00:28<00:00, 833.26it/s, score=0]    "
     ]
    },
    {
     "name": "stdout",
     "output_type": "stream",
     "text": [
      "anam: 0.24562339115910545\n"
     ]
    },
    {
     "name": "stderr",
     "output_type": "stream",
     "text": [
      "\n"
     ]
    }
   ],
   "source": [
    "base_model_results = {}\n",
    "for base_model in args['data']['base_model']:\n",
    "    model = np.load(args['data']['base_model_path'] + f\"/{base_model}.npy\")\n",
    "    scores = []\n",
    "    phar = tqdm(test_samples, desc=f\"计算{base_model}测试集指标...\")\n",
    "    for case in phar:\n",
    "        user_id = case['user_id']\n",
    "        pos_item = case['pos_item']\n",
    "\n",
    "        interaction_idx = data.get_interaction_index(user_id, data.item_to_id[pos_item])\n",
    "        assert interaction_idx != -1\n",
    "\n",
    "        predicted_item_ids = model[interaction_idx][2:2+10]\n",
    "        true_item_ids = data.user_interacted_item_ids[user_id]\n",
    "        true_item_ids = true_item_ids[true_item_ids.index(data.item_to_id[pos_item]) + 1:]\n",
    "\n",
    "        predicted_items = np.array([predicted_item_ids])\n",
    "        # score = nDCG(np.array(predicted_items), [true_item_ids])\n",
    "        # score = map(predicted_items[0], true_item_ids)\n",
    "        score = mrr(predicted_items[0], true_item_ids)\n",
    "        scores.append(score)\n",
    "\n",
    "        phar.set_postfix(score=score)\n",
    "    print(f\"{base_model}: {round(np.mean(scores), 4)}\")"
   ]
  },
  {
   "cell_type": "code",
   "execution_count": null,
   "metadata": {},
   "outputs": [
    {
     "name": "stderr",
     "output_type": "stream",
     "text": [
      "计算测试集指标: 100%|██████████| 30/30 [00:16<00:00,  1.84it/s]\n"
     ]
    },
    {
     "name": "stdout",
     "output_type": "stream",
     "text": [
      "ndcg: 0.26564731282703286\n"
     ]
    },
    {
     "name": "stderr",
     "output_type": "stream",
     "text": [
      "计算测试集指标: 100%|██████████| 30/30 [00:13<00:00,  2.28it/s]\n"
     ]
    },
    {
     "name": "stdout",
     "output_type": "stream",
     "text": [
      "map: 0.19748149569650228\n"
     ]
    },
    {
     "name": "stderr",
     "output_type": "stream",
     "text": [
      "计算测试集指标: 100%|██████████| 30/30 [00:23<00:00,  1.27it/s]"
     ]
    },
    {
     "name": "stdout",
     "output_type": "stream",
     "text": [
      "mrr: 0.20382932247867835\n"
     ]
    },
    {
     "name": "stderr",
     "output_type": "stream",
     "text": [
      "\n"
     ]
    }
   ],
   "source": [
    "test_loader = DataLoader(test_dataset, batch_size=args['batch_size'], shuffle=True)\n",
    "for metric in ['ndcg', 'map', 'mrr']:\n",
    "    print(f\"{metric}: {infer(ensrec, 10, metric)}\")"
   ]
  },
  {
   "cell_type": "code",
   "execution_count": 75,
   "metadata": {},
   "outputs": [
    {
     "name": "stderr",
     "output_type": "stream",
     "text": [
      "计算测试集指标...: 100%|██████████| 14904/14904 [00:02<00:00, 6323.74it/s] \n"
     ]
    },
    {
     "name": "stdout",
     "output_type": "stream",
     "text": [
      "ndcg: 0.2766 map: 0.2088 mrrs: 0.2413\n"
     ]
    }
   ],
   "source": [
    "base_model_results = {}\n",
    "model = np.load(\"D:\\Code\\graduation_design\\\\basemodel_results\\Toys_and_Games\\\\anam.npy\")\n",
    "ndcgs = []\n",
    "maps = []\n",
    "mrrs = []\n",
    "phar = tqdm(test_samples, desc=f\"计算测试集指标...\")\n",
    "for case in phar:\n",
    "    user_id = case['user_id']\n",
    "    pos_item = case['pos_item']\n",
    "\n",
    "    interaction_idx = data.get_interaction_index(user_id, data.item_to_id[pos_item])\n",
    "    assert interaction_idx != -1\n",
    "    predicted_item_ids = model[interaction_idx][2:2+10]\n",
    "    true_item_ids = data.user_interacted_item_ids[user_id]\n",
    "    true_item_ids = true_item_ids[true_item_ids.index(data.item_to_id[pos_item]) + 1:]\n",
    "\n",
    "    predicted_items = np.array([predicted_item_ids])\n",
    "    ndcgs.append(nDCG(np.array(predicted_items), [true_item_ids]))\n",
    "    maps.append(map(predicted_items[0], true_item_ids))\n",
    "    mrrs.append(mrr(predicted_items[0], true_item_ids))\n",
    "\n",
    "print(f\"ndcg: {round(np.mean(ndcgs), 4)} map: {round(np.mean(maps), 4)} mrr: {round(np.mean(mrrs), 4)}\")"
   ]
  },
  {
   "cell_type": "code",
   "execution_count": 82,
   "metadata": {},
   "outputs": [
    {
     "name": "stdout",
     "output_type": "stream",
     "text": [
      "caser: 0.1684\n",
      "pfmc: 0.1682\n",
      "acf: 0.1535\n",
      "anam: 0.1265\n",
      "fdsa: 0.1105\n",
      "harnn: 0.1559\n",
      "sasrec: 0.1170\n"
     ]
    }
   ],
   "source": [
    "import numpy as np\n",
    "\n",
    "# 模型分数\n",
    "scores = {\n",
    "    \"caser\": 0.36663333,\n",
    "    \"pfmc\": 0.3661,\n",
    "    \"acf\": 0.33413333,\n",
    "    \"anam\": 0.27546667,\n",
    "    \"fdsa\": 0.2405,\n",
    "    \"harnn\": 0.33933333,\n",
    "    \"sasrec\": 0.25473333\n",
    "}\n",
    "\n",
    "# 计算 Softmax 权重\n",
    "def calculate_softmax_weights(scores):\n",
    "    values = np.array(list(scores.values()))\n",
    "    softmax_weights = values / np.sum(values)  # 归一化\n",
    "    return dict(zip(scores.keys(), softmax_weights))\n",
    "\n",
    "weights = calculate_softmax_weights(scores)\n",
    "\n",
    "# 打印结果\n",
    "for model, weight in weights.items():\n",
    "    print(f\"{model}: {weight:.4f}\")"
   ]
  },
  {
   "cell_type": "code",
   "execution_count": 81,
   "metadata": {},
   "outputs": [
    {
     "name": "stdout",
     "output_type": "stream",
     "text": [
      "[0.36663333 0.3661     0.33413333 0.27546667 0.2405     0.33933333\n",
      " 0.25473333]\n"
     ]
    }
   ],
   "source": [
    "import numpy as np\n",
    "\n",
    "\"\"\"\n",
    "||||\n",
    "|-|-|-|\n",
    "|0.4378|0.3134|0.3487|\n",
    "|0.4444|0.3110|0.3429|\n",
    "|0.4074|0.2849|0.3101|\n",
    "|0.3210|0.2381|0.2673|\n",
    "|0.3192|0.1986|0.2037|\n",
    "|0.4098|0.2890|0.3192|\n",
    "|0.3405|0.2155|0.2082|\n",
    "\"\"\"\n",
    "\n",
    "data = np.array([\n",
    "    [0.4378, 0.3134, 0.3487],\n",
    "    [0.4444, 0.3110, 0.3429],\n",
    "    [0.4074, 0.2849, 0.3101],\n",
    "    [0.3210, 0.2381, 0.2673],\n",
    "    [0.3192, 0.1986, 0.2037],\n",
    "    [0.4098, 0.2890, 0.3192],\n",
    "    [0.3405, 0.2155, 0.2082]\n",
    "])\n",
    "\n",
    "# 计算每一行的均值\n",
    "row_means = np.mean(data, axis=1)\n",
    "\n",
    "# 打印结果\n",
    "print(row_means)"
   ]
  }
 ],
 "metadata": {
  "kernelspec": {
   "display_name": "torch",
   "language": "python",
   "name": "python3"
  },
  "language_info": {
   "codemirror_mode": {
    "name": "ipython",
    "version": 3
   },
   "file_extension": ".py",
   "mimetype": "text/x-python",
   "name": "python",
   "nbconvert_exporter": "python",
   "pygments_lexer": "ipython3",
   "version": "3.10.16"
  }
 },
 "nbformat": 4,
 "nbformat_minor": 2
}
