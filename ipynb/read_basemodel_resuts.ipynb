{
 "cells": [
  {
   "cell_type": "code",
   "execution_count": 1,
   "metadata": {},
   "outputs": [],
   "source": [
    "import numpy as np"
   ]
  },
  {
   "cell_type": "code",
   "execution_count": 13,
   "metadata": {},
   "outputs": [],
   "source": [
    "file_path = \"D:/Code/graduation_design/base_model_results/ml-1m/anam.npy\"\n",
    "acf = np.load(file_path)"
   ]
  },
  {
   "cell_type": "code",
   "execution_count": 14,
   "metadata": {},
   "outputs": [
    {
     "data": {
      "text/plain": [
       "(834449, 102)"
      ]
     },
     "execution_count": 14,
     "metadata": {},
     "output_type": "execute_result"
    }
   ],
   "source": [
    "acf.shape"
   ]
  },
  {
   "cell_type": "code",
   "execution_count": 15,
   "metadata": {},
   "outputs": [
    {
     "data": {
      "text/plain": [
       "array([[0, 0],\n",
       "       [0, 1],\n",
       "       [0, 2],\n",
       "       [0, 3],\n",
       "       [0, 4],\n",
       "       [0, 5],\n",
       "       [0, 6],\n",
       "       [0, 7],\n",
       "       [0, 8],\n",
       "       [0, 9]], dtype=int64)"
      ]
     },
     "execution_count": 15,
     "metadata": {},
     "output_type": "execute_result"
    }
   ],
   "source": [
    "acf[:10, :2]"
   ]
  },
  {
   "cell_type": "code",
   "execution_count": 20,
   "metadata": {},
   "outputs": [
    {
     "data": {
      "text/plain": [
       "(834351, 0)"
      ]
     },
     "execution_count": 20,
     "metadata": {},
     "output_type": "execute_result"
    }
   ],
   "source": [
    "np.unravel_index(np.argmax(acf), acf.shape)"
   ]
  },
  {
   "cell_type": "code",
   "execution_count": 24,
   "metadata": {},
   "outputs": [],
   "source": [
    "file_path = \"D:/Code/graduation_design/base_model_results/ml-1m/anam.npy\"\n",
    "anam = np.load(file_path)"
   ]
  },
  {
   "cell_type": "code",
   "execution_count": 30,
   "metadata": {},
   "outputs": [
    {
     "data": {
      "text/plain": [
       "((834174, 0),\n",
       " array([6032,  492,   59, 1141,  854, 1802, 1351, 1429,   57,  978,   76,\n",
       "           9,   13, 2016, 1357, 1261,   62,  737, 1381,  492, 1107, 1749,\n",
       "         504,   41,  380, 2247,   74, 1132, 1292, 1196,  237,  330,  533,\n",
       "        2675,  324,   55, 1550, 1283,  325, 2492,  781, 1403,  972,   15,\n",
       "          53,   24, 1021,    1,  256,   60,  184,  719,   82,  707,   85,\n",
       "        1108,   77,  187,  973,  539,  238,   37,   94,   11,  185,   64,\n",
       "         751, 1504,  370,   54,  974,   95, 1316,  680,  111,  333, 1241,\n",
       "        1291,  234,  971,    7, 1464,  734,  249, 1736,  182,  163, 1750,\n",
       "         463,  708,  461, 2346, 1277, 1148,   12,  116, 1001,  239, 1826,\n",
       "        1747, 2281,   14], dtype=int64),\n",
       " array([6032,  387,   59, 1141,  854, 1802, 1351, 1429,   57,  978,   76,\n",
       "           9,   13, 2016, 1357, 1261,   62,  737, 1381,  492, 1107, 1749,\n",
       "         504,   41,  380, 2247,   74, 1132, 1292, 1196,  237,  330,  533,\n",
       "        2675,  324,   55, 1550, 1283,  325, 2492,  781, 1403,  972,   15,\n",
       "          53,   24, 1021,    1,  256,   60,  184,  719,   82,  707,   85,\n",
       "        1108,   77,  187,  973,  539,  238,   37,   94,   11,  185,   64,\n",
       "         751, 1504,  370,   54,  974,   95, 1316,  680,  111,  333, 1241,\n",
       "        1291,  234,  971,    7, 1464,  734,  249, 1736,  182,  163, 1750,\n",
       "         463,  708,  461, 2346, 1277, 1148,   12,  116, 1001,  239, 1826,\n",
       "        1747, 2281,   14], dtype=int64))"
      ]
     },
     "execution_count": 30,
     "metadata": {},
     "output_type": "execute_result"
    }
   ],
   "source": [
    "np.unravel_index(np.argmax(anam), acf.shape), anam[834174], anam[834351]"
   ]
  }
 ],
 "metadata": {
  "kernelspec": {
   "display_name": "DeltaZero",
   "language": "python",
   "name": "python3"
  },
  "language_info": {
   "codemirror_mode": {
    "name": "ipython",
    "version": 3
   },
   "file_extension": ".py",
   "mimetype": "text/x-python",
   "name": "python",
   "nbconvert_exporter": "python",
   "pygments_lexer": "ipython3",
   "version": "3.10.12"
  }
 },
 "nbformat": 4,
 "nbformat_minor": 2
}
