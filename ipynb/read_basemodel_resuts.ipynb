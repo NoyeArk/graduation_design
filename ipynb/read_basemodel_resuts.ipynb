{
 "cells": [
  {
   "cell_type": "code",
   "execution_count": 1,
   "metadata": {},
   "outputs": [],
   "source": [
    "import numpy as np"
   ]
  },
  {
   "cell_type": "code",
   "execution_count": 4,
   "metadata": {},
   "outputs": [],
   "source": [
    "file_path = \"D:/Code/graduation_design/base_model_results/ml-1m/ACF.npy\"\n",
    "acf = np.load(file_path)"
   ]
  },
  {
   "cell_type": "code",
   "execution_count": 13,
   "metadata": {},
   "outputs": [
    {
     "data": {
      "text/plain": [
       "(834449, 102)"
      ]
     },
     "execution_count": 13,
     "metadata": {},
     "output_type": "execute_result"
    }
   ],
   "source": [
    "acf.shape"
   ]
  },
  {
   "cell_type": "code",
   "execution_count": 21,
   "metadata": {},
   "outputs": [
    {
     "data": {
      "text/plain": [
       "(array([6032,  492, 1403, 2291, 2499, 1107, 2391,   55, 1283, 1749, 1132,\n",
       "        1429, 1802, 1381, 2346, 1261, 1899, 1750, 2675,  854, 1141, 2347,\n",
       "        1504,  111,  973, 1196,  972, 2281,   94, 1255, 2105, 2459, 1021,\n",
       "        2491, 2245, 1357, 2288,  903, 2683, 2016, 1388,  734,  751, 2492,\n",
       "        2404, 2055, 1965, 2054,  256, 1488, 2662, 1741, 1685, 1936,  781,\n",
       "        2689, 2402, 1464, 2247, 1778, 1431, 1377,   77, 1441, 2362, 2480,\n",
       "         737, 1102, 2483, 2696, 1677,  258,  184, 1738,  324, 2412, 2490,\n",
       "        1108, 1277, 1351, 2405, 2256, 1829,  237, 1133, 1455, 2385, 1654,\n",
       "        1296, 1499,  289, 1337, 1396,   57, 1839, 2814,   84,  240, 2276,\n",
       "        2605,  248, 1263], dtype=int64),\n",
       " array([6032,  387,  237,   59,   13,  238, 1283, 1802,    9,   41,  380,\n",
       "         239,  680,  504,   81,   60, 1316,   74,  734,   62,  476,  234,\n",
       "         325,  254,  719,   64,   63,   12,  492,    8,  737,  249, 1357,\n",
       "        1550, 1122,   76,   55,  517,  705,  708,  287, 1088, 1276,  185,\n",
       "        1381,    7, 2247, 1403,  241,   66,  703, 1453,  201,  547,   85,\n",
       "        1394, 1292,  878,  533,   28, 1010, 1125, 1965,  759,   82,   65,\n",
       "        1736,  707,  462,  240,  264,  410, 1429,  256,  697,  874,  245,\n",
       "         248,   89, 1830,  346, 1107,   93, 1123, 1749,  184,   88, 1291,\n",
       "         461,  182, 1108,  202,   11, 1277,  751,   53, 1288, 1432,  505,\n",
       "        1282,  787,  218], dtype=int64))"
      ]
     },
     "execution_count": 21,
     "metadata": {},
     "output_type": "execute_result"
    }
   ],
   "source": [
    "acf[834174], acf[834351]"
   ]
  },
  {
   "cell_type": "code",
   "execution_count": 20,
   "metadata": {},
   "outputs": [
    {
     "data": {
      "text/plain": [
       "(834351, 0)"
      ]
     },
     "execution_count": 20,
     "metadata": {},
     "output_type": "execute_result"
    }
   ],
   "source": [
    "np.unravel_index(np.argmax(acf), acf.shape)"
   ]
  },
  {
   "cell_type": "code",
   "execution_count": 24,
   "metadata": {},
   "outputs": [],
   "source": [
    "file_path = \"D:/Code/graduation_design/base_model_results/ml-1m/anam.npy\"\n",
    "anam = np.load(file_path)"
   ]
  },
  {
   "cell_type": "code",
   "execution_count": 30,
   "metadata": {},
   "outputs": [
    {
     "data": {
      "text/plain": [
       "((834174, 0),\n",
       " array([6032,  492,   59, 1141,  854, 1802, 1351, 1429,   57,  978,   76,\n",
       "           9,   13, 2016, 1357, 1261,   62,  737, 1381,  492, 1107, 1749,\n",
       "         504,   41,  380, 2247,   74, 1132, 1292, 1196,  237,  330,  533,\n",
       "        2675,  324,   55, 1550, 1283,  325, 2492,  781, 1403,  972,   15,\n",
       "          53,   24, 1021,    1,  256,   60,  184,  719,   82,  707,   85,\n",
       "        1108,   77,  187,  973,  539,  238,   37,   94,   11,  185,   64,\n",
       "         751, 1504,  370,   54,  974,   95, 1316,  680,  111,  333, 1241,\n",
       "        1291,  234,  971,    7, 1464,  734,  249, 1736,  182,  163, 1750,\n",
       "         463,  708,  461, 2346, 1277, 1148,   12,  116, 1001,  239, 1826,\n",
       "        1747, 2281,   14], dtype=int64),\n",
       " array([6032,  387,   59, 1141,  854, 1802, 1351, 1429,   57,  978,   76,\n",
       "           9,   13, 2016, 1357, 1261,   62,  737, 1381,  492, 1107, 1749,\n",
       "         504,   41,  380, 2247,   74, 1132, 1292, 1196,  237,  330,  533,\n",
       "        2675,  324,   55, 1550, 1283,  325, 2492,  781, 1403,  972,   15,\n",
       "          53,   24, 1021,    1,  256,   60,  184,  719,   82,  707,   85,\n",
       "        1108,   77,  187,  973,  539,  238,   37,   94,   11,  185,   64,\n",
       "         751, 1504,  370,   54,  974,   95, 1316,  680,  111,  333, 1241,\n",
       "        1291,  234,  971,    7, 1464,  734,  249, 1736,  182,  163, 1750,\n",
       "         463,  708,  461, 2346, 1277, 1148,   12,  116, 1001,  239, 1826,\n",
       "        1747, 2281,   14], dtype=int64))"
      ]
     },
     "execution_count": 30,
     "metadata": {},
     "output_type": "execute_result"
    }
   ],
   "source": [
    "np.unravel_index(np.argmax(anam), acf.shape), anam[834174], anam[834351]"
   ]
  }
 ],
 "metadata": {
  "kernelspec": {
   "display_name": "DeltaZero",
   "language": "python",
   "name": "python3"
  },
  "language_info": {
   "codemirror_mode": {
    "name": "ipython",
    "version": 3
   },
   "file_extension": ".py",
   "mimetype": "text/x-python",
   "name": "python",
   "nbconvert_exporter": "python",
   "pygments_lexer": "ipython3",
   "version": "3.10.12"
  }
 },
 "nbformat": 4,
 "nbformat_minor": 2
}
