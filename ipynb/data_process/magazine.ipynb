{
 "cells": [
  {
   "cell_type": "code",
   "execution_count": 2,
   "metadata": {},
   "outputs": [],
   "source": [
    "import json\n",
    "from tqdm import tqdm"
   ]
  },
  {
   "cell_type": "markdown",
   "metadata": {},
   "source": [
    "处理交互信息"
   ]
  },
  {
   "cell_type": "code",
   "execution_count": null,
   "metadata": {},
   "outputs": [
    {
     "name": "stderr",
     "output_type": "stream",
     "text": [
      "71497it [00:15, 4738.10it/s]\n"
     ]
    }
   ],
   "source": [
    "file = \"D:\\Code\\graduation_design\\data\\magzine\\Magazine_Subscriptions.jsonl\"\n",
    "with open(file, 'r') as fp:\n",
    "    for line in tqdm(fp):\n",
    "        data = json.loads(line.strip())\n",
    "        user_id = data['user_id']\n",
    "        asin = data['asin'] \n",
    "        rating = data['rating']\n",
    "        timestamp = data['timestamp']\n",
    "        \n",
    "        with open('D:/Code/graduation_design/data/magzine/interaction.dat', 'a') as f:\n",
    "            f.write(f\"{user_id}::{asin}::{rating}::{timestamp}\\n\")"
   ]
  },
  {
   "cell_type": "markdown",
   "metadata": {},
   "source": [
    "处理物品信息"
   ]
  },
  {
   "cell_type": "code",
   "execution_count": 8,
   "metadata": {},
   "outputs": [
    {
     "name": "stderr",
     "output_type": "stream",
     "text": [
      "3391it [00:00, 3914.72it/s]\n"
     ]
    }
   ],
   "source": [
    "file = \"D:\\Code\\graduation_design\\data\\magzine\\meta_Magazine_Subscriptions.jsonl\"\n",
    "with open(file, 'r') as fp:\n",
    "    for line in tqdm(fp):\n",
    "        data = json.loads(line.strip())\n",
    "        parent_asin = data['parent_asin']\n",
    "        with open('D:/Code/graduation_design/data/magzine/item.dat', 'a') as f:\n",
    "            f.write(f\"{parent_asin}::{json.dumps(data)}\\n\")"
   ]
  },
  {
   "cell_type": "code",
   "execution_count": 6,
   "metadata": {},
   "outputs": [
    {
     "name": "stderr",
     "output_type": "stream",
     "text": [
      "494121it [01:46, 4620.98it/s]\n"
     ]
    }
   ],
   "source": [
    "import os\n",
    "file = \"D:\\work_space\\Health_and_Personal_Care.jsonl\"\n",
    "\n",
    "# 创建目录路径\n",
    "directory = 'D:/Code/graduation_design/data/magzine'\n",
    "os.makedirs(directory, exist_ok=True)  # exist_ok=True 表示如果目录已存在则不报错\n",
    "\n",
    "with open(file, 'r') as fp:\n",
    "    for line in tqdm(fp):\n",
    "        data = json.loads(line.strip())\n",
    "        user_id = data['user_id']\n",
    "        asin = data['asin'] \n",
    "        rating = data['rating']\n",
    "        timestamp = data['timestamp']\n",
    "\n",
    "        with open('D:/Code/graduation_design/data/magzine/Health_and_Personal_Care.dat', 'a') as f:\n",
    "            f.write(f\"{user_id}::{asin}::{rating}::{timestamp}\\n\")"
   ]
  },
  {
   "cell_type": "code",
   "execution_count": 10,
   "metadata": {},
   "outputs": [
    {
     "name": "stdout",
     "output_type": "stream",
     "text": [
      "用户数量: 461656\n",
      "                                user        item  rating      timestamp\n",
      "0       AFKZENTNBQ7A7V7UXW5JJI6UGRYQ  B07TDSJZMR     4.0  1580950175902\n",
      "1       AEVWAM3YWN5URJVJIZZ6XPD2MKIA  B08637FWWF     5.0  1604354586880\n",
      "2       AHSPLDNW5OOUK2PLH7GXLACFBZNQ  B07KJVGNN5     5.0  1563966838905\n",
      "3       AEZGPLOYTSAPR3DHZKKXEFPAXUAA  B007HY7GC2     4.0  1662258542725\n",
      "5       AFSKPY37N3C43SOI5IEXEK5JSIYA  B09GBMG83Z     5.0  1645402494796\n",
      "...                              ...         ...     ...            ...\n",
      "494116  AEQG5UEVYBNLWPXB3E2EODQ3EGSQ  B07KXT7Y48     5.0  1555042864257\n",
      "494117  AGTVLNJAFZTKURBCHLUIH6VEOQCQ  B07KXT7Y48     5.0  1594962099190\n",
      "494118  AGMA5UN3JPLQLQZ2PFYHJYSC4PNA  B07KXT7Y48     5.0  1551998016968\n",
      "494119  AE2Q3FXHIVGSSDGTNI4YLXDXMCIA  B07KXT7Y48     5.0  1569500571244\n",
      "494120  AH5K35CHSUC2QMGRMDQNXR6BJ72A  B07JYKP19X     5.0  1570064639311\n",
      "\n",
      "[424557 rows x 4 columns]\n",
      "                                user        item  rating      timestamp\n",
      "5       AFSKPY37N3C43SOI5IEXEK5JSIYA  B09GBMG83Z     5.0  1645402494796\n",
      "6       AFSKPY37N3C43SOI5IEXEK5JSIYA  B09FKT5PQ9     4.0  1644266326005\n",
      "7       AFSKPY37N3C43SOI5IEXEK5JSIYA  B08THJD1MH     4.0  1617907534645\n",
      "8       AFSKPY37N3C43SOI5IEXEK5JSIYA  B08FCQML37     5.0  1608066939529\n",
      "10      AFSKPY37N3C43SOI5IEXEK5JSIYA  B0895LW9LL     5.0  1601757145389\n",
      "...                              ...         ...     ...            ...\n",
      "494000  AGIHGIZUDZFYWREZS2SWTOYUE3LQ  B07PMWCR7D     2.0  1563300324551\n",
      "494018  AFVLLJIPNKK2ACMSPMGOVKDLCVVA  B074YN5KY6     4.0  1514994961508\n",
      "494019  AFVLLJIPNKK2ACMSPMGOVKDLCVVA  B071NPB9FR     5.0  1514994205094\n",
      "494025  AGG6AILQGOUDXKQTXRPY4THW54TQ  B01MQ4IB9Y     5.0  1635444227558\n",
      "494026  AGG6AILQGOUDXKQTXRPY4THW54TQ  B06WRVZWT2     2.0  1635444192503\n",
      "\n",
      "[45023 rows x 4 columns]\n"
     ]
    }
   ],
   "source": [
    "import pandas as pd\n",
    "data = pd.read_csv(\"D:/Code/graduation_design/data/magzine/Health_and_Personal_Care.dat\", sep=\"::\", header=None, engine='python')\n",
    "data.columns = ['user', 'item', 'rating', 'timestamp']\n",
    "\n",
    "# 查看用户数量\n",
    "n_users = len(data['user'].unique())\n",
    "print(f\"用户数量: {n_users}\")\n",
    "\n",
    "# 过滤评分\n",
    "data = data[data['rating'] >= 2]\n",
    "print(data)\n",
    "\n",
    "# 过滤交互次数少于阈值的用户和物品\n",
    "user_counts = data['user'].value_counts()\n",
    "item_counts = data['item'].value_counts()\n",
    "\n",
    "users_to_keep = user_counts[user_counts >= 2].index\n",
    "items_to_keep = item_counts[item_counts >= 2].index\n",
    "\n",
    "data = data[data['user'].isin(users_to_keep)]\n",
    "data = data[data['item'].isin(items_to_keep)]\n",
    "print(data)\n",
    "\n",
    "data = data.sort_values(['user', 'timestamp'])\n",
    "data = data.reset_index(drop=True)"
   ]
  }
 ],
 "metadata": {
  "kernelspec": {
   "display_name": "DeltaZero",
   "language": "python",
   "name": "python3"
  },
  "language_info": {
   "codemirror_mode": {
    "name": "ipython",
    "version": 3
   },
   "file_extension": ".py",
   "mimetype": "text/x-python",
   "name": "python",
   "nbconvert_exporter": "python",
   "pygments_lexer": "ipython3",
   "version": "3.10.12"
  }
 },
 "nbformat": 4,
 "nbformat_minor": 2
}
