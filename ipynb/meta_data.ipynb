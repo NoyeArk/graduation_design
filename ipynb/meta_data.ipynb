{
 "cells": [
  {
   "cell_type": "code",
   "execution_count": 1,
   "metadata": {},
   "outputs": [],
   "source": [
    "import numpy as np"
   ]
  },
  {
   "cell_type": "code",
   "execution_count": 2,
   "metadata": {},
   "outputs": [],
   "source": [
    "base_models = ['acf', 'fdsa', 'harnn', 'caser', 'pfmc', 'sasrec', 'anam']\n",
    "\n",
    "meta = []\n",
    "for base_model in base_models:\n",
    "    load = np.load(f\"D:/Code/graduation_design/datasets/basemodel_v/ml-1m/{base_model}.npy\")\n",
    "    meta.append(load)"
   ]
  },
  {
   "cell_type": "code",
   "execution_count": 11,
   "metadata": {},
   "outputs": [
    {
     "data": {
      "text/plain": [
       "array([   1,  112,   58,    2,  391,  302, 1506,   75,  118,  399,  431,\n",
       "        728,  536, 1142,  119,  347,   68,   87,  102,  108,  982,  763,\n",
       "        740,  290, 1238, 1429,   71,  538,  106,   22,  327,  975,  395,\n",
       "        482, 1457,  111,  781,   95, 1337,   20, 1774,   69,  669,  401,\n",
       "        752,   29,   67,  263,  109, 1371,  521,  487,   17, 1617,  117,\n",
       "       1150,  417,  107, 1144,  415,  307, 1219,  408, 2110,   90, 1481,\n",
       "       1221,  245,  409,  977,  369,  131,  275,  392,  508,  273,  410,\n",
       "       1032,  816,  130,  463,  613,   97,   57, 1156, 1464,  976, 1327,\n",
       "        113, 1882,  421,  986,  114,  298,   70,  163,  869, 1187,  406,\n",
       "       1174,  316,  545], dtype=int64)"
      ]
     },
     "execution_count": 11,
     "metadata": {},
     "output_type": "execute_result"
    }
   ],
   "source": [
    "meta[4][116]"
   ]
  },
  {
   "cell_type": "code",
   "execution_count": 10,
   "metadata": {},
   "outputs": [
    {
     "data": {
      "text/plain": [
       "7"
      ]
     },
     "execution_count": 10,
     "metadata": {},
     "output_type": "execute_result"
    }
   ],
   "source": [
    "n_base_models = len(base_models)\n",
    "n_base_models"
   ]
  },
  {
   "cell_type": "code",
   "execution_count": null,
   "metadata": {},
   "outputs": [
    {
     "ename": "NameError",
     "evalue": "name 'self' is not defined",
     "output_type": "error",
     "traceback": [
      "\u001b[1;31m---------------------------------------------------------------------------\u001b[0m",
      "\u001b[1;31mNameError\u001b[0m                                 Traceback (most recent call last)",
      "Cell \u001b[1;32mIn[11], line 1\u001b[0m\n\u001b[1;32m----> 1\u001b[0m label \u001b[38;5;241m=\u001b[39m np\u001b[38;5;241m.\u001b[39mzeros([\u001b[38;5;28mlen\u001b[39m(\u001b[38;5;28;43mself\u001b[39;49m\u001b[38;5;241m.\u001b[39mtrain_meta), n_base_models])\n",
      "\u001b[1;31mNameError\u001b[0m: name 'self' is not defined"
     ]
    }
   ],
   "source": [
    "label = np.zeros([len(train_meta), n_base_models])"
   ]
  },
  {
   "cell_type": "code",
   "execution_count": null,
   "metadata": {},
   "outputs": [],
   "source": []
  }
 ],
 "metadata": {
  "kernelspec": {
   "display_name": "tf",
   "language": "python",
   "name": "python3"
  },
  "language_info": {
   "codemirror_mode": {
    "name": "ipython",
    "version": 3
   },
   "file_extension": ".py",
   "mimetype": "text/x-python",
   "name": "python",
   "nbconvert_exporter": "python",
   "pygments_lexer": "ipython3",
   "version": "3.10.13"
  }
 },
 "nbformat": 4,
 "nbformat_minor": 2
}
