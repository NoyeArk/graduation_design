{
 "cells": [
  {
   "cell_type": "code",
   "execution_count": 1,
   "metadata": {},
   "outputs": [],
   "source": [
    "import pandas as pd"
   ]
  },
  {
   "cell_type": "code",
   "execution_count": 26,
   "metadata": {},
   "outputs": [
    {
     "data": {
      "text/html": [
       "<div>\n",
       "<style scoped>\n",
       "    .dataframe tbody tr th:only-of-type {\n",
       "        vertical-align: middle;\n",
       "    }\n",
       "\n",
       "    .dataframe tbody tr th {\n",
       "        vertical-align: top;\n",
       "    }\n",
       "\n",
       "    .dataframe thead th {\n",
       "        text-align: right;\n",
       "    }\n",
       "</style>\n",
       "<table border=\"1\" class=\"dataframe\">\n",
       "  <thead>\n",
       "    <tr style=\"text-align: right;\">\n",
       "      <th></th>\n",
       "      <th>user_id</th>\n",
       "      <th>video_id</th>\n",
       "      <th>watch_ratio</th>\n",
       "      <th>timestamp</th>\n",
       "    </tr>\n",
       "  </thead>\n",
       "  <tbody>\n",
       "    <tr>\n",
       "      <th>0</th>\n",
       "      <td>14</td>\n",
       "      <td>148</td>\n",
       "      <td>0.722103</td>\n",
       "      <td>1.593898e+09</td>\n",
       "    </tr>\n",
       "    <tr>\n",
       "      <th>1</th>\n",
       "      <td>14</td>\n",
       "      <td>183</td>\n",
       "      <td>1.907377</td>\n",
       "      <td>1.593898e+09</td>\n",
       "    </tr>\n",
       "    <tr>\n",
       "      <th>2</th>\n",
       "      <td>14</td>\n",
       "      <td>3649</td>\n",
       "      <td>2.063311</td>\n",
       "      <td>1.593898e+09</td>\n",
       "    </tr>\n",
       "    <tr>\n",
       "      <th>3</th>\n",
       "      <td>14</td>\n",
       "      <td>5262</td>\n",
       "      <td>0.566388</td>\n",
       "      <td>1.593898e+09</td>\n",
       "    </tr>\n",
       "    <tr>\n",
       "      <th>4</th>\n",
       "      <td>14</td>\n",
       "      <td>8234</td>\n",
       "      <td>0.418364</td>\n",
       "      <td>1.593899e+09</td>\n",
       "    </tr>\n",
       "  </tbody>\n",
       "</table>\n",
       "</div>"
      ],
      "text/plain": [
       "   user_id  video_id  watch_ratio     timestamp\n",
       "0       14       148     0.722103  1.593898e+09\n",
       "1       14       183     1.907377  1.593898e+09\n",
       "2       14      3649     2.063311  1.593898e+09\n",
       "3       14      5262     0.566388  1.593898e+09\n",
       "4       14      8234     0.418364  1.593899e+09"
      ]
     },
     "execution_count": 26,
     "metadata": {},
     "output_type": "execute_result"
    }
   ],
   "source": [
    "df = pd.read_csv('../data/kuairec/interaction.csv', header=None, names=['user_id', 'video_id', 'watch_ratio', 'timestamp'])\n",
    "df.head()"
   ]
  },
  {
   "cell_type": "code",
   "execution_count": 28,
   "metadata": {},
   "outputs": [],
   "source": [
    "# 过滤掉timestamp含有缺失值的行\n",
    "df = df.dropna(subset=['timestamp'])\n",
    "# 过滤掉watch_ratio为0的行\n",
    "df = df[df['watch_ratio'] > 0]"
   ]
  },
  {
   "cell_type": "code",
   "execution_count": 29,
   "metadata": {},
   "outputs": [
    {
     "name": "stdout",
     "output_type": "stream",
     "text": [
      "用户数量: 1411\n",
      "视频数量: 3327\n",
      "交互数量: 4465531\n"
     ]
    }
   ],
   "source": [
    "print(f\"用户数量: {df['user_id'].nunique()}\")\n",
    "print(f\"视频数量: {df['video_id'].nunique()}\")\n",
    "print(f\"交互数量: {len(df)}\")"
   ]
  },
  {
   "cell_type": "code",
   "execution_count": 30,
   "metadata": {},
   "outputs": [
    {
     "name": "stdout",
     "output_type": "stream",
     "text": [
      "每个用户最少交互的物品个数: 1636\n",
      "每个用户最多交互的物品个数: 3296\n",
      "每个用户平均交互的物品个数: 3164.80\n"
     ]
    }
   ],
   "source": [
    "# 统计每个用户的交互物品数量\n",
    "user_interact_counts = df.groupby('user_id')['video_id'].nunique()\n",
    "\n",
    "print(f\"每个用户最少交互的物品个数: {user_interact_counts.min()}\")\n",
    "print(f\"每个用户最多交互的物品个数: {user_interact_counts.max()}\")\n",
    "print(f\"每个用户平均交互的物品个数: {user_interact_counts.mean():.2f}\")"
   ]
  },
  {
   "cell_type": "code",
   "execution_count": 31,
   "metadata": {},
   "outputs": [
    {
     "name": "stdout",
     "output_type": "stream",
     "text": [
      "观看时长比例最小值: 0.0000\n",
      "观看时长比例最大值: 571.5214\n"
     ]
    }
   ],
   "source": [
    "print(f\"观看时长比例最小值: {df['watch_ratio'].min():.4f}\")\n",
    "print(f\"观看时长比例最大值: {df['watch_ratio'].max():.4f}\")"
   ]
  },
  {
   "cell_type": "code",
   "execution_count": 32,
   "metadata": {},
   "outputs": [
    {
     "data": {
      "text/html": [
       "<div>\n",
       "<style scoped>\n",
       "    .dataframe tbody tr th:only-of-type {\n",
       "        vertical-align: middle;\n",
       "    }\n",
       "\n",
       "    .dataframe tbody tr th {\n",
       "        vertical-align: top;\n",
       "    }\n",
       "\n",
       "    .dataframe thead th {\n",
       "        text-align: right;\n",
       "    }\n",
       "</style>\n",
       "<table border=\"1\" class=\"dataframe\">\n",
       "  <thead>\n",
       "    <tr style=\"text-align: right;\">\n",
       "      <th></th>\n",
       "      <th>user_id</th>\n",
       "      <th>video_id</th>\n",
       "      <th>watch_ratio</th>\n",
       "      <th>timestamp</th>\n",
       "    </tr>\n",
       "  </thead>\n",
       "  <tbody>\n",
       "  </tbody>\n",
       "</table>\n",
       "</div>"
      ],
      "text/plain": [
       "Empty DataFrame\n",
       "Columns: [user_id, video_id, watch_ratio, timestamp]\n",
       "Index: []"
      ]
     },
     "execution_count": 32,
     "metadata": {},
     "output_type": "execute_result"
    }
   ],
   "source": [
    "tmp = df[df['watch_ratio'] == 0]\n",
    "tmp.head()"
   ]
  },
  {
   "cell_type": "code",
   "execution_count": 33,
   "metadata": {},
   "outputs": [
    {
     "name": "stdout",
     "output_type": "stream",
     "text": [
      "观看时长比例为0的占比: 0.0000%\n"
     ]
    }
   ],
   "source": [
    "# 计算watch_ratio等于0的比例\n",
    "zero_ratio = (df['watch_ratio'] == 0).mean()\n",
    "print(f\"观看时长比例为0的占比: {zero_ratio:.4%}\")"
   ]
  },
  {
   "cell_type": "code",
   "execution_count": 14,
   "metadata": {},
   "outputs": [
    {
     "name": "stderr",
     "output_type": "stream",
     "text": [
      "f:\\anaconda\\anaconda3\\envs\\DeltaZero\\lib\\site-packages\\IPython\\core\\pylabtools.py:152: UserWarning: Glyph 39057 (\\N{CJK UNIFIED IDEOGRAPH-9891}) missing from current font.\n",
      "  fig.canvas.print_figure(bytes_io, **kw)\n",
      "f:\\anaconda\\anaconda3\\envs\\DeltaZero\\lib\\site-packages\\IPython\\core\\pylabtools.py:152: UserWarning: Glyph 25968 (\\N{CJK UNIFIED IDEOGRAPH-6570}) missing from current font.\n",
      "  fig.canvas.print_figure(bytes_io, **kw)\n",
      "f:\\anaconda\\anaconda3\\envs\\DeltaZero\\lib\\site-packages\\IPython\\core\\pylabtools.py:152: UserWarning: Glyph 35266 (\\N{CJK UNIFIED IDEOGRAPH-89C2}) missing from current font.\n",
      "  fig.canvas.print_figure(bytes_io, **kw)\n",
      "f:\\anaconda\\anaconda3\\envs\\DeltaZero\\lib\\site-packages\\IPython\\core\\pylabtools.py:152: UserWarning: Glyph 30475 (\\N{CJK UNIFIED IDEOGRAPH-770B}) missing from current font.\n",
      "  fig.canvas.print_figure(bytes_io, **kw)\n",
      "f:\\anaconda\\anaconda3\\envs\\DeltaZero\\lib\\site-packages\\IPython\\core\\pylabtools.py:152: UserWarning: Glyph 26102 (\\N{CJK UNIFIED IDEOGRAPH-65F6}) missing from current font.\n",
      "  fig.canvas.print_figure(bytes_io, **kw)\n",
      "f:\\anaconda\\anaconda3\\envs\\DeltaZero\\lib\\site-packages\\IPython\\core\\pylabtools.py:152: UserWarning: Glyph 38271 (\\N{CJK UNIFIED IDEOGRAPH-957F}) missing from current font.\n",
      "  fig.canvas.print_figure(bytes_io, **kw)\n",
      "f:\\anaconda\\anaconda3\\envs\\DeltaZero\\lib\\site-packages\\IPython\\core\\pylabtools.py:152: UserWarning: Glyph 27604 (\\N{CJK UNIFIED IDEOGRAPH-6BD4}) missing from current font.\n",
      "  fig.canvas.print_figure(bytes_io, **kw)\n",
      "f:\\anaconda\\anaconda3\\envs\\DeltaZero\\lib\\site-packages\\IPython\\core\\pylabtools.py:152: UserWarning: Glyph 20363 (\\N{CJK UNIFIED IDEOGRAPH-4F8B}) missing from current font.\n",
      "  fig.canvas.print_figure(bytes_io, **kw)\n",
      "f:\\anaconda\\anaconda3\\envs\\DeltaZero\\lib\\site-packages\\IPython\\core\\pylabtools.py:152: UserWarning: Glyph 20998 (\\N{CJK UNIFIED IDEOGRAPH-5206}) missing from current font.\n",
      "  fig.canvas.print_figure(bytes_io, **kw)\n",
      "f:\\anaconda\\anaconda3\\envs\\DeltaZero\\lib\\site-packages\\IPython\\core\\pylabtools.py:152: UserWarning: Glyph 24067 (\\N{CJK UNIFIED IDEOGRAPH-5E03}) missing from current font.\n",
      "  fig.canvas.print_figure(bytes_io, **kw)\n"
     ]
    },
    {
     "data": {
      "image/png": "[encoded data removed]",
      "text/plain": [
       "<Figure size 1000x600 with 1 Axes>"
      ]
     },
     "metadata": {},
     "output_type": "display_data"
    }
   ],
   "source": [
    "import matplotlib.pyplot as plt\n",
    "import seaborn as sns\n",
    "\n",
    "plt.figure(figsize=(10, 6))\n",
    "sns.histplot(data=df, x='watch_ratio', bins=50)\n",
    "plt.title('观看时长比例分布')\n",
    "plt.xlabel('观看时长比例')\n",
    "plt.ylabel('频数')\n",
    "plt.show()"
   ]
  },
  {
   "cell_type": "code",
   "execution_count": null,
   "metadata": {},
   "outputs": [],
   "source": []
  }
 ],
 "metadata": {
  "kernelspec": {
   "display_name": "DeltaZero",
   "language": "python",
   "name": "python3"
  },
  "language_info": {
   "codemirror_mode": {
    "name": "ipython",
    "version": 3
   },
   "file_extension": ".py",
   "mimetype": "text/x-python",
   "name": "python",
   "nbconvert_exporter": "python",
   "pygments_lexer": "ipython3",
   "version": "3.10.12"
  }
 },
 "nbformat": 4,
 "nbformat_minor": 2
}
